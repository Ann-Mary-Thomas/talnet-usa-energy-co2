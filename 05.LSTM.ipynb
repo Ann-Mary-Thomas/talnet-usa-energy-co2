{
 "cells": [
  {
   "cell_type": "code",
   "execution_count": 1,
   "id": "6d147029-64a6-4fdb-860a-e641d12e5533",
   "metadata": {},
   "outputs": [],
   "source": [
    "import pandas as pd\n",
    "import numpy as np\n",
    "import matplotlib.pyplot as plt\n",
    "import seaborn as sns\n",
    "from sklearn.preprocessing import MinMaxScaler\n",
    "from tensorflow.keras.models import Sequential\n",
    "from tensorflow.keras.layers import LSTM, Dense,SimpleRNN\n",
    "import tensorflow as tf\n"
   ]
  },
  {
   "cell_type": "code",
   "execution_count": 2,
   "id": "7c024ff9-a523-4e04-bf26-69e425360d9e",
   "metadata": {},
   "outputs": [
    {
     "data": {
      "text/html": [
       "<div>\n",
       "<style scoped>\n",
       "    .dataframe tbody tr th:only-of-type {\n",
       "        vertical-align: middle;\n",
       "    }\n",
       "\n",
       "    .dataframe tbody tr th {\n",
       "        vertical-align: top;\n",
       "    }\n",
       "\n",
       "    .dataframe thead th {\n",
       "        text-align: right;\n",
       "    }\n",
       "</style>\n",
       "<table border=\"1\" class=\"dataframe\">\n",
       "  <thead>\n",
       "    <tr style=\"text-align: right;\">\n",
       "      <th></th>\n",
       "      <th>Date</th>\n",
       "      <th>Hour</th>\n",
       "      <th>Demand</th>\n",
       "      <th>Net_Generation</th>\n",
       "      <th>Total_Interchange</th>\n",
       "      <th>Forecasted_Demand</th>\n",
       "      <th>Coal_Gen</th>\n",
       "      <th>Gas_Gen</th>\n",
       "      <th>Nuclear_Gen</th>\n",
       "      <th>Hydro_Gen</th>\n",
       "      <th>...</th>\n",
       "      <th>Rolling_Mean_24H</th>\n",
       "      <th>Rolling_Mean_3H_Emission</th>\n",
       "      <th>Rolling_Mean_24H_Emission</th>\n",
       "      <th>Total_Gen</th>\n",
       "      <th>Renewable_Pct</th>\n",
       "      <th>Fossil_Pct</th>\n",
       "      <th>Renewable_Demand</th>\n",
       "      <th>Fossil_Demand</th>\n",
       "      <th>Demand_diff1</th>\n",
       "      <th>Demand_diff24</th>\n",
       "    </tr>\n",
       "  </thead>\n",
       "  <tbody>\n",
       "    <tr>\n",
       "      <th>0</th>\n",
       "      <td>2018-07-01 17:00:00</td>\n",
       "      <td>12.5</td>\n",
       "      <td>28976.042</td>\n",
       "      <td>21138.304</td>\n",
       "      <td>-6528.677</td>\n",
       "      <td>28386.220</td>\n",
       "      <td>8.764</td>\n",
       "      <td>7725.951</td>\n",
       "      <td>2261.073</td>\n",
       "      <td>3089.741</td>\n",
       "      <td>...</td>\n",
       "      <td>42604.509</td>\n",
       "      <td>27096.582</td>\n",
       "      <td>17297.042</td>\n",
       "      <td>17521.203</td>\n",
       "      <td>42.950</td>\n",
       "      <td>44.145</td>\n",
       "      <td>1244530.613</td>\n",
       "      <td>1279144.078</td>\n",
       "      <td>89.458</td>\n",
       "      <td>172.875</td>\n",
       "    </tr>\n",
       "    <tr>\n",
       "      <th>1</th>\n",
       "      <td>2018-07-01 18:00:00</td>\n",
       "      <td>12.5</td>\n",
       "      <td>29065.500</td>\n",
       "      <td>21217.885</td>\n",
       "      <td>-6554.521</td>\n",
       "      <td>28486.010</td>\n",
       "      <td>8.792</td>\n",
       "      <td>7761.917</td>\n",
       "      <td>2261.062</td>\n",
       "      <td>3110.594</td>\n",
       "      <td>...</td>\n",
       "      <td>41847.195</td>\n",
       "      <td>8244.812</td>\n",
       "      <td>17052.778</td>\n",
       "      <td>17577.073</td>\n",
       "      <td>42.927</td>\n",
       "      <td>44.209</td>\n",
       "      <td>1247693.394</td>\n",
       "      <td>1284966.639</td>\n",
       "      <td>89.458</td>\n",
       "      <td>172.875</td>\n",
       "    </tr>\n",
       "    <tr>\n",
       "      <th>2</th>\n",
       "      <td>2018-07-01 19:00:00</td>\n",
       "      <td>12.5</td>\n",
       "      <td>29154.958</td>\n",
       "      <td>21297.467</td>\n",
       "      <td>-6580.365</td>\n",
       "      <td>28585.800</td>\n",
       "      <td>8.819</td>\n",
       "      <td>7797.882</td>\n",
       "      <td>2261.052</td>\n",
       "      <td>3131.446</td>\n",
       "      <td>...</td>\n",
       "      <td>45629.697</td>\n",
       "      <td>24266.186</td>\n",
       "      <td>19327.269</td>\n",
       "      <td>17632.943</td>\n",
       "      <td>42.904</td>\n",
       "      <td>44.273</td>\n",
       "      <td>1250856.313</td>\n",
       "      <td>1290788.823</td>\n",
       "      <td>89.458</td>\n",
       "      <td>172.875</td>\n",
       "    </tr>\n",
       "    <tr>\n",
       "      <th>3</th>\n",
       "      <td>2018-07-01 20:00:00</td>\n",
       "      <td>12.5</td>\n",
       "      <td>29244.417</td>\n",
       "      <td>21377.049</td>\n",
       "      <td>-6606.208</td>\n",
       "      <td>28685.590</td>\n",
       "      <td>8.847</td>\n",
       "      <td>7833.847</td>\n",
       "      <td>2261.042</td>\n",
       "      <td>3152.299</td>\n",
       "      <td>...</td>\n",
       "      <td>48609.446</td>\n",
       "      <td>6436.826</td>\n",
       "      <td>20904.933</td>\n",
       "      <td>17688.812</td>\n",
       "      <td>42.881</td>\n",
       "      <td>44.337</td>\n",
       "      <td>1254019.366</td>\n",
       "      <td>1296610.635</td>\n",
       "      <td>89.458</td>\n",
       "      <td>172.875</td>\n",
       "    </tr>\n",
       "    <tr>\n",
       "      <th>4</th>\n",
       "      <td>2018-07-01 21:00:00</td>\n",
       "      <td>12.5</td>\n",
       "      <td>29333.875</td>\n",
       "      <td>21456.630</td>\n",
       "      <td>-6632.052</td>\n",
       "      <td>28785.380</td>\n",
       "      <td>8.875</td>\n",
       "      <td>7869.812</td>\n",
       "      <td>2261.031</td>\n",
       "      <td>3173.151</td>\n",
       "      <td>...</td>\n",
       "      <td>49142.567</td>\n",
       "      <td>6326.084</td>\n",
       "      <td>21205.564</td>\n",
       "      <td>17744.682</td>\n",
       "      <td>42.858</td>\n",
       "      <td>44.400</td>\n",
       "      <td>1257182.553</td>\n",
       "      <td>1302432.078</td>\n",
       "      <td>89.458</td>\n",
       "      <td>172.875</td>\n",
       "    </tr>\n",
       "    <tr>\n",
       "      <th>...</th>\n",
       "      <td>...</td>\n",
       "      <td>...</td>\n",
       "      <td>...</td>\n",
       "      <td>...</td>\n",
       "      <td>...</td>\n",
       "      <td>...</td>\n",
       "      <td>...</td>\n",
       "      <td>...</td>\n",
       "      <td>...</td>\n",
       "      <td>...</td>\n",
       "      <td>...</td>\n",
       "      <td>...</td>\n",
       "      <td>...</td>\n",
       "      <td>...</td>\n",
       "      <td>...</td>\n",
       "      <td>...</td>\n",
       "      <td>...</td>\n",
       "      <td>...</td>\n",
       "      <td>...</td>\n",
       "      <td>...</td>\n",
       "      <td>...</td>\n",
       "    </tr>\n",
       "    <tr>\n",
       "      <th>525055</th>\n",
       "      <td>2023-06-29 20:00:00</td>\n",
       "      <td>12.5</td>\n",
       "      <td>64967.778</td>\n",
       "      <td>65025.979</td>\n",
       "      <td>58.042</td>\n",
       "      <td>65732.083</td>\n",
       "      <td>8989.486</td>\n",
       "      <td>27552.910</td>\n",
       "      <td>4647.181</td>\n",
       "      <td>32.896</td>\n",
       "      <td>...</td>\n",
       "      <td>49409.849</td>\n",
       "      <td>30361.664</td>\n",
       "      <td>19267.173</td>\n",
       "      <td>46077.069</td>\n",
       "      <td>10.607</td>\n",
       "      <td>79.307</td>\n",
       "      <td>689127.079</td>\n",
       "      <td>5152407.218</td>\n",
       "      <td>-65.642</td>\n",
       "      <td>-1360.549</td>\n",
       "    </tr>\n",
       "    <tr>\n",
       "      <th>525056</th>\n",
       "      <td>2023-06-29 21:00:00</td>\n",
       "      <td>12.5</td>\n",
       "      <td>64902.135</td>\n",
       "      <td>64963.474</td>\n",
       "      <td>61.177</td>\n",
       "      <td>65699.302</td>\n",
       "      <td>8993.729</td>\n",
       "      <td>27593.401</td>\n",
       "      <td>4647.292</td>\n",
       "      <td>33.224</td>\n",
       "      <td>...</td>\n",
       "      <td>46137.266</td>\n",
       "      <td>13730.128</td>\n",
       "      <td>18243.586</td>\n",
       "      <td>46106.208</td>\n",
       "      <td>10.566</td>\n",
       "      <td>79.354</td>\n",
       "      <td>685784.748</td>\n",
       "      <td>5150245.412</td>\n",
       "      <td>-65.642</td>\n",
       "      <td>-1414.266</td>\n",
       "    </tr>\n",
       "    <tr>\n",
       "      <th>525057</th>\n",
       "      <td>2023-06-29 22:00:00</td>\n",
       "      <td>12.5</td>\n",
       "      <td>64836.493</td>\n",
       "      <td>64900.969</td>\n",
       "      <td>64.312</td>\n",
       "      <td>65666.521</td>\n",
       "      <td>8997.972</td>\n",
       "      <td>27633.892</td>\n",
       "      <td>4647.403</td>\n",
       "      <td>33.552</td>\n",
       "      <td>...</td>\n",
       "      <td>45454.091</td>\n",
       "      <td>12961.713</td>\n",
       "      <td>16905.630</td>\n",
       "      <td>46135.347</td>\n",
       "      <td>10.526</td>\n",
       "      <td>79.401</td>\n",
       "      <td>682451.108</td>\n",
       "      <td>5148073.607</td>\n",
       "      <td>-65.642</td>\n",
       "      <td>-1467.983</td>\n",
       "    </tr>\n",
       "    <tr>\n",
       "      <th>525058</th>\n",
       "      <td>2023-06-29 23:00:00</td>\n",
       "      <td>12.5</td>\n",
       "      <td>64770.851</td>\n",
       "      <td>64838.464</td>\n",
       "      <td>67.448</td>\n",
       "      <td>65633.740</td>\n",
       "      <td>9002.215</td>\n",
       "      <td>27674.384</td>\n",
       "      <td>4647.514</td>\n",
       "      <td>33.880</td>\n",
       "      <td>...</td>\n",
       "      <td>39779.804</td>\n",
       "      <td>15939.369</td>\n",
       "      <td>14414.641</td>\n",
       "      <td>46164.486</td>\n",
       "      <td>10.485</td>\n",
       "      <td>79.448</td>\n",
       "      <td>679126.143</td>\n",
       "      <td>5145891.821</td>\n",
       "      <td>-65.642</td>\n",
       "      <td>-1521.700</td>\n",
       "    </tr>\n",
       "    <tr>\n",
       "      <th>525059</th>\n",
       "      <td>2023-06-30 00:00:00</td>\n",
       "      <td>12.5</td>\n",
       "      <td>64705.208</td>\n",
       "      <td>64775.958</td>\n",
       "      <td>70.583</td>\n",
       "      <td>65600.958</td>\n",
       "      <td>9006.458</td>\n",
       "      <td>27714.875</td>\n",
       "      <td>4647.625</td>\n",
       "      <td>34.208</td>\n",
       "      <td>...</td>\n",
       "      <td>44508.672</td>\n",
       "      <td>11586.410</td>\n",
       "      <td>17087.679</td>\n",
       "      <td>46193.625</td>\n",
       "      <td>10.444</td>\n",
       "      <td>79.494</td>\n",
       "      <td>675809.837</td>\n",
       "      <td>5143700.075</td>\n",
       "      <td>-65.642</td>\n",
       "      <td>-1575.417</td>\n",
       "    </tr>\n",
       "  </tbody>\n",
       "</table>\n",
       "<p>87561 rows × 45 columns</p>\n",
       "</div>"
      ],
      "text/plain": [
       "                       Date  Hour     Demand  Net_Generation  \\\n",
       "0       2018-07-01 17:00:00  12.5  28976.042       21138.304   \n",
       "1       2018-07-01 18:00:00  12.5  29065.500       21217.885   \n",
       "2       2018-07-01 19:00:00  12.5  29154.958       21297.467   \n",
       "3       2018-07-01 20:00:00  12.5  29244.417       21377.049   \n",
       "4       2018-07-01 21:00:00  12.5  29333.875       21456.630   \n",
       "...                     ...   ...        ...             ...   \n",
       "525055  2023-06-29 20:00:00  12.5  64967.778       65025.979   \n",
       "525056  2023-06-29 21:00:00  12.5  64902.135       64963.474   \n",
       "525057  2023-06-29 22:00:00  12.5  64836.493       64900.969   \n",
       "525058  2023-06-29 23:00:00  12.5  64770.851       64838.464   \n",
       "525059  2023-06-30 00:00:00  12.5  64705.208       64775.958   \n",
       "\n",
       "        Total_Interchange  Forecasted_Demand  Coal_Gen    Gas_Gen  \\\n",
       "0               -6528.677          28386.220     8.764   7725.951   \n",
       "1               -6554.521          28486.010     8.792   7761.917   \n",
       "2               -6580.365          28585.800     8.819   7797.882   \n",
       "3               -6606.208          28685.590     8.847   7833.847   \n",
       "4               -6632.052          28785.380     8.875   7869.812   \n",
       "...                   ...                ...       ...        ...   \n",
       "525055             58.042          65732.083  8989.486  27552.910   \n",
       "525056             61.177          65699.302  8993.729  27593.401   \n",
       "525057             64.312          65666.521  8997.972  27633.892   \n",
       "525058             67.448          65633.740  9002.215  27674.384   \n",
       "525059             70.583          65600.958  9006.458  27714.875   \n",
       "\n",
       "        Nuclear_Gen  Hydro_Gen  ...  Rolling_Mean_24H  \\\n",
       "0          2261.073   3089.741  ...         42604.509   \n",
       "1          2261.062   3110.594  ...         41847.195   \n",
       "2          2261.052   3131.446  ...         45629.697   \n",
       "3          2261.042   3152.299  ...         48609.446   \n",
       "4          2261.031   3173.151  ...         49142.567   \n",
       "...             ...        ...  ...               ...   \n",
       "525055     4647.181     32.896  ...         49409.849   \n",
       "525056     4647.292     33.224  ...         46137.266   \n",
       "525057     4647.403     33.552  ...         45454.091   \n",
       "525058     4647.514     33.880  ...         39779.804   \n",
       "525059     4647.625     34.208  ...         44508.672   \n",
       "\n",
       "        Rolling_Mean_3H_Emission  Rolling_Mean_24H_Emission  Total_Gen  \\\n",
       "0                      27096.582                  17297.042  17521.203   \n",
       "1                       8244.812                  17052.778  17577.073   \n",
       "2                      24266.186                  19327.269  17632.943   \n",
       "3                       6436.826                  20904.933  17688.812   \n",
       "4                       6326.084                  21205.564  17744.682   \n",
       "...                          ...                        ...        ...   \n",
       "525055                 30361.664                  19267.173  46077.069   \n",
       "525056                 13730.128                  18243.586  46106.208   \n",
       "525057                 12961.713                  16905.630  46135.347   \n",
       "525058                 15939.369                  14414.641  46164.486   \n",
       "525059                 11586.410                  17087.679  46193.625   \n",
       "\n",
       "        Renewable_Pct  Fossil_Pct  Renewable_Demand  Fossil_Demand  \\\n",
       "0              42.950      44.145       1244530.613    1279144.078   \n",
       "1              42.927      44.209       1247693.394    1284966.639   \n",
       "2              42.904      44.273       1250856.313    1290788.823   \n",
       "3              42.881      44.337       1254019.366    1296610.635   \n",
       "4              42.858      44.400       1257182.553    1302432.078   \n",
       "...               ...         ...               ...            ...   \n",
       "525055         10.607      79.307        689127.079    5152407.218   \n",
       "525056         10.566      79.354        685784.748    5150245.412   \n",
       "525057         10.526      79.401        682451.108    5148073.607   \n",
       "525058         10.485      79.448        679126.143    5145891.821   \n",
       "525059         10.444      79.494        675809.837    5143700.075   \n",
       "\n",
       "        Demand_diff1  Demand_diff24  \n",
       "0             89.458        172.875  \n",
       "1             89.458        172.875  \n",
       "2             89.458        172.875  \n",
       "3             89.458        172.875  \n",
       "4             89.458        172.875  \n",
       "...              ...            ...  \n",
       "525055       -65.642      -1360.549  \n",
       "525056       -65.642      -1414.266  \n",
       "525057       -65.642      -1467.983  \n",
       "525058       -65.642      -1521.700  \n",
       "525059       -65.642      -1575.417  \n",
       "\n",
       "[87561 rows x 45 columns]"
      ]
     },
     "execution_count": 2,
     "metadata": {},
     "output_type": "execute_result"
    }
   ],
   "source": [
    "df = pd.read_csv(r\"C:\\Users\\rosem\\Downloads\\Paper_works\\CSVs\\Feature_engg_Paper2.csv\")\n",
    "df = df[df['Region'].isin(['CAL','TEX'])]\n",
    "df"
   ]
  },
  {
   "cell_type": "markdown",
   "id": "92c8917d-8318-48f8-ae58-3a6f16f67ae6",
   "metadata": {},
   "source": [
    "# 80-20"
   ]
  },
  {
   "cell_type": "code",
   "execution_count": 4,
   "id": "194ec8e5-e88f-4d11-b8a3-eb170926ff5d",
   "metadata": {},
   "outputs": [
    {
     "name": "stderr",
     "output_type": "stream",
     "text": [
      "C:\\Users\\rosem\\AppData\\Roaming\\Python\\Python312\\site-packages\\keras\\src\\layers\\rnn\\rnn.py:199: UserWarning: Do not pass an `input_shape`/`input_dim` argument to a layer. When using Sequential models, prefer using an `Input(shape)` object as the first layer in the model instead.\n",
      "  super().__init__(**kwargs)\n"
     ]
    },
    {
     "name": "stdout",
     "output_type": "stream",
     "text": [
      "\u001b[1m274/274\u001b[0m \u001b[32m━━━━━━━━━━━━━━━━━━━━\u001b[0m\u001b[37m\u001b[0m \u001b[1m3s\u001b[0m 8ms/step\n"
     ]
    },
    {
     "name": "stderr",
     "output_type": "stream",
     "text": [
      "C:\\Users\\rosem\\AppData\\Roaming\\Python\\Python312\\site-packages\\keras\\src\\layers\\rnn\\rnn.py:199: UserWarning: Do not pass an `input_shape`/`input_dim` argument to a layer. When using Sequential models, prefer using an `Input(shape)` object as the first layer in the model instead.\n",
      "  super().__init__(**kwargs)\n"
     ]
    },
    {
     "name": "stdout",
     "output_type": "stream",
     "text": [
      "\u001b[1m274/274\u001b[0m \u001b[32m━━━━━━━━━━━━━━━━━━━━\u001b[0m\u001b[37m\u001b[0m \u001b[1m3s\u001b[0m 8ms/step\n"
     ]
    },
    {
     "name": "stderr",
     "output_type": "stream",
     "text": [
      "C:\\Users\\rosem\\AppData\\Roaming\\Python\\Python312\\site-packages\\keras\\src\\layers\\rnn\\rnn.py:199: UserWarning: Do not pass an `input_shape`/`input_dim` argument to a layer. When using Sequential models, prefer using an `Input(shape)` object as the first layer in the model instead.\n",
      "  super().__init__(**kwargs)\n"
     ]
    },
    {
     "name": "stdout",
     "output_type": "stream",
     "text": [
      "\u001b[1m274/274\u001b[0m \u001b[32m━━━━━━━━━━━━━━━━━━━━\u001b[0m\u001b[37m\u001b[0m \u001b[1m3s\u001b[0m 8ms/step\n"
     ]
    },
    {
     "name": "stderr",
     "output_type": "stream",
     "text": [
      "C:\\Users\\rosem\\AppData\\Roaming\\Python\\Python312\\site-packages\\keras\\src\\layers\\rnn\\rnn.py:199: UserWarning: Do not pass an `input_shape`/`input_dim` argument to a layer. When using Sequential models, prefer using an `Input(shape)` object as the first layer in the model instead.\n",
      "  super().__init__(**kwargs)\n"
     ]
    },
    {
     "name": "stdout",
     "output_type": "stream",
     "text": [
      "\u001b[1m274/274\u001b[0m \u001b[32m━━━━━━━━━━━━━━━━━━━━\u001b[0m\u001b[37m\u001b[0m \u001b[1m3s\u001b[0m 9ms/step\n",
      "  Region  Epoch  MAE_Demand  RMSE_Demand  MAPE_Demand(%)     MAE_CO2  \\\n",
      "0    CAL      1  765.031135   940.916000        2.573330  204.353924   \n",
      "1    CAL      2  389.229736   472.010246        1.299197  224.041498   \n",
      "2    CAL      5  176.320161   255.536672        0.565540  176.145735   \n",
      "3    CAL     10  250.870155   285.450241        0.817473  185.174937   \n",
      "\n",
      "     RMSE_CO2  MAPE_CO2(%)  \n",
      "0  252.736606     4.180566  \n",
      "1  261.016209     4.722971  \n",
      "2  215.516196     3.639422  \n",
      "3  230.066275     3.429333  \n"
     ]
    }
   ],
   "source": [
    "from sklearn.metrics import mean_absolute_error, mean_squared_error\n",
    "# from sklearn.preprocessing import MinMaxScaler\n",
    "# import numpy as np\n",
    "# import pandas as pd\n",
    "# from tensorflow.keras.models import Sequential\n",
    "# from tensorflow.keras.layers import LSTM, Dense\n",
    "\n",
    "def mean_absolute_percentage_error(y_true, y_pred):\n",
    "    y_true, y_pred = np.array(y_true), np.array(y_pred)\n",
    "    return np.mean(np.abs((y_true - y_pred) / np.maximum(np.abs(y_true), 1e-6))) * 100\n",
    "\n",
    "region_code = 'CAL'   # or 'TEX' for Texas\n",
    "epochs_list = [1, 2, 5, 10]\n",
    "results = []\n",
    "\n",
    "# --- Use your full data, no grouping/aggregation ---\n",
    "region_df = df[df['Region'] == region_code].copy()\n",
    "region_df['Date'] = pd.to_datetime(region_df['Date'])\n",
    "region_df = region_df.sort_values('Date').reset_index(drop=True)\n",
    "\n",
    "feature_cols = [\n",
    "    'Hour', 'Month', 'DayOfWeek', 'Is_Weekend', 'DayOfYear', 'WeekOfYear',\n",
    "    'Season_Autumn', 'Season_Spring', 'Season_Summer', 'Season_Winter',\n",
    "    'Demand_Prev_Hour', 'Demand_Yesterday_Same_Hour', 'Demand_Last_Week_Same_Hour',\n",
    "    'Emission_Prev_Hour', 'Emission_Yesterday_Same_Hour', 'Emission_Last_Week_Same_Hour',\n",
    "    'Rolling_Mean_3H', 'Rolling_Mean_24H', 'Rolling_Mean_3H_Emission', 'Rolling_Mean_24H_Emission',\n",
    "    'Total_Gen', 'Renewable_Pct', 'Fossil_Pct', 'Renewable_Demand', 'Fossil_Demand', 'Demand_diff1', 'Demand_diff24'\n",
    "]\n",
    "target_cols = ['Demand', 'CO2_Total_Emissions']\n",
    "\n",
    "features = region_df[feature_cols]\n",
    "targets = region_df[target_cols]\n",
    "\n",
    "scaler_X = MinMaxScaler()\n",
    "scaler_y = MinMaxScaler()\n",
    "X_scaled = scaler_X.fit_transform(features)\n",
    "y_scaled = scaler_y.fit_transform(targets)\n",
    "\n",
    "def create_sequences(X, y, lookback=30):\n",
    "    Xs, ys = [], []\n",
    "    for i in range(lookback, len(X)):\n",
    "        Xs.append(X[i-lookback:i])\n",
    "        ys.append(y[i])\n",
    "    return np.array(Xs), np.array(ys)\n",
    "\n",
    "X_seq, y_seq = create_sequences(X_scaled, y_scaled)\n",
    "split = int(0.8 * len(X_seq))\n",
    "X_train, X_test = X_seq[:split], X_seq[split:]\n",
    "y_train, y_test = y_seq[:split], y_seq[split:]\n",
    "\n",
    "for epoch in epochs_list:\n",
    "    model = Sequential([\n",
    "        LSTM(64, input_shape=(X_train.shape[1], X_train.shape[2])),\n",
    "        Dense(2)\n",
    "    ])\n",
    "    model.compile(optimizer='adam', loss='mse')\n",
    "    model.fit(X_train, y_train, epochs=epoch, batch_size=64, verbose=0)\n",
    "    y_pred_scaled = model.predict(X_test)\n",
    "    y_pred = scaler_y.inverse_transform(y_pred_scaled)\n",
    "    y_true = scaler_y.inverse_transform(y_test)\n",
    "\n",
    "    mae_demand = mean_absolute_error(y_true[:, 0], y_pred[:, 0])\n",
    "    rmse_demand = np.sqrt(mean_squared_error(y_true[:, 0], y_pred[:, 0]))\n",
    "    mape_demand = mean_absolute_percentage_error(y_true[:, 0], y_pred[:, 0])\n",
    "    mae_co2 = mean_absolute_error(y_true[:, 1], y_pred[:, 1])\n",
    "    rmse_co2 = np.sqrt(mean_squared_error(y_true[:, 1], y_pred[:, 1]))\n",
    "    mape_co2 = mean_absolute_percentage_error(y_true[:, 1], y_pred[:, 1])\n",
    "\n",
    "    results.append({\n",
    "        'Region': region_code,\n",
    "        'Epoch': epoch,\n",
    "        'MAE_Demand': mae_demand,\n",
    "        'RMSE_Demand': rmse_demand,\n",
    "        'MAPE_Demand(%)': mape_demand,\n",
    "        'MAE_CO2': mae_co2,\n",
    "        'RMSE_CO2': rmse_co2,\n",
    "        'MAPE_CO2(%)': mape_co2\n",
    "    })\n",
    "\n",
    "results_df = pd.DataFrame(results)\n",
    "print(results_df)\n"
   ]
  },
  {
   "cell_type": "markdown",
   "id": "e9c73196-744f-4c1c-89aa-8e410ecb0df1",
   "metadata": {},
   "source": [
    "# 75-25"
   ]
  },
  {
   "cell_type": "code",
   "execution_count": 5,
   "id": "1465b24d-c3af-44e5-a52f-8946913a6307",
   "metadata": {},
   "outputs": [
    {
     "name": "stderr",
     "output_type": "stream",
     "text": [
      "C:\\Users\\rosem\\AppData\\Roaming\\Python\\Python312\\site-packages\\keras\\src\\layers\\rnn\\rnn.py:199: UserWarning: Do not pass an `input_shape`/`input_dim` argument to a layer. When using Sequential models, prefer using an `Input(shape)` object as the first layer in the model instead.\n",
      "  super().__init__(**kwargs)\n"
     ]
    },
    {
     "name": "stdout",
     "output_type": "stream",
     "text": [
      "\u001b[1m342/342\u001b[0m \u001b[32m━━━━━━━━━━━━━━━━━━━━\u001b[0m\u001b[37m\u001b[0m \u001b[1m1s\u001b[0m 3ms/step\n"
     ]
    },
    {
     "name": "stderr",
     "output_type": "stream",
     "text": [
      "C:\\Users\\rosem\\AppData\\Roaming\\Python\\Python312\\site-packages\\keras\\src\\layers\\rnn\\rnn.py:199: UserWarning: Do not pass an `input_shape`/`input_dim` argument to a layer. When using Sequential models, prefer using an `Input(shape)` object as the first layer in the model instead.\n",
      "  super().__init__(**kwargs)\n"
     ]
    },
    {
     "name": "stdout",
     "output_type": "stream",
     "text": [
      "\u001b[1m342/342\u001b[0m \u001b[32m━━━━━━━━━━━━━━━━━━━━\u001b[0m\u001b[37m\u001b[0m \u001b[1m1s\u001b[0m 3ms/step\n"
     ]
    },
    {
     "name": "stderr",
     "output_type": "stream",
     "text": [
      "C:\\Users\\rosem\\AppData\\Roaming\\Python\\Python312\\site-packages\\keras\\src\\layers\\rnn\\rnn.py:199: UserWarning: Do not pass an `input_shape`/`input_dim` argument to a layer. When using Sequential models, prefer using an `Input(shape)` object as the first layer in the model instead.\n",
      "  super().__init__(**kwargs)\n"
     ]
    },
    {
     "name": "stdout",
     "output_type": "stream",
     "text": [
      "\u001b[1m342/342\u001b[0m \u001b[32m━━━━━━━━━━━━━━━━━━━━\u001b[0m\u001b[37m\u001b[0m \u001b[1m1s\u001b[0m 4ms/step\n"
     ]
    },
    {
     "name": "stderr",
     "output_type": "stream",
     "text": [
      "C:\\Users\\rosem\\AppData\\Roaming\\Python\\Python312\\site-packages\\keras\\src\\layers\\rnn\\rnn.py:199: UserWarning: Do not pass an `input_shape`/`input_dim` argument to a layer. When using Sequential models, prefer using an `Input(shape)` object as the first layer in the model instead.\n",
      "  super().__init__(**kwargs)\n"
     ]
    },
    {
     "name": "stdout",
     "output_type": "stream",
     "text": [
      "\u001b[1m342/342\u001b[0m \u001b[32m━━━━━━━━━━━━━━━━━━━━\u001b[0m\u001b[37m\u001b[0m \u001b[1m1s\u001b[0m 4ms/step\n",
      "  Region  Epoch  MAE_Demand  RMSE_Demand  MAPE_Demand(%)     MAE_CO2  \\\n",
      "0    CAL      1  452.745590   565.376855        1.525404  233.382924   \n",
      "1    CAL      2  615.772314   732.058239        2.113910  177.478503   \n",
      "2    CAL      5  157.994897   225.247661        0.508859  179.516823   \n",
      "3    CAL     10  213.723218   267.006626        0.686355  254.627428   \n",
      "\n",
      "     RMSE_CO2  MAPE_CO2(%)  \n",
      "0  281.565911     5.077240  \n",
      "1  219.857412     3.908038  \n",
      "2  216.992924     4.000956  \n",
      "3  283.957982     5.578378  \n"
     ]
    }
   ],
   "source": [
    "from sklearn.metrics import mean_absolute_error, mean_squared_error\n",
    "\n",
    "\n",
    "def mean_absolute_percentage_error(y_true, y_pred):\n",
    "    y_true, y_pred = np.array(y_true), np.array(y_pred)\n",
    "    return np.mean(np.abs((y_true - y_pred) / np.maximum(np.abs(y_true), 1e-6))) * 100\n",
    "\n",
    "region_code = 'CAL'   # or 'TEX' for Texas\n",
    "epochs_list = [1, 2, 5, 10]\n",
    "results = []\n",
    "\n",
    "# --- Use your full data, no grouping/aggregation ---\n",
    "region_df = df[df['Region'] == region_code].copy()\n",
    "region_df['Date'] = pd.to_datetime(region_df['Date'])\n",
    "region_df = region_df.sort_values('Date').reset_index(drop=True)\n",
    "\n",
    "feature_cols = [\n",
    "    'Hour', 'Month', 'DayOfWeek', 'Is_Weekend', 'DayOfYear', 'WeekOfYear',\n",
    "    'Season_Autumn', 'Season_Spring', 'Season_Summer', 'Season_Winter',\n",
    "    'Demand_Prev_Hour', 'Demand_Yesterday_Same_Hour', 'Demand_Last_Week_Same_Hour',\n",
    "    'Emission_Prev_Hour', 'Emission_Yesterday_Same_Hour', 'Emission_Last_Week_Same_Hour',\n",
    "    'Rolling_Mean_3H', 'Rolling_Mean_24H', 'Rolling_Mean_3H_Emission', 'Rolling_Mean_24H_Emission',\n",
    "    'Total_Gen', 'Renewable_Pct', 'Fossil_Pct', 'Renewable_Demand', 'Fossil_Demand', 'Demand_diff1', 'Demand_diff24'\n",
    "]\n",
    "target_cols = ['Demand', 'CO2_Total_Emissions']\n",
    "\n",
    "features = region_df[feature_cols]\n",
    "targets = region_df[target_cols]\n",
    "\n",
    "scaler_X = MinMaxScaler()\n",
    "scaler_y = MinMaxScaler()\n",
    "X_scaled = scaler_X.fit_transform(features)\n",
    "y_scaled = scaler_y.fit_transform(targets)\n",
    "\n",
    "def create_sequences(X, y, lookback=30):\n",
    "    Xs, ys = [], []\n",
    "    for i in range(lookback, len(X)):\n",
    "        Xs.append(X[i-lookback:i])\n",
    "        ys.append(y[i])\n",
    "    return np.array(Xs), np.array(ys)\n",
    "\n",
    "X_seq, y_seq = create_sequences(X_scaled, y_scaled)\n",
    "split = int(0.75 * len(X_seq))\n",
    "X_train, X_test = X_seq[:split], X_seq[split:]\n",
    "y_train, y_test = y_seq[:split], y_seq[split:]\n",
    "\n",
    "for epoch in epochs_list:\n",
    "    model = Sequential([\n",
    "        LSTM(64, input_shape=(X_train.shape[1], X_train.shape[2])),\n",
    "        Dense(2)\n",
    "    ])\n",
    "    model.compile(optimizer='adam', loss='mse')\n",
    "    model.fit(X_train, y_train, epochs=epoch, batch_size=64, verbose=0)\n",
    "    y_pred_scaled = model.predict(X_test)\n",
    "    y_pred = scaler_y.inverse_transform(y_pred_scaled)\n",
    "    y_true = scaler_y.inverse_transform(y_test)\n",
    "\n",
    "    mae_demand = mean_absolute_error(y_true[:, 0], y_pred[:, 0])\n",
    "    rmse_demand = np.sqrt(mean_squared_error(y_true[:, 0], y_pred[:, 0]))\n",
    "    mape_demand = mean_absolute_percentage_error(y_true[:, 0], y_pred[:, 0])\n",
    "    mae_co2 = mean_absolute_error(y_true[:, 1], y_pred[:, 1])\n",
    "    rmse_co2 = np.sqrt(mean_squared_error(y_true[:, 1], y_pred[:, 1]))\n",
    "    mape_co2 = mean_absolute_percentage_error(y_true[:, 1], y_pred[:, 1])\n",
    "\n",
    "    results.append({\n",
    "        'Region': region_code,\n",
    "        'Epoch': epoch,\n",
    "        'MAE_Demand': mae_demand,\n",
    "        'RMSE_Demand': rmse_demand,\n",
    "        'MAPE_Demand(%)': mape_demand,\n",
    "        'MAE_CO2': mae_co2,\n",
    "        'RMSE_CO2': rmse_co2,\n",
    "        'MAPE_CO2(%)': mape_co2\n",
    "    })\n",
    "\n",
    "results_df = pd.DataFrame(results)\n",
    "print(results_df)\n"
   ]
  },
  {
   "cell_type": "code",
   "execution_count": 7,
   "id": "f904f900-b57e-4c02-9548-e9eacfd1188c",
   "metadata": {},
   "outputs": [
    {
     "name": "stderr",
     "output_type": "stream",
     "text": [
      "C:\\Users\\rosem\\AppData\\Roaming\\Python\\Python312\\site-packages\\keras\\src\\layers\\rnn\\rnn.py:199: UserWarning: Do not pass an `input_shape`/`input_dim` argument to a layer. When using Sequential models, prefer using an `Input(shape)` object as the first layer in the model instead.\n",
      "  super().__init__(**kwargs)\n"
     ]
    },
    {
     "name": "stdout",
     "output_type": "stream",
     "text": [
      "\u001b[1m411/411\u001b[0m \u001b[32m━━━━━━━━━━━━━━━━━━━━\u001b[0m\u001b[37m\u001b[0m \u001b[1m1s\u001b[0m 3ms/step\n"
     ]
    },
    {
     "name": "stderr",
     "output_type": "stream",
     "text": [
      "C:\\Users\\rosem\\AppData\\Roaming\\Python\\Python312\\site-packages\\keras\\src\\layers\\rnn\\rnn.py:199: UserWarning: Do not pass an `input_shape`/`input_dim` argument to a layer. When using Sequential models, prefer using an `Input(shape)` object as the first layer in the model instead.\n",
      "  super().__init__(**kwargs)\n"
     ]
    },
    {
     "name": "stdout",
     "output_type": "stream",
     "text": [
      "\u001b[1m411/411\u001b[0m \u001b[32m━━━━━━━━━━━━━━━━━━━━\u001b[0m\u001b[37m\u001b[0m \u001b[1m2s\u001b[0m 3ms/step\n"
     ]
    },
    {
     "name": "stderr",
     "output_type": "stream",
     "text": [
      "C:\\Users\\rosem\\AppData\\Roaming\\Python\\Python312\\site-packages\\keras\\src\\layers\\rnn\\rnn.py:199: UserWarning: Do not pass an `input_shape`/`input_dim` argument to a layer. When using Sequential models, prefer using an `Input(shape)` object as the first layer in the model instead.\n",
      "  super().__init__(**kwargs)\n"
     ]
    },
    {
     "name": "stdout",
     "output_type": "stream",
     "text": [
      "\u001b[1m411/411\u001b[0m \u001b[32m━━━━━━━━━━━━━━━━━━━━\u001b[0m\u001b[37m\u001b[0m \u001b[1m2s\u001b[0m 4ms/step\n"
     ]
    },
    {
     "name": "stderr",
     "output_type": "stream",
     "text": [
      "C:\\Users\\rosem\\AppData\\Roaming\\Python\\Python312\\site-packages\\keras\\src\\layers\\rnn\\rnn.py:199: UserWarning: Do not pass an `input_shape`/`input_dim` argument to a layer. When using Sequential models, prefer using an `Input(shape)` object as the first layer in the model instead.\n",
      "  super().__init__(**kwargs)\n"
     ]
    },
    {
     "name": "stdout",
     "output_type": "stream",
     "text": [
      "\u001b[1m411/411\u001b[0m \u001b[32m━━━━━━━━━━━━━━━━━━━━\u001b[0m\u001b[37m\u001b[0m \u001b[1m2s\u001b[0m 4ms/step\n",
      "  Region  Epoch  MAE_Demand  RMSE_Demand  MAPE_Demand(%)     MAE_CO2  \\\n",
      "0    CAL      1  655.464675   837.255182        2.253452  224.220631   \n",
      "1    CAL      2  437.372985   582.741505        1.483881  247.984798   \n",
      "2    CAL      5  306.594937   375.514398        0.999819  267.594726   \n",
      "3    CAL     10  258.833208   304.138362        0.866819  281.991604   \n",
      "\n",
      "     RMSE_CO2  MAPE_CO2(%)  \n",
      "0  288.166423     5.000464  \n",
      "1  293.336551     5.753386  \n",
      "2  303.455486     5.894369  \n",
      "3  324.086906     6.284939  \n"
     ]
    }
   ],
   "source": [
    "from sklearn.metrics import mean_absolute_error, mean_squared_error\n",
    "\n",
    "def mean_absolute_percentage_error(y_true, y_pred):\n",
    "    y_true, y_pred = np.array(y_true), np.array(y_pred)\n",
    "    return np.mean(np.abs((y_true - y_pred) / np.maximum(np.abs(y_true), 1e-6))) * 100\n",
    "\n",
    "region_code = 'CAL'   # or 'TEX' for Texas\n",
    "epochs_list = [1, 2, 5, 10]\n",
    "results = []\n",
    "\n",
    "# --- Use your full data, no grouping/aggregation ---\n",
    "region_df = df[df['Region'] == region_code].copy()\n",
    "region_df['Date'] = pd.to_datetime(region_df['Date'])\n",
    "region_df = region_df.sort_values('Date').reset_index(drop=True)\n",
    "\n",
    "feature_cols = [\n",
    "    'Hour', 'Month', 'DayOfWeek', 'Is_Weekend', 'DayOfYear', 'WeekOfYear',\n",
    "    'Season_Autumn', 'Season_Spring', 'Season_Summer', 'Season_Winter',\n",
    "    'Demand_Prev_Hour', 'Demand_Yesterday_Same_Hour', 'Demand_Last_Week_Same_Hour',\n",
    "    'Emission_Prev_Hour', 'Emission_Yesterday_Same_Hour', 'Emission_Last_Week_Same_Hour',\n",
    "    'Rolling_Mean_3H', 'Rolling_Mean_24H', 'Rolling_Mean_3H_Emission', 'Rolling_Mean_24H_Emission',\n",
    "    'Total_Gen', 'Renewable_Pct', 'Fossil_Pct', 'Renewable_Demand', 'Fossil_Demand', 'Demand_diff1', 'Demand_diff24'\n",
    "]\n",
    "target_cols = ['Demand', 'CO2_Total_Emissions']\n",
    "\n",
    "features = region_df[feature_cols]\n",
    "targets = region_df[target_cols]\n",
    "\n",
    "scaler_X = MinMaxScaler()\n",
    "scaler_y = MinMaxScaler()\n",
    "X_scaled = scaler_X.fit_transform(features)\n",
    "y_scaled = scaler_y.fit_transform(targets)\n",
    "\n",
    "def create_sequences(X, y, lookback=30):\n",
    "    Xs, ys = [], []\n",
    "    for i in range(lookback, len(X)):\n",
    "        Xs.append(X[i-lookback:i])\n",
    "        ys.append(y[i])\n",
    "    return np.array(Xs), np.array(ys)\n",
    "\n",
    "X_seq, y_seq = create_sequences(X_scaled, y_scaled)\n",
    "split = int(0.7 * len(X_seq))\n",
    "X_train, X_test = X_seq[:split], X_seq[split:]\n",
    "y_train, y_test = y_seq[:split], y_seq[split:]\n",
    "\n",
    "for epoch in epochs_list:\n",
    "    model = Sequential([\n",
    "        LSTM(64, input_shape=(X_train.shape[1], X_train.shape[2])),\n",
    "        Dense(2)\n",
    "    ])\n",
    "    model.compile(optimizer='adam', loss='mse')\n",
    "    model.fit(X_train, y_train, epochs=epoch, batch_size=64, verbose=0)\n",
    "    y_pred_scaled = model.predict(X_test)\n",
    "    y_pred = scaler_y.inverse_transform(y_pred_scaled)\n",
    "    y_true = scaler_y.inverse_transform(y_test)\n",
    "\n",
    "    mae_demand = mean_absolute_error(y_true[:, 0], y_pred[:, 0])\n",
    "    rmse_demand = np.sqrt(mean_squared_error(y_true[:, 0], y_pred[:, 0]))\n",
    "    mape_demand = mean_absolute_percentage_error(y_true[:, 0], y_pred[:, 0])\n",
    "    mae_co2 = mean_absolute_error(y_true[:, 1], y_pred[:, 1])\n",
    "    rmse_co2 = np.sqrt(mean_squared_error(y_true[:, 1], y_pred[:, 1]))\n",
    "    mape_co2 = mean_absolute_percentage_error(y_true[:, 1], y_pred[:, 1])\n",
    "\n",
    "    results.append({\n",
    "        'Region': region_code,\n",
    "        'Epoch': epoch,\n",
    "        'MAE_Demand': mae_demand,\n",
    "        'RMSE_Demand': rmse_demand,\n",
    "        'MAPE_Demand(%)': mape_demand,\n",
    "        'MAE_CO2': mae_co2,\n",
    "        'RMSE_CO2': rmse_co2,\n",
    "        'MAPE_CO2(%)': mape_co2\n",
    "    })\n",
    "\n",
    "results_df = pd.DataFrame(results)\n",
    "print(results_df)\n"
   ]
  },
  {
   "cell_type": "code",
   "execution_count": 9,
   "id": "629dfc0d-a7c9-4578-823a-e856268742fe",
   "metadata": {},
   "outputs": [
    {
     "name": "stderr",
     "output_type": "stream",
     "text": [
      "C:\\Users\\rosem\\AppData\\Roaming\\Python\\Python312\\site-packages\\keras\\src\\layers\\rnn\\rnn.py:199: UserWarning: Do not pass an `input_shape`/`input_dim` argument to a layer. When using Sequential models, prefer using an `Input(shape)` object as the first layer in the model instead.\n",
      "  super().__init__(**kwargs)\n"
     ]
    },
    {
     "name": "stdout",
     "output_type": "stream",
     "text": [
      "\u001b[1m479/479\u001b[0m \u001b[32m━━━━━━━━━━━━━━━━━━━━\u001b[0m\u001b[37m\u001b[0m \u001b[1m1s\u001b[0m 3ms/step\n"
     ]
    },
    {
     "name": "stderr",
     "output_type": "stream",
     "text": [
      "C:\\Users\\rosem\\AppData\\Roaming\\Python\\Python312\\site-packages\\keras\\src\\layers\\rnn\\rnn.py:199: UserWarning: Do not pass an `input_shape`/`input_dim` argument to a layer. When using Sequential models, prefer using an `Input(shape)` object as the first layer in the model instead.\n",
      "  super().__init__(**kwargs)\n"
     ]
    },
    {
     "name": "stdout",
     "output_type": "stream",
     "text": [
      "\u001b[1m479/479\u001b[0m \u001b[32m━━━━━━━━━━━━━━━━━━━━\u001b[0m\u001b[37m\u001b[0m \u001b[1m2s\u001b[0m 3ms/step\n"
     ]
    },
    {
     "name": "stderr",
     "output_type": "stream",
     "text": [
      "C:\\Users\\rosem\\AppData\\Roaming\\Python\\Python312\\site-packages\\keras\\src\\layers\\rnn\\rnn.py:199: UserWarning: Do not pass an `input_shape`/`input_dim` argument to a layer. When using Sequential models, prefer using an `Input(shape)` object as the first layer in the model instead.\n",
      "  super().__init__(**kwargs)\n"
     ]
    },
    {
     "name": "stdout",
     "output_type": "stream",
     "text": [
      "\u001b[1m479/479\u001b[0m \u001b[32m━━━━━━━━━━━━━━━━━━━━\u001b[0m\u001b[37m\u001b[0m \u001b[1m2s\u001b[0m 4ms/step\n"
     ]
    },
    {
     "name": "stderr",
     "output_type": "stream",
     "text": [
      "C:\\Users\\rosem\\AppData\\Roaming\\Python\\Python312\\site-packages\\keras\\src\\layers\\rnn\\rnn.py:199: UserWarning: Do not pass an `input_shape`/`input_dim` argument to a layer. When using Sequential models, prefer using an `Input(shape)` object as the first layer in the model instead.\n",
      "  super().__init__(**kwargs)\n"
     ]
    },
    {
     "name": "stdout",
     "output_type": "stream",
     "text": [
      "\u001b[1m479/479\u001b[0m \u001b[32m━━━━━━━━━━━━━━━━━━━━\u001b[0m\u001b[37m\u001b[0m \u001b[1m3s\u001b[0m 5ms/step\n",
      "  Region  Epoch   MAE_Demand  RMSE_Demand  MAPE_Demand(%)     MAE_CO2  \\\n",
      "0    CAL      1  1021.532143  1250.423019        3.499196  289.563371   \n",
      "1    CAL      2   436.678546   555.039156        1.478511  230.862944   \n",
      "2    CAL      5   277.826853   368.430893        0.933842  432.808036   \n",
      "3    CAL     10   128.275644   182.634307        0.425096  400.335355   \n",
      "\n",
      "     RMSE_CO2  MAPE_CO2(%)  \n",
      "0  350.028565     6.335821  \n",
      "1  276.677424     5.067166  \n",
      "2  479.806583     9.164571  \n",
      "3  440.543839     8.416329  \n"
     ]
    }
   ],
   "source": [
    "from sklearn.metrics import mean_absolute_error, mean_squared_error\n",
    "\n",
    "def mean_absolute_percentage_error(y_true, y_pred):\n",
    "    y_true, y_pred = np.array(y_true), np.array(y_pred)\n",
    "    return np.mean(np.abs((y_true - y_pred) / np.maximum(np.abs(y_true), 1e-6))) * 100\n",
    "\n",
    "region_code = 'CAL'   # or 'TEX' for Texas\n",
    "epochs_list = [1, 2, 5, 10]\n",
    "results = []\n",
    "\n",
    "# --- Use your full data, no grouping/aggregation ---\n",
    "region_df = df[df['Region'] == region_code].copy()\n",
    "region_df['Date'] = pd.to_datetime(region_df['Date'])\n",
    "region_df = region_df.sort_values('Date').reset_index(drop=True)\n",
    "\n",
    "feature_cols = [\n",
    "    'Hour', 'Month', 'DayOfWeek', 'Is_Weekend', 'DayOfYear', 'WeekOfYear',\n",
    "    'Season_Autumn', 'Season_Spring', 'Season_Summer', 'Season_Winter',\n",
    "    'Demand_Prev_Hour', 'Demand_Yesterday_Same_Hour', 'Demand_Last_Week_Same_Hour',\n",
    "    'Emission_Prev_Hour', 'Emission_Yesterday_Same_Hour', 'Emission_Last_Week_Same_Hour',\n",
    "    'Rolling_Mean_3H', 'Rolling_Mean_24H', 'Rolling_Mean_3H_Emission', 'Rolling_Mean_24H_Emission',\n",
    "    'Total_Gen', 'Renewable_Pct', 'Fossil_Pct', 'Renewable_Demand', 'Fossil_Demand', 'Demand_diff1', 'Demand_diff24'\n",
    "]\n",
    "target_cols = ['Demand', 'CO2_Total_Emissions']\n",
    "\n",
    "features = region_df[feature_cols]\n",
    "targets = region_df[target_cols]\n",
    "\n",
    "scaler_X = MinMaxScaler()\n",
    "scaler_y = MinMaxScaler()\n",
    "X_scaled = scaler_X.fit_transform(features)\n",
    "y_scaled = scaler_y.fit_transform(targets)\n",
    "\n",
    "def create_sequences(X, y, lookback=30):\n",
    "    Xs, ys = [], []\n",
    "    for i in range(lookback, len(X)):\n",
    "        Xs.append(X[i-lookback:i])\n",
    "        ys.append(y[i])\n",
    "    return np.array(Xs), np.array(ys)\n",
    "\n",
    "X_seq, y_seq = create_sequences(X_scaled, y_scaled)\n",
    "split = int(0.65 * len(X_seq))\n",
    "X_train, X_test = X_seq[:split], X_seq[split:]\n",
    "y_train, y_test = y_seq[:split], y_seq[split:]\n",
    "\n",
    "for epoch in epochs_list:\n",
    "    model = Sequential([\n",
    "        LSTM(64, input_shape=(X_train.shape[1], X_train.shape[2])),\n",
    "        Dense(2)\n",
    "    ])\n",
    "    model.compile(optimizer='adam', loss='mse')\n",
    "    model.fit(X_train, y_train, epochs=epoch, batch_size=64, verbose=0)\n",
    "    y_pred_scaled = model.predict(X_test)\n",
    "    y_pred = scaler_y.inverse_transform(y_pred_scaled)\n",
    "    y_true = scaler_y.inverse_transform(y_test)\n",
    "\n",
    "    mae_demand = mean_absolute_error(y_true[:, 0], y_pred[:, 0])\n",
    "    rmse_demand = np.sqrt(mean_squared_error(y_true[:, 0], y_pred[:, 0]))\n",
    "    mape_demand = mean_absolute_percentage_error(y_true[:, 0], y_pred[:, 0])\n",
    "    mae_co2 = mean_absolute_error(y_true[:, 1], y_pred[:, 1])\n",
    "    rmse_co2 = np.sqrt(mean_squared_error(y_true[:, 1], y_pred[:, 1]))\n",
    "    mape_co2 = mean_absolute_percentage_error(y_true[:, 1], y_pred[:, 1])\n",
    "\n",
    "    results.append({\n",
    "        'Region': region_code,\n",
    "        'Epoch': epoch,\n",
    "        'MAE_Demand': mae_demand,\n",
    "        'RMSE_Demand': rmse_demand,\n",
    "        'MAPE_Demand(%)': mape_demand,\n",
    "        'MAE_CO2': mae_co2,\n",
    "        'RMSE_CO2': rmse_co2,\n",
    "        'MAPE_CO2(%)': mape_co2\n",
    "    })\n",
    "\n",
    "results_df = pd.DataFrame(results)\n",
    "print(results_df)\n"
   ]
  },
  {
   "cell_type": "code",
   "execution_count": 11,
   "id": "7b6d1be9-d0cb-4191-94e9-75783da17518",
   "metadata": {},
   "outputs": [
    {
     "name": "stderr",
     "output_type": "stream",
     "text": [
      "C:\\Users\\rosem\\AppData\\Roaming\\Python\\Python312\\site-packages\\keras\\src\\layers\\rnn\\rnn.py:199: UserWarning: Do not pass an `input_shape`/`input_dim` argument to a layer. When using Sequential models, prefer using an `Input(shape)` object as the first layer in the model instead.\n",
      "  super().__init__(**kwargs)\n"
     ]
    },
    {
     "name": "stdout",
     "output_type": "stream",
     "text": [
      "\u001b[1m547/547\u001b[0m \u001b[32m━━━━━━━━━━━━━━━━━━━━\u001b[0m\u001b[37m\u001b[0m \u001b[1m2s\u001b[0m 3ms/step\n"
     ]
    },
    {
     "name": "stderr",
     "output_type": "stream",
     "text": [
      "C:\\Users\\rosem\\AppData\\Roaming\\Python\\Python312\\site-packages\\keras\\src\\layers\\rnn\\rnn.py:199: UserWarning: Do not pass an `input_shape`/`input_dim` argument to a layer. When using Sequential models, prefer using an `Input(shape)` object as the first layer in the model instead.\n",
      "  super().__init__(**kwargs)\n"
     ]
    },
    {
     "name": "stdout",
     "output_type": "stream",
     "text": [
      "\u001b[1m547/547\u001b[0m \u001b[32m━━━━━━━━━━━━━━━━━━━━\u001b[0m\u001b[37m\u001b[0m \u001b[1m2s\u001b[0m 3ms/step\n"
     ]
    },
    {
     "name": "stderr",
     "output_type": "stream",
     "text": [
      "C:\\Users\\rosem\\AppData\\Roaming\\Python\\Python312\\site-packages\\keras\\src\\layers\\rnn\\rnn.py:199: UserWarning: Do not pass an `input_shape`/`input_dim` argument to a layer. When using Sequential models, prefer using an `Input(shape)` object as the first layer in the model instead.\n",
      "  super().__init__(**kwargs)\n"
     ]
    },
    {
     "name": "stdout",
     "output_type": "stream",
     "text": [
      "\u001b[1m547/547\u001b[0m \u001b[32m━━━━━━━━━━━━━━━━━━━━\u001b[0m\u001b[37m\u001b[0m \u001b[1m2s\u001b[0m 4ms/step\n"
     ]
    },
    {
     "name": "stderr",
     "output_type": "stream",
     "text": [
      "C:\\Users\\rosem\\AppData\\Roaming\\Python\\Python312\\site-packages\\keras\\src\\layers\\rnn\\rnn.py:199: UserWarning: Do not pass an `input_shape`/`input_dim` argument to a layer. When using Sequential models, prefer using an `Input(shape)` object as the first layer in the model instead.\n",
      "  super().__init__(**kwargs)\n"
     ]
    },
    {
     "name": "stdout",
     "output_type": "stream",
     "text": [
      "\u001b[1m547/547\u001b[0m \u001b[32m━━━━━━━━━━━━━━━━━━━━\u001b[0m\u001b[37m\u001b[0m \u001b[1m2s\u001b[0m 4ms/step\n",
      "  Region  Epoch  MAE_Demand  RMSE_Demand  MAPE_Demand(%)     MAE_CO2  \\\n",
      "0    CAL      1  657.102931   810.746520        2.191914  368.174328   \n",
      "1    CAL      2  534.270795   650.258551        1.755141  314.110072   \n",
      "2    CAL      5  195.977857   239.582740        0.637382  328.304875   \n",
      "3    CAL     10  127.659290   160.901990        0.423689  378.207405   \n",
      "\n",
      "     RMSE_CO2  MAPE_CO2(%)  \n",
      "0  421.824945     8.242413  \n",
      "1  367.676981     6.801819  \n",
      "2  372.565185     7.188161  \n",
      "3  430.748427     7.987652  \n"
     ]
    }
   ],
   "source": [
    "from sklearn.metrics import mean_absolute_error, mean_squared_error\n",
    "\n",
    "def mean_absolute_percentage_error(y_true, y_pred):\n",
    "    y_true, y_pred = np.array(y_true), np.array(y_pred)\n",
    "    return np.mean(np.abs((y_true - y_pred) / np.maximum(np.abs(y_true), 1e-6))) * 100\n",
    "\n",
    "region_code = 'CAL'   # or 'TEX' for Texas\n",
    "epochs_list = [1, 2, 5, 10]\n",
    "results = []\n",
    "\n",
    "# --- Use your full data, no grouping/aggregation ---\n",
    "region_df = df[df['Region'] == region_code].copy()\n",
    "region_df['Date'] = pd.to_datetime(region_df['Date'])\n",
    "region_df = region_df.sort_values('Date').reset_index(drop=True)\n",
    "\n",
    "feature_cols = [\n",
    "    'Hour', 'Month', 'DayOfWeek', 'Is_Weekend', 'DayOfYear', 'WeekOfYear',\n",
    "    'Season_Autumn', 'Season_Spring', 'Season_Summer', 'Season_Winter',\n",
    "    'Demand_Prev_Hour', 'Demand_Yesterday_Same_Hour', 'Demand_Last_Week_Same_Hour',\n",
    "    'Emission_Prev_Hour', 'Emission_Yesterday_Same_Hour', 'Emission_Last_Week_Same_Hour',\n",
    "    'Rolling_Mean_3H', 'Rolling_Mean_24H', 'Rolling_Mean_3H_Emission', 'Rolling_Mean_24H_Emission',\n",
    "    'Total_Gen', 'Renewable_Pct', 'Fossil_Pct', 'Renewable_Demand', 'Fossil_Demand', 'Demand_diff1', 'Demand_diff24'\n",
    "]\n",
    "target_cols = ['Demand', 'CO2_Total_Emissions']\n",
    "\n",
    "features = region_df[feature_cols]\n",
    "targets = region_df[target_cols]\n",
    "\n",
    "scaler_X = MinMaxScaler()\n",
    "scaler_y = MinMaxScaler()\n",
    "X_scaled = scaler_X.fit_transform(features)\n",
    "y_scaled = scaler_y.fit_transform(targets)\n",
    "\n",
    "def create_sequences(X, y, lookback=30):\n",
    "    Xs, ys = [], []\n",
    "    for i in range(lookback, len(X)):\n",
    "        Xs.append(X[i-lookback:i])\n",
    "        ys.append(y[i])\n",
    "    return np.array(Xs), np.array(ys)\n",
    "\n",
    "X_seq, y_seq = create_sequences(X_scaled, y_scaled)\n",
    "split = int(0.6 * len(X_seq))\n",
    "X_train, X_test = X_seq[:split], X_seq[split:]\n",
    "y_train, y_test = y_seq[:split], y_seq[split:]\n",
    "\n",
    "for epoch in epochs_list:\n",
    "    model = Sequential([\n",
    "        LSTM(64, input_shape=(X_train.shape[1], X_train.shape[2])),\n",
    "        Dense(2)\n",
    "    ])\n",
    "    model.compile(optimizer='adam', loss='mse')\n",
    "    model.fit(X_train, y_train, epochs=epoch, batch_size=64, verbose=0)\n",
    "    y_pred_scaled = model.predict(X_test)\n",
    "    y_pred = scaler_y.inverse_transform(y_pred_scaled)\n",
    "    y_true = scaler_y.inverse_transform(y_test)\n",
    "\n",
    "    mae_demand = mean_absolute_error(y_true[:, 0], y_pred[:, 0])\n",
    "    rmse_demand = np.sqrt(mean_squared_error(y_true[:, 0], y_pred[:, 0]))\n",
    "    mape_demand = mean_absolute_percentage_error(y_true[:, 0], y_pred[:, 0])\n",
    "    mae_co2 = mean_absolute_error(y_true[:, 1], y_pred[:, 1])\n",
    "    rmse_co2 = np.sqrt(mean_squared_error(y_true[:, 1], y_pred[:, 1]))\n",
    "    mape_co2 = mean_absolute_percentage_error(y_true[:, 1], y_pred[:, 1])\n",
    "\n",
    "    results.append({\n",
    "        'Region': region_code,\n",
    "        'Epoch': epoch,\n",
    "        'MAE_Demand': mae_demand,\n",
    "        'RMSE_Demand': rmse_demand,\n",
    "        'MAPE_Demand(%)': mape_demand,\n",
    "        'MAE_CO2': mae_co2,\n",
    "        'RMSE_CO2': rmse_co2,\n",
    "        'MAPE_CO2(%)': mape_co2\n",
    "    })\n",
    "\n",
    "results_df = pd.DataFrame(results)\n",
    "print(results_df)\n"
   ]
  },
  {
   "cell_type": "code",
   "execution_count": 13,
   "id": "63480484-bb65-48d9-9ea1-1a72ab9c715f",
   "metadata": {},
   "outputs": [
    {
     "name": "stderr",
     "output_type": "stream",
     "text": [
      "C:\\Users\\rosem\\AppData\\Roaming\\Python\\Python312\\site-packages\\keras\\src\\layers\\rnn\\rnn.py:199: UserWarning: Do not pass an `input_shape`/`input_dim` argument to a layer. When using Sequential models, prefer using an `Input(shape)` object as the first layer in the model instead.\n",
      "  super().__init__(**kwargs)\n"
     ]
    },
    {
     "name": "stdout",
     "output_type": "stream",
     "text": [
      "\u001b[1m274/274\u001b[0m \u001b[32m━━━━━━━━━━━━━━━━━━━━\u001b[0m\u001b[37m\u001b[0m \u001b[1m1s\u001b[0m 3ms/step\n"
     ]
    },
    {
     "name": "stderr",
     "output_type": "stream",
     "text": [
      "C:\\Users\\rosem\\AppData\\Roaming\\Python\\Python312\\site-packages\\keras\\src\\layers\\rnn\\rnn.py:199: UserWarning: Do not pass an `input_shape`/`input_dim` argument to a layer. When using Sequential models, prefer using an `Input(shape)` object as the first layer in the model instead.\n",
      "  super().__init__(**kwargs)\n"
     ]
    },
    {
     "name": "stdout",
     "output_type": "stream",
     "text": [
      "\u001b[1m274/274\u001b[0m \u001b[32m━━━━━━━━━━━━━━━━━━━━\u001b[0m\u001b[37m\u001b[0m \u001b[1m1s\u001b[0m 3ms/step\n"
     ]
    },
    {
     "name": "stderr",
     "output_type": "stream",
     "text": [
      "C:\\Users\\rosem\\AppData\\Roaming\\Python\\Python312\\site-packages\\keras\\src\\layers\\rnn\\rnn.py:199: UserWarning: Do not pass an `input_shape`/`input_dim` argument to a layer. When using Sequential models, prefer using an `Input(shape)` object as the first layer in the model instead.\n",
      "  super().__init__(**kwargs)\n"
     ]
    },
    {
     "name": "stdout",
     "output_type": "stream",
     "text": [
      "\u001b[1m274/274\u001b[0m \u001b[32m━━━━━━━━━━━━━━━━━━━━\u001b[0m\u001b[37m\u001b[0m \u001b[1m3s\u001b[0m 4ms/step\n"
     ]
    },
    {
     "name": "stderr",
     "output_type": "stream",
     "text": [
      "C:\\Users\\rosem\\AppData\\Roaming\\Python\\Python312\\site-packages\\keras\\src\\layers\\rnn\\rnn.py:199: UserWarning: Do not pass an `input_shape`/`input_dim` argument to a layer. When using Sequential models, prefer using an `Input(shape)` object as the first layer in the model instead.\n",
      "  super().__init__(**kwargs)\n"
     ]
    },
    {
     "name": "stdout",
     "output_type": "stream",
     "text": [
      "\u001b[1m274/274\u001b[0m \u001b[32m━━━━━━━━━━━━━━━━━━━━\u001b[0m\u001b[37m\u001b[0m \u001b[1m1s\u001b[0m 4ms/step\n",
      "  Region  Epoch  MAE_Demand  RMSE_Demand  MAPE_Demand(%)     MAE_CO2  \\\n",
      "0    TEX      1  500.872947   645.254161        1.058198  691.684488   \n",
      "1    TEX      2  419.898412   544.890733        0.826503  803.202026   \n",
      "2    TEX      5  284.314935   371.637810        0.597990  683.751943   \n",
      "3    TEX     10  257.158568   367.949984        0.498200  824.095289   \n",
      "\n",
      "      RMSE_CO2  MAPE_CO2(%)  \n",
      "0   915.544972     5.156128  \n",
      "1  1031.517544     5.980817  \n",
      "2   873.508170     4.972774  \n",
      "3  1043.312800     5.963689  \n"
     ]
    }
   ],
   "source": [
    "from sklearn.metrics import mean_absolute_error, mean_squared_error\n",
    "\n",
    "def mean_absolute_percentage_error(y_true, y_pred):\n",
    "    y_true, y_pred = np.array(y_true), np.array(y_pred)\n",
    "    return np.mean(np.abs((y_true - y_pred) / np.maximum(np.abs(y_true), 1e-6))) * 100\n",
    "\n",
    "region_code = 'TEX'   # or 'TEX' for Texas\n",
    "epochs_list = [1, 2, 5, 10]\n",
    "results = []\n",
    "\n",
    "# --- Use your full data, no grouping/aggregation ---\n",
    "region_df = df[df['Region'] == region_code].copy()\n",
    "region_df['Date'] = pd.to_datetime(region_df['Date'])\n",
    "region_df = region_df.sort_values('Date').reset_index(drop=True)\n",
    "\n",
    "feature_cols = [\n",
    "    'Hour', 'Month', 'DayOfWeek', 'Is_Weekend', 'DayOfYear', 'WeekOfYear',\n",
    "    'Season_Autumn', 'Season_Spring', 'Season_Summer', 'Season_Winter',\n",
    "    'Demand_Prev_Hour', 'Demand_Yesterday_Same_Hour', 'Demand_Last_Week_Same_Hour',\n",
    "    'Emission_Prev_Hour', 'Emission_Yesterday_Same_Hour', 'Emission_Last_Week_Same_Hour',\n",
    "    'Rolling_Mean_3H', 'Rolling_Mean_24H', 'Rolling_Mean_3H_Emission', 'Rolling_Mean_24H_Emission',\n",
    "    'Total_Gen', 'Renewable_Pct', 'Fossil_Pct', 'Renewable_Demand', 'Fossil_Demand', 'Demand_diff1', 'Demand_diff24'\n",
    "]\n",
    "target_cols = ['Demand', 'CO2_Total_Emissions']\n",
    "\n",
    "features = region_df[feature_cols]\n",
    "targets = region_df[target_cols]\n",
    "\n",
    "scaler_X = MinMaxScaler()\n",
    "scaler_y = MinMaxScaler()\n",
    "X_scaled = scaler_X.fit_transform(features)\n",
    "y_scaled = scaler_y.fit_transform(targets)\n",
    "\n",
    "def create_sequences(X, y, lookback=30):\n",
    "    Xs, ys = [], []\n",
    "    for i in range(lookback, len(X)):\n",
    "        Xs.append(X[i-lookback:i])\n",
    "        ys.append(y[i])\n",
    "    return np.array(Xs), np.array(ys)\n",
    "\n",
    "X_seq, y_seq = create_sequences(X_scaled, y_scaled)\n",
    "split = int(0.8 * len(X_seq))\n",
    "X_train, X_test = X_seq[:split], X_seq[split:]\n",
    "y_train, y_test = y_seq[:split], y_seq[split:]\n",
    "\n",
    "for epoch in epochs_list:\n",
    "    model = Sequential([\n",
    "        LSTM(64, input_shape=(X_train.shape[1], X_train.shape[2])),\n",
    "        Dense(2)\n",
    "    ])\n",
    "    model.compile(optimizer='adam', loss='mse')\n",
    "    model.fit(X_train, y_train, epochs=epoch, batch_size=64, verbose=0)\n",
    "    y_pred_scaled = model.predict(X_test)\n",
    "    y_pred = scaler_y.inverse_transform(y_pred_scaled)\n",
    "    y_true = scaler_y.inverse_transform(y_test)\n",
    "\n",
    "    mae_demand = mean_absolute_error(y_true[:, 0], y_pred[:, 0])\n",
    "    rmse_demand = np.sqrt(mean_squared_error(y_true[:, 0], y_pred[:, 0]))\n",
    "    mape_demand = mean_absolute_percentage_error(y_true[:, 0], y_pred[:, 0])\n",
    "    mae_co2 = mean_absolute_error(y_true[:, 1], y_pred[:, 1])\n",
    "    rmse_co2 = np.sqrt(mean_squared_error(y_true[:, 1], y_pred[:, 1]))\n",
    "    mape_co2 = mean_absolute_percentage_error(y_true[:, 1], y_pred[:, 1])\n",
    "\n",
    "    results.append({\n",
    "        'Region': region_code,\n",
    "        'Epoch': epoch,\n",
    "        'MAE_Demand': mae_demand,\n",
    "        'RMSE_Demand': rmse_demand,\n",
    "        'MAPE_Demand(%)': mape_demand,\n",
    "        'MAE_CO2': mae_co2,\n",
    "        'RMSE_CO2': rmse_co2,\n",
    "        'MAPE_CO2(%)': mape_co2\n",
    "    })\n",
    "\n",
    "results_df = pd.DataFrame(results)\n",
    "print(results_df)\n"
   ]
  },
  {
   "cell_type": "code",
   "execution_count": 15,
   "id": "2a01084a-fa6d-45b1-958d-6af2a5ea74cb",
   "metadata": {},
   "outputs": [
    {
     "name": "stderr",
     "output_type": "stream",
     "text": [
      "C:\\Users\\rosem\\AppData\\Roaming\\Python\\Python312\\site-packages\\keras\\src\\layers\\rnn\\rnn.py:199: UserWarning: Do not pass an `input_shape`/`input_dim` argument to a layer. When using Sequential models, prefer using an `Input(shape)` object as the first layer in the model instead.\n",
      "  super().__init__(**kwargs)\n"
     ]
    },
    {
     "name": "stdout",
     "output_type": "stream",
     "text": [
      "\u001b[1m342/342\u001b[0m \u001b[32m━━━━━━━━━━━━━━━━━━━━\u001b[0m\u001b[37m\u001b[0m \u001b[1m1s\u001b[0m 3ms/step\n"
     ]
    },
    {
     "name": "stderr",
     "output_type": "stream",
     "text": [
      "C:\\Users\\rosem\\AppData\\Roaming\\Python\\Python312\\site-packages\\keras\\src\\layers\\rnn\\rnn.py:199: UserWarning: Do not pass an `input_shape`/`input_dim` argument to a layer. When using Sequential models, prefer using an `Input(shape)` object as the first layer in the model instead.\n",
      "  super().__init__(**kwargs)\n"
     ]
    },
    {
     "name": "stdout",
     "output_type": "stream",
     "text": [
      "\u001b[1m342/342\u001b[0m \u001b[32m━━━━━━━━━━━━━━━━━━━━\u001b[0m\u001b[37m\u001b[0m \u001b[1m1s\u001b[0m 3ms/step\n"
     ]
    },
    {
     "name": "stderr",
     "output_type": "stream",
     "text": [
      "C:\\Users\\rosem\\AppData\\Roaming\\Python\\Python312\\site-packages\\keras\\src\\layers\\rnn\\rnn.py:199: UserWarning: Do not pass an `input_shape`/`input_dim` argument to a layer. When using Sequential models, prefer using an `Input(shape)` object as the first layer in the model instead.\n",
      "  super().__init__(**kwargs)\n"
     ]
    },
    {
     "name": "stdout",
     "output_type": "stream",
     "text": [
      "\u001b[1m342/342\u001b[0m \u001b[32m━━━━━━━━━━━━━━━━━━━━\u001b[0m\u001b[37m\u001b[0m \u001b[1m3s\u001b[0m 6ms/step\n"
     ]
    },
    {
     "name": "stderr",
     "output_type": "stream",
     "text": [
      "C:\\Users\\rosem\\AppData\\Roaming\\Python\\Python312\\site-packages\\keras\\src\\layers\\rnn\\rnn.py:199: UserWarning: Do not pass an `input_shape`/`input_dim` argument to a layer. When using Sequential models, prefer using an `Input(shape)` object as the first layer in the model instead.\n",
      "  super().__init__(**kwargs)\n"
     ]
    },
    {
     "name": "stdout",
     "output_type": "stream",
     "text": [
      "\u001b[1m342/342\u001b[0m \u001b[32m━━━━━━━━━━━━━━━━━━━━\u001b[0m\u001b[37m\u001b[0m \u001b[1m1s\u001b[0m 4ms/step\n",
      "  Region  Epoch  MAE_Demand  RMSE_Demand  MAPE_Demand(%)      MAE_CO2  \\\n",
      "0    TEX      1  608.598779   798.961724        1.194526   707.228094   \n",
      "1    TEX      2  610.292624   805.057167        1.181940  1242.247397   \n",
      "2    TEX      5  324.129318   454.411546        0.622691  1071.176287   \n",
      "3    TEX     10  270.540282   360.419111        0.536528  1072.511026   \n",
      "\n",
      "      RMSE_CO2  MAPE_CO2(%)  \n",
      "0   904.144696     5.025213  \n",
      "1  1434.109456     8.303633  \n",
      "2  1273.991433     6.909573  \n",
      "3  1290.228230     7.257859  \n"
     ]
    }
   ],
   "source": [
    "from sklearn.metrics import mean_absolute_error, mean_squared_error\n",
    "\n",
    "def mean_absolute_percentage_error(y_true, y_pred):\n",
    "    y_true, y_pred = np.array(y_true), np.array(y_pred)\n",
    "    return np.mean(np.abs((y_true - y_pred) / np.maximum(np.abs(y_true), 1e-6))) * 100\n",
    "\n",
    "region_code = 'TEX'   # or 'TEX' for Texas\n",
    "epochs_list = [1, 2, 5, 10]\n",
    "results = []\n",
    "\n",
    "# --- Use your full data, no grouping/aggregation ---\n",
    "region_df = df[df['Region'] == region_code].copy()\n",
    "region_df['Date'] = pd.to_datetime(region_df['Date'])\n",
    "region_df = region_df.sort_values('Date').reset_index(drop=True)\n",
    "\n",
    "feature_cols = [\n",
    "    'Hour', 'Month', 'DayOfWeek', 'Is_Weekend', 'DayOfYear', 'WeekOfYear',\n",
    "    'Season_Autumn', 'Season_Spring', 'Season_Summer', 'Season_Winter',\n",
    "    'Demand_Prev_Hour', 'Demand_Yesterday_Same_Hour', 'Demand_Last_Week_Same_Hour',\n",
    "    'Emission_Prev_Hour', 'Emission_Yesterday_Same_Hour', 'Emission_Last_Week_Same_Hour',\n",
    "    'Rolling_Mean_3H', 'Rolling_Mean_24H', 'Rolling_Mean_3H_Emission', 'Rolling_Mean_24H_Emission',\n",
    "    'Total_Gen', 'Renewable_Pct', 'Fossil_Pct', 'Renewable_Demand', 'Fossil_Demand', 'Demand_diff1', 'Demand_diff24'\n",
    "]\n",
    "target_cols = ['Demand', 'CO2_Total_Emissions']\n",
    "\n",
    "features = region_df[feature_cols]\n",
    "targets = region_df[target_cols]\n",
    "\n",
    "scaler_X = MinMaxScaler()\n",
    "scaler_y = MinMaxScaler()\n",
    "X_scaled = scaler_X.fit_transform(features)\n",
    "y_scaled = scaler_y.fit_transform(targets)\n",
    "\n",
    "def create_sequences(X, y, lookback=30):\n",
    "    Xs, ys = [], []\n",
    "    for i in range(lookback, len(X)):\n",
    "        Xs.append(X[i-lookback:i])\n",
    "        ys.append(y[i])\n",
    "    return np.array(Xs), np.array(ys)\n",
    "\n",
    "X_seq, y_seq = create_sequences(X_scaled, y_scaled)\n",
    "split = int(0.75 * len(X_seq))\n",
    "X_train, X_test = X_seq[:split], X_seq[split:]\n",
    "y_train, y_test = y_seq[:split], y_seq[split:]\n",
    "\n",
    "for epoch in epochs_list:\n",
    "    model = Sequential([\n",
    "        LSTM(64, input_shape=(X_train.shape[1], X_train.shape[2])),\n",
    "        Dense(2)\n",
    "    ])\n",
    "    model.compile(optimizer='adam', loss='mse')\n",
    "    model.fit(X_train, y_train, epochs=epoch, batch_size=64, verbose=0)\n",
    "    y_pred_scaled = model.predict(X_test)\n",
    "    y_pred = scaler_y.inverse_transform(y_pred_scaled)\n",
    "    y_true = scaler_y.inverse_transform(y_test)\n",
    "\n",
    "    mae_demand = mean_absolute_error(y_true[:, 0], y_pred[:, 0])\n",
    "    rmse_demand = np.sqrt(mean_squared_error(y_true[:, 0], y_pred[:, 0]))\n",
    "    mape_demand = mean_absolute_percentage_error(y_true[:, 0], y_pred[:, 0])\n",
    "    mae_co2 = mean_absolute_error(y_true[:, 1], y_pred[:, 1])\n",
    "    rmse_co2 = np.sqrt(mean_squared_error(y_true[:, 1], y_pred[:, 1]))\n",
    "    mape_co2 = mean_absolute_percentage_error(y_true[:, 1], y_pred[:, 1])\n",
    "\n",
    "    results.append({\n",
    "        'Region': region_code,\n",
    "        'Epoch': epoch,\n",
    "        'MAE_Demand': mae_demand,\n",
    "        'RMSE_Demand': rmse_demand,\n",
    "        'MAPE_Demand(%)': mape_demand,\n",
    "        'MAE_CO2': mae_co2,\n",
    "        'RMSE_CO2': rmse_co2,\n",
    "        'MAPE_CO2(%)': mape_co2\n",
    "    })\n",
    "\n",
    "results_df = pd.DataFrame(results)\n",
    "print(results_df)\n"
   ]
  },
  {
   "cell_type": "code",
   "execution_count": 16,
   "id": "25e97756-b3e4-4e19-9ea0-52fbc115a6e7",
   "metadata": {},
   "outputs": [
    {
     "name": "stderr",
     "output_type": "stream",
     "text": [
      "C:\\Users\\rosem\\AppData\\Roaming\\Python\\Python312\\site-packages\\keras\\src\\layers\\rnn\\rnn.py:199: UserWarning: Do not pass an `input_shape`/`input_dim` argument to a layer. When using Sequential models, prefer using an `Input(shape)` object as the first layer in the model instead.\n",
      "  super().__init__(**kwargs)\n"
     ]
    },
    {
     "name": "stdout",
     "output_type": "stream",
     "text": [
      "\u001b[1m411/411\u001b[0m \u001b[32m━━━━━━━━━━━━━━━━━━━━\u001b[0m\u001b[37m\u001b[0m \u001b[1m2s\u001b[0m 4ms/step\n"
     ]
    },
    {
     "name": "stderr",
     "output_type": "stream",
     "text": [
      "C:\\Users\\rosem\\AppData\\Roaming\\Python\\Python312\\site-packages\\keras\\src\\layers\\rnn\\rnn.py:199: UserWarning: Do not pass an `input_shape`/`input_dim` argument to a layer. When using Sequential models, prefer using an `Input(shape)` object as the first layer in the model instead.\n",
      "  super().__init__(**kwargs)\n"
     ]
    },
    {
     "name": "stdout",
     "output_type": "stream",
     "text": [
      "\u001b[1m411/411\u001b[0m \u001b[32m━━━━━━━━━━━━━━━━━━━━\u001b[0m\u001b[37m\u001b[0m \u001b[1m2s\u001b[0m 4ms/step\n"
     ]
    },
    {
     "name": "stderr",
     "output_type": "stream",
     "text": [
      "C:\\Users\\rosem\\AppData\\Roaming\\Python\\Python312\\site-packages\\keras\\src\\layers\\rnn\\rnn.py:199: UserWarning: Do not pass an `input_shape`/`input_dim` argument to a layer. When using Sequential models, prefer using an `Input(shape)` object as the first layer in the model instead.\n",
      "  super().__init__(**kwargs)\n"
     ]
    },
    {
     "name": "stdout",
     "output_type": "stream",
     "text": [
      "\u001b[1m411/411\u001b[0m \u001b[32m━━━━━━━━━━━━━━━━━━━━\u001b[0m\u001b[37m\u001b[0m \u001b[1m2s\u001b[0m 4ms/step\n"
     ]
    },
    {
     "name": "stderr",
     "output_type": "stream",
     "text": [
      "C:\\Users\\rosem\\AppData\\Roaming\\Python\\Python312\\site-packages\\keras\\src\\layers\\rnn\\rnn.py:199: UserWarning: Do not pass an `input_shape`/`input_dim` argument to a layer. When using Sequential models, prefer using an `Input(shape)` object as the first layer in the model instead.\n",
      "  super().__init__(**kwargs)\n"
     ]
    },
    {
     "name": "stdout",
     "output_type": "stream",
     "text": [
      "\u001b[1m411/411\u001b[0m \u001b[32m━━━━━━━━━━━━━━━━━━━━\u001b[0m\u001b[37m\u001b[0m \u001b[1m2s\u001b[0m 4ms/step\n",
      "  Region  Epoch  MAE_Demand  RMSE_Demand  MAPE_Demand(%)      MAE_CO2  \\\n",
      "0    TEX      1  652.035713   818.702915        1.387842   708.070046   \n",
      "1    TEX      2  669.241777   865.130971        1.339668   691.304612   \n",
      "2    TEX      5  473.212389   622.326228        0.937345  1082.042322   \n",
      "3    TEX     10  325.009783   426.728820        0.660084  1145.664770   \n",
      "\n",
      "      RMSE_CO2  MAPE_CO2(%)  \n",
      "0   898.866202     4.832974  \n",
      "1   880.299138     4.863367  \n",
      "2  1317.714407     6.986695  \n",
      "3  1391.533970     7.210452  \n"
     ]
    }
   ],
   "source": [
    "from sklearn.metrics import mean_absolute_error, mean_squared_error\n",
    "\n",
    "def mean_absolute_percentage_error(y_true, y_pred):\n",
    "    y_true, y_pred = np.array(y_true), np.array(y_pred)\n",
    "    return np.mean(np.abs((y_true - y_pred) / np.maximum(np.abs(y_true), 1e-6))) * 100\n",
    "\n",
    "region_code = 'TEX'   # or 'TEX' for Texas\n",
    "epochs_list = [1, 2, 5, 10]\n",
    "results = []\n",
    "\n",
    "# --- Use your full data, no grouping/aggregation ---\n",
    "region_df = df[df['Region'] == region_code].copy()\n",
    "region_df['Date'] = pd.to_datetime(region_df['Date'])\n",
    "region_df = region_df.sort_values('Date').reset_index(drop=True)\n",
    "\n",
    "feature_cols = [\n",
    "    'Hour', 'Month', 'DayOfWeek', 'Is_Weekend', 'DayOfYear', 'WeekOfYear',\n",
    "    'Season_Autumn', 'Season_Spring', 'Season_Summer', 'Season_Winter',\n",
    "    'Demand_Prev_Hour', 'Demand_Yesterday_Same_Hour', 'Demand_Last_Week_Same_Hour',\n",
    "    'Emission_Prev_Hour', 'Emission_Yesterday_Same_Hour', 'Emission_Last_Week_Same_Hour',\n",
    "    'Rolling_Mean_3H', 'Rolling_Mean_24H', 'Rolling_Mean_3H_Emission', 'Rolling_Mean_24H_Emission',\n",
    "    'Total_Gen', 'Renewable_Pct', 'Fossil_Pct', 'Renewable_Demand', 'Fossil_Demand', 'Demand_diff1', 'Demand_diff24'\n",
    "]\n",
    "target_cols = ['Demand', 'CO2_Total_Emissions']\n",
    "\n",
    "features = region_df[feature_cols]\n",
    "targets = region_df[target_cols]\n",
    "\n",
    "scaler_X = MinMaxScaler()\n",
    "scaler_y = MinMaxScaler()\n",
    "X_scaled = scaler_X.fit_transform(features)\n",
    "y_scaled = scaler_y.fit_transform(targets)\n",
    "\n",
    "def create_sequences(X, y, lookback=30):\n",
    "    Xs, ys = [], []\n",
    "    for i in range(lookback, len(X)):\n",
    "        Xs.append(X[i-lookback:i])\n",
    "        ys.append(y[i])\n",
    "    return np.array(Xs), np.array(ys)\n",
    "\n",
    "X_seq, y_seq = create_sequences(X_scaled, y_scaled)\n",
    "split = int(0.7 * len(X_seq))\n",
    "X_train, X_test = X_seq[:split], X_seq[split:]\n",
    "y_train, y_test = y_seq[:split], y_seq[split:]\n",
    "\n",
    "for epoch in epochs_list:\n",
    "    model = Sequential([\n",
    "        LSTM(64, input_shape=(X_train.shape[1], X_train.shape[2])),\n",
    "        Dense(2)\n",
    "    ])\n",
    "    model.compile(optimizer='adam', loss='mse')\n",
    "    model.fit(X_train, y_train, epochs=epoch, batch_size=64, verbose=0)\n",
    "    y_pred_scaled = model.predict(X_test)\n",
    "    y_pred = scaler_y.inverse_transform(y_pred_scaled)\n",
    "    y_true = scaler_y.inverse_transform(y_test)\n",
    "\n",
    "    mae_demand = mean_absolute_error(y_true[:, 0], y_pred[:, 0])\n",
    "    rmse_demand = np.sqrt(mean_squared_error(y_true[:, 0], y_pred[:, 0]))\n",
    "    mape_demand = mean_absolute_percentage_error(y_true[:, 0], y_pred[:, 0])\n",
    "    mae_co2 = mean_absolute_error(y_true[:, 1], y_pred[:, 1])\n",
    "    rmse_co2 = np.sqrt(mean_squared_error(y_true[:, 1], y_pred[:, 1]))\n",
    "    mape_co2 = mean_absolute_percentage_error(y_true[:, 1], y_pred[:, 1])\n",
    "\n",
    "    results.append({\n",
    "        'Region': region_code,\n",
    "        'Epoch': epoch,\n",
    "        'MAE_Demand': mae_demand,\n",
    "        'RMSE_Demand': rmse_demand,\n",
    "        'MAPE_Demand(%)': mape_demand,\n",
    "        'MAE_CO2': mae_co2,\n",
    "        'RMSE_CO2': rmse_co2,\n",
    "        'MAPE_CO2(%)': mape_co2\n",
    "    })\n",
    "\n",
    "results_df = pd.DataFrame(results)\n",
    "print(results_df)\n"
   ]
  },
  {
   "cell_type": "code",
   "execution_count": 17,
   "id": "f08dd79b-8aa4-4555-a1bb-6328d6e135db",
   "metadata": {},
   "outputs": [
    {
     "name": "stderr",
     "output_type": "stream",
     "text": [
      "C:\\Users\\rosem\\AppData\\Roaming\\Python\\Python312\\site-packages\\keras\\src\\layers\\rnn\\rnn.py:199: UserWarning: Do not pass an `input_shape`/`input_dim` argument to a layer. When using Sequential models, prefer using an `Input(shape)` object as the first layer in the model instead.\n",
      "  super().__init__(**kwargs)\n"
     ]
    },
    {
     "name": "stdout",
     "output_type": "stream",
     "text": [
      "\u001b[1m479/479\u001b[0m \u001b[32m━━━━━━━━━━━━━━━━━━━━\u001b[0m\u001b[37m\u001b[0m \u001b[1m2s\u001b[0m 4ms/step\n"
     ]
    },
    {
     "name": "stderr",
     "output_type": "stream",
     "text": [
      "C:\\Users\\rosem\\AppData\\Roaming\\Python\\Python312\\site-packages\\keras\\src\\layers\\rnn\\rnn.py:199: UserWarning: Do not pass an `input_shape`/`input_dim` argument to a layer. When using Sequential models, prefer using an `Input(shape)` object as the first layer in the model instead.\n",
      "  super().__init__(**kwargs)\n"
     ]
    },
    {
     "name": "stdout",
     "output_type": "stream",
     "text": [
      "\u001b[1m479/479\u001b[0m \u001b[32m━━━━━━━━━━━━━━━━━━━━\u001b[0m\u001b[37m\u001b[0m \u001b[1m2s\u001b[0m 4ms/step\n"
     ]
    },
    {
     "name": "stderr",
     "output_type": "stream",
     "text": [
      "C:\\Users\\rosem\\AppData\\Roaming\\Python\\Python312\\site-packages\\keras\\src\\layers\\rnn\\rnn.py:199: UserWarning: Do not pass an `input_shape`/`input_dim` argument to a layer. When using Sequential models, prefer using an `Input(shape)` object as the first layer in the model instead.\n",
      "  super().__init__(**kwargs)\n"
     ]
    },
    {
     "name": "stdout",
     "output_type": "stream",
     "text": [
      "\u001b[1m479/479\u001b[0m \u001b[32m━━━━━━━━━━━━━━━━━━━━\u001b[0m\u001b[37m\u001b[0m \u001b[1m2s\u001b[0m 4ms/step\n"
     ]
    },
    {
     "name": "stderr",
     "output_type": "stream",
     "text": [
      "C:\\Users\\rosem\\AppData\\Roaming\\Python\\Python312\\site-packages\\keras\\src\\layers\\rnn\\rnn.py:199: UserWarning: Do not pass an `input_shape`/`input_dim` argument to a layer. When using Sequential models, prefer using an `Input(shape)` object as the first layer in the model instead.\n",
      "  super().__init__(**kwargs)\n"
     ]
    },
    {
     "name": "stdout",
     "output_type": "stream",
     "text": [
      "\u001b[1m479/479\u001b[0m \u001b[32m━━━━━━━━━━━━━━━━━━━━\u001b[0m\u001b[37m\u001b[0m \u001b[1m2s\u001b[0m 4ms/step\n",
      "  Region  Epoch  MAE_Demand  RMSE_Demand  MAPE_Demand(%)      MAE_CO2  \\\n",
      "0    TEX      1  701.707452   911.394561        1.453702   653.068102   \n",
      "1    TEX      2  848.534790  1042.582664        1.795109   725.296952   \n",
      "2    TEX      5  386.542460   480.516706        0.822309   914.376346   \n",
      "3    TEX     10  454.974737   606.655605        0.938540  1076.152991   \n",
      "\n",
      "      RMSE_CO2  MAPE_CO2(%)  \n",
      "0   830.319757     4.471865  \n",
      "1   925.038723     5.119523  \n",
      "2  1111.541973     5.987209  \n",
      "3  1327.048338     7.151549  \n"
     ]
    }
   ],
   "source": [
    "from sklearn.metrics import mean_absolute_error, mean_squared_error\n",
    "\n",
    "def mean_absolute_percentage_error(y_true, y_pred):\n",
    "    y_true, y_pred = np.array(y_true), np.array(y_pred)\n",
    "    return np.mean(np.abs((y_true - y_pred) / np.maximum(np.abs(y_true), 1e-6))) * 100\n",
    "\n",
    "region_code = 'TEX'   # or 'TEX' for Texas\n",
    "epochs_list = [1, 2, 5, 10]\n",
    "results = []\n",
    "\n",
    "# --- Use your full data, no grouping/aggregation ---\n",
    "region_df = df[df['Region'] == region_code].copy()\n",
    "region_df['Date'] = pd.to_datetime(region_df['Date'])\n",
    "region_df = region_df.sort_values('Date').reset_index(drop=True)\n",
    "\n",
    "feature_cols = [\n",
    "    'Hour', 'Month', 'DayOfWeek', 'Is_Weekend', 'DayOfYear', 'WeekOfYear',\n",
    "    'Season_Autumn', 'Season_Spring', 'Season_Summer', 'Season_Winter',\n",
    "    'Demand_Prev_Hour', 'Demand_Yesterday_Same_Hour', 'Demand_Last_Week_Same_Hour',\n",
    "    'Emission_Prev_Hour', 'Emission_Yesterday_Same_Hour', 'Emission_Last_Week_Same_Hour',\n",
    "    'Rolling_Mean_3H', 'Rolling_Mean_24H', 'Rolling_Mean_3H_Emission', 'Rolling_Mean_24H_Emission',\n",
    "    'Total_Gen', 'Renewable_Pct', 'Fossil_Pct', 'Renewable_Demand', 'Fossil_Demand', 'Demand_diff1', 'Demand_diff24'\n",
    "]\n",
    "target_cols = ['Demand', 'CO2_Total_Emissions']\n",
    "\n",
    "features = region_df[feature_cols]\n",
    "targets = region_df[target_cols]\n",
    "\n",
    "scaler_X = MinMaxScaler()\n",
    "scaler_y = MinMaxScaler()\n",
    "X_scaled = scaler_X.fit_transform(features)\n",
    "y_scaled = scaler_y.fit_transform(targets)\n",
    "\n",
    "def create_sequences(X, y, lookback=30):\n",
    "    Xs, ys = [], []\n",
    "    for i in range(lookback, len(X)):\n",
    "        Xs.append(X[i-lookback:i])\n",
    "        ys.append(y[i])\n",
    "    return np.array(Xs), np.array(ys)\n",
    "\n",
    "X_seq, y_seq = create_sequences(X_scaled, y_scaled)\n",
    "split = int(0.65 * len(X_seq))\n",
    "X_train, X_test = X_seq[:split], X_seq[split:]\n",
    "y_train, y_test = y_seq[:split], y_seq[split:]\n",
    "\n",
    "for epoch in epochs_list:\n",
    "    model = Sequential([\n",
    "        LSTM(64, input_shape=(X_train.shape[1], X_train.shape[2])),\n",
    "        Dense(2)\n",
    "    ])\n",
    "    model.compile(optimizer='adam', loss='mse')\n",
    "    model.fit(X_train, y_train, epochs=epoch, batch_size=64, verbose=0)\n",
    "    y_pred_scaled = model.predict(X_test)\n",
    "    y_pred = scaler_y.inverse_transform(y_pred_scaled)\n",
    "    y_true = scaler_y.inverse_transform(y_test)\n",
    "\n",
    "    mae_demand = mean_absolute_error(y_true[:, 0], y_pred[:, 0])\n",
    "    rmse_demand = np.sqrt(mean_squared_error(y_true[:, 0], y_pred[:, 0]))\n",
    "    mape_demand = mean_absolute_percentage_error(y_true[:, 0], y_pred[:, 0])\n",
    "    mae_co2 = mean_absolute_error(y_true[:, 1], y_pred[:, 1])\n",
    "    rmse_co2 = np.sqrt(mean_squared_error(y_true[:, 1], y_pred[:, 1]))\n",
    "    mape_co2 = mean_absolute_percentage_error(y_true[:, 1], y_pred[:, 1])\n",
    "\n",
    "    results.append({\n",
    "        'Region': region_code,\n",
    "        'Epoch': epoch,\n",
    "        'MAE_Demand': mae_demand,\n",
    "        'RMSE_Demand': rmse_demand,\n",
    "        'MAPE_Demand(%)': mape_demand,\n",
    "        'MAE_CO2': mae_co2,\n",
    "        'RMSE_CO2': rmse_co2,\n",
    "        'MAPE_CO2(%)': mape_co2\n",
    "    })\n",
    "\n",
    "results_df = pd.DataFrame(results)\n",
    "print(results_df)\n"
   ]
  },
  {
   "cell_type": "code",
   "execution_count": 18,
   "id": "3bfe631e-0a1c-4812-bcef-a4dc454b28c6",
   "metadata": {},
   "outputs": [
    {
     "name": "stderr",
     "output_type": "stream",
     "text": [
      "C:\\Users\\rosem\\AppData\\Roaming\\Python\\Python312\\site-packages\\keras\\src\\layers\\rnn\\rnn.py:199: UserWarning: Do not pass an `input_shape`/`input_dim` argument to a layer. When using Sequential models, prefer using an `Input(shape)` object as the first layer in the model instead.\n",
      "  super().__init__(**kwargs)\n"
     ]
    },
    {
     "name": "stdout",
     "output_type": "stream",
     "text": [
      "\u001b[1m547/547\u001b[0m \u001b[32m━━━━━━━━━━━━━━━━━━━━\u001b[0m\u001b[37m\u001b[0m \u001b[1m2s\u001b[0m 4ms/step\n"
     ]
    },
    {
     "name": "stderr",
     "output_type": "stream",
     "text": [
      "C:\\Users\\rosem\\AppData\\Roaming\\Python\\Python312\\site-packages\\keras\\src\\layers\\rnn\\rnn.py:199: UserWarning: Do not pass an `input_shape`/`input_dim` argument to a layer. When using Sequential models, prefer using an `Input(shape)` object as the first layer in the model instead.\n",
      "  super().__init__(**kwargs)\n"
     ]
    },
    {
     "name": "stdout",
     "output_type": "stream",
     "text": [
      "\u001b[1m547/547\u001b[0m \u001b[32m━━━━━━━━━━━━━━━━━━━━\u001b[0m\u001b[37m\u001b[0m \u001b[1m2s\u001b[0m 4ms/step\n"
     ]
    },
    {
     "name": "stderr",
     "output_type": "stream",
     "text": [
      "C:\\Users\\rosem\\AppData\\Roaming\\Python\\Python312\\site-packages\\keras\\src\\layers\\rnn\\rnn.py:199: UserWarning: Do not pass an `input_shape`/`input_dim` argument to a layer. When using Sequential models, prefer using an `Input(shape)` object as the first layer in the model instead.\n",
      "  super().__init__(**kwargs)\n"
     ]
    },
    {
     "name": "stdout",
     "output_type": "stream",
     "text": [
      "\u001b[1m547/547\u001b[0m \u001b[32m━━━━━━━━━━━━━━━━━━━━\u001b[0m\u001b[37m\u001b[0m \u001b[1m2s\u001b[0m 4ms/step\n"
     ]
    },
    {
     "name": "stderr",
     "output_type": "stream",
     "text": [
      "C:\\Users\\rosem\\AppData\\Roaming\\Python\\Python312\\site-packages\\keras\\src\\layers\\rnn\\rnn.py:199: UserWarning: Do not pass an `input_shape`/`input_dim` argument to a layer. When using Sequential models, prefer using an `Input(shape)` object as the first layer in the model instead.\n",
      "  super().__init__(**kwargs)\n"
     ]
    },
    {
     "name": "stdout",
     "output_type": "stream",
     "text": [
      "\u001b[1m547/547\u001b[0m \u001b[32m━━━━━━━━━━━━━━━━━━━━\u001b[0m\u001b[37m\u001b[0m \u001b[1m2s\u001b[0m 4ms/step\n",
      "  Region  Epoch  MAE_Demand  RMSE_Demand  MAPE_Demand(%)      MAE_CO2  \\\n",
      "0    TEX      1  762.321228   961.095832        1.582127   743.743156   \n",
      "1    TEX      2  806.732658  1049.796539        1.632132   778.366869   \n",
      "2    TEX      5  545.687449   790.338992        1.057589  1369.046416   \n",
      "3    TEX     10  551.737979   825.554287        1.047678  1129.083720   \n",
      "\n",
      "      RMSE_CO2  MAPE_CO2(%)  \n",
      "0   948.039039     5.113342  \n",
      "1   964.011216     5.254727  \n",
      "2  1662.584363     8.744528  \n",
      "3  1397.200301     7.122101  \n"
     ]
    }
   ],
   "source": [
    "from sklearn.metrics import mean_absolute_error, mean_squared_error\n",
    "\n",
    "def mean_absolute_percentage_error(y_true, y_pred):\n",
    "    y_true, y_pred = np.array(y_true), np.array(y_pred)\n",
    "    return np.mean(np.abs((y_true - y_pred) / np.maximum(np.abs(y_true), 1e-6))) * 100\n",
    "\n",
    "region_code = 'TEX'   # or 'TEX' for Texas\n",
    "epochs_list = [1, 2, 5, 10]\n",
    "results = []\n",
    "\n",
    "# --- Use your full data, no grouping/aggregation ---\n",
    "region_df = df[df['Region'] == region_code].copy()\n",
    "region_df['Date'] = pd.to_datetime(region_df['Date'])\n",
    "region_df = region_df.sort_values('Date').reset_index(drop=True)\n",
    "\n",
    "feature_cols = [\n",
    "    'Hour', 'Month', 'DayOfWeek', 'Is_Weekend', 'DayOfYear', 'WeekOfYear',\n",
    "    'Season_Autumn', 'Season_Spring', 'Season_Summer', 'Season_Winter',\n",
    "    'Demand_Prev_Hour', 'Demand_Yesterday_Same_Hour', 'Demand_Last_Week_Same_Hour',\n",
    "    'Emission_Prev_Hour', 'Emission_Yesterday_Same_Hour', 'Emission_Last_Week_Same_Hour',\n",
    "    'Rolling_Mean_3H', 'Rolling_Mean_24H', 'Rolling_Mean_3H_Emission', 'Rolling_Mean_24H_Emission',\n",
    "    'Total_Gen', 'Renewable_Pct', 'Fossil_Pct', 'Renewable_Demand', 'Fossil_Demand', 'Demand_diff1', 'Demand_diff24'\n",
    "]\n",
    "target_cols = ['Demand', 'CO2_Total_Emissions']\n",
    "\n",
    "features = region_df[feature_cols]\n",
    "targets = region_df[target_cols]\n",
    "\n",
    "scaler_X = MinMaxScaler()\n",
    "scaler_y = MinMaxScaler()\n",
    "X_scaled = scaler_X.fit_transform(features)\n",
    "y_scaled = scaler_y.fit_transform(targets)\n",
    "\n",
    "def create_sequences(X, y, lookback=30):\n",
    "    Xs, ys = [], []\n",
    "    for i in range(lookback, len(X)):\n",
    "        Xs.append(X[i-lookback:i])\n",
    "        ys.append(y[i])\n",
    "    return np.array(Xs), np.array(ys)\n",
    "\n",
    "X_seq, y_seq = create_sequences(X_scaled, y_scaled)\n",
    "split = int(0.6 * len(X_seq))\n",
    "X_train, X_test = X_seq[:split], X_seq[split:]\n",
    "y_train, y_test = y_seq[:split], y_seq[split:]\n",
    "\n",
    "for epoch in epochs_list:\n",
    "    model = Sequential([\n",
    "        LSTM(64, input_shape=(X_train.shape[1], X_train.shape[2])),\n",
    "        Dense(2)\n",
    "    ])\n",
    "    model.compile(optimizer='adam', loss='mse')\n",
    "    model.fit(X_train, y_train, epochs=epoch, batch_size=64, verbose=0)\n",
    "    y_pred_scaled = model.predict(X_test)\n",
    "    y_pred = scaler_y.inverse_transform(y_pred_scaled)\n",
    "    y_true = scaler_y.inverse_transform(y_test)\n",
    "\n",
    "    mae_demand = mean_absolute_error(y_true[:, 0], y_pred[:, 0])\n",
    "    rmse_demand = np.sqrt(mean_squared_error(y_true[:, 0], y_pred[:, 0]))\n",
    "    mape_demand = mean_absolute_percentage_error(y_true[:, 0], y_pred[:, 0])\n",
    "    mae_co2 = mean_absolute_error(y_true[:, 1], y_pred[:, 1])\n",
    "    rmse_co2 = np.sqrt(mean_squared_error(y_true[:, 1], y_pred[:, 1]))\n",
    "    mape_co2 = mean_absolute_percentage_error(y_true[:, 1], y_pred[:, 1])\n",
    "\n",
    "    results.append({\n",
    "        'Region': region_code,\n",
    "        'Epoch': epoch,\n",
    "        'MAE_Demand': mae_demand,\n",
    "        'RMSE_Demand': rmse_demand,\n",
    "        'MAPE_Demand(%)': mape_demand,\n",
    "        'MAE_CO2': mae_co2,\n",
    "        'RMSE_CO2': rmse_co2,\n",
    "        'MAPE_CO2(%)': mape_co2\n",
    "    })\n",
    "\n",
    "results_df = pd.DataFrame(results)\n",
    "print(results_df)\n"
   ]
  },
  {
   "cell_type": "code",
   "execution_count": null,
   "id": "1aa0727b-240a-4201-957b-b11d2c40d9ef",
   "metadata": {},
   "outputs": [],
   "source": []
  }
 ],
 "metadata": {
  "kernelspec": {
   "display_name": "Python [conda env:base] *",
   "language": "python",
   "name": "conda-base-py"
  },
  "language_info": {
   "codemirror_mode": {
    "name": "ipython",
    "version": 3
   },
   "file_extension": ".py",
   "mimetype": "text/x-python",
   "name": "python",
   "nbconvert_exporter": "python",
   "pygments_lexer": "ipython3",
   "version": "3.12.7"
  }
 },
 "nbformat": 4,
 "nbformat_minor": 5
}
