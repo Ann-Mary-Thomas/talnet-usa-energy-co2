{
 "cells": [
  {
   "cell_type": "code",
   "execution_count": 1,
   "id": "eaf4b972-85c3-478f-a765-9391828f4d2f",
   "metadata": {},
   "outputs": [],
   "source": [
    "import numpy as np\n",
    "import pandas as pd\n",
    "from sklearn.preprocessing import MinMaxScaler\n",
    "from sklearn.neural_network import BernoulliRBM\n",
    "from tensorflow.keras.models import Sequential\n",
    "from tensorflow.keras.layers import LSTM, Dense"
   ]
  },
  {
   "cell_type": "code",
   "execution_count": 2,
   "id": "f5f85676-4eab-4583-bad9-841cdeb52022",
   "metadata": {},
   "outputs": [
    {
     "data": {
      "text/html": [
       "<div>\n",
       "<style scoped>\n",
       "    .dataframe tbody tr th:only-of-type {\n",
       "        vertical-align: middle;\n",
       "    }\n",
       "\n",
       "    .dataframe tbody tr th {\n",
       "        vertical-align: top;\n",
       "    }\n",
       "\n",
       "    .dataframe thead th {\n",
       "        text-align: right;\n",
       "    }\n",
       "</style>\n",
       "<table border=\"1\" class=\"dataframe\">\n",
       "  <thead>\n",
       "    <tr style=\"text-align: right;\">\n",
       "      <th></th>\n",
       "      <th>Date</th>\n",
       "      <th>Hour</th>\n",
       "      <th>Demand</th>\n",
       "      <th>Net_Generation</th>\n",
       "      <th>Total_Interchange</th>\n",
       "      <th>Forecasted_Demand</th>\n",
       "      <th>Coal_Gen</th>\n",
       "      <th>Gas_Gen</th>\n",
       "      <th>Nuclear_Gen</th>\n",
       "      <th>Hydro_Gen</th>\n",
       "      <th>...</th>\n",
       "      <th>Rolling_Mean_24H</th>\n",
       "      <th>Rolling_Mean_3H_Emission</th>\n",
       "      <th>Rolling_Mean_24H_Emission</th>\n",
       "      <th>Total_Gen</th>\n",
       "      <th>Renewable_Pct</th>\n",
       "      <th>Fossil_Pct</th>\n",
       "      <th>Renewable_Demand</th>\n",
       "      <th>Fossil_Demand</th>\n",
       "      <th>Demand_diff1</th>\n",
       "      <th>Demand_diff24</th>\n",
       "    </tr>\n",
       "  </thead>\n",
       "  <tbody>\n",
       "    <tr>\n",
       "      <th>0</th>\n",
       "      <td>2018-07-01 17:00:00</td>\n",
       "      <td>12.5</td>\n",
       "      <td>28976.042</td>\n",
       "      <td>21138.304</td>\n",
       "      <td>-6528.677</td>\n",
       "      <td>28386.220</td>\n",
       "      <td>8.764</td>\n",
       "      <td>7725.951</td>\n",
       "      <td>2261.073</td>\n",
       "      <td>3089.741</td>\n",
       "      <td>...</td>\n",
       "      <td>42604.509</td>\n",
       "      <td>27096.582</td>\n",
       "      <td>17297.042</td>\n",
       "      <td>17521.203</td>\n",
       "      <td>42.950</td>\n",
       "      <td>44.145</td>\n",
       "      <td>1244530.613</td>\n",
       "      <td>1279144.078</td>\n",
       "      <td>89.458</td>\n",
       "      <td>172.875</td>\n",
       "    </tr>\n",
       "    <tr>\n",
       "      <th>1</th>\n",
       "      <td>2018-07-01 18:00:00</td>\n",
       "      <td>12.5</td>\n",
       "      <td>29065.500</td>\n",
       "      <td>21217.885</td>\n",
       "      <td>-6554.521</td>\n",
       "      <td>28486.010</td>\n",
       "      <td>8.792</td>\n",
       "      <td>7761.917</td>\n",
       "      <td>2261.062</td>\n",
       "      <td>3110.594</td>\n",
       "      <td>...</td>\n",
       "      <td>41847.195</td>\n",
       "      <td>8244.812</td>\n",
       "      <td>17052.778</td>\n",
       "      <td>17577.073</td>\n",
       "      <td>42.927</td>\n",
       "      <td>44.209</td>\n",
       "      <td>1247693.394</td>\n",
       "      <td>1284966.639</td>\n",
       "      <td>89.458</td>\n",
       "      <td>172.875</td>\n",
       "    </tr>\n",
       "    <tr>\n",
       "      <th>2</th>\n",
       "      <td>2018-07-01 19:00:00</td>\n",
       "      <td>12.5</td>\n",
       "      <td>29154.958</td>\n",
       "      <td>21297.467</td>\n",
       "      <td>-6580.365</td>\n",
       "      <td>28585.800</td>\n",
       "      <td>8.819</td>\n",
       "      <td>7797.882</td>\n",
       "      <td>2261.052</td>\n",
       "      <td>3131.446</td>\n",
       "      <td>...</td>\n",
       "      <td>45629.697</td>\n",
       "      <td>24266.186</td>\n",
       "      <td>19327.269</td>\n",
       "      <td>17632.943</td>\n",
       "      <td>42.904</td>\n",
       "      <td>44.273</td>\n",
       "      <td>1250856.313</td>\n",
       "      <td>1290788.823</td>\n",
       "      <td>89.458</td>\n",
       "      <td>172.875</td>\n",
       "    </tr>\n",
       "    <tr>\n",
       "      <th>3</th>\n",
       "      <td>2018-07-01 20:00:00</td>\n",
       "      <td>12.5</td>\n",
       "      <td>29244.417</td>\n",
       "      <td>21377.049</td>\n",
       "      <td>-6606.208</td>\n",
       "      <td>28685.590</td>\n",
       "      <td>8.847</td>\n",
       "      <td>7833.847</td>\n",
       "      <td>2261.042</td>\n",
       "      <td>3152.299</td>\n",
       "      <td>...</td>\n",
       "      <td>48609.446</td>\n",
       "      <td>6436.826</td>\n",
       "      <td>20904.933</td>\n",
       "      <td>17688.812</td>\n",
       "      <td>42.881</td>\n",
       "      <td>44.337</td>\n",
       "      <td>1254019.366</td>\n",
       "      <td>1296610.635</td>\n",
       "      <td>89.458</td>\n",
       "      <td>172.875</td>\n",
       "    </tr>\n",
       "    <tr>\n",
       "      <th>4</th>\n",
       "      <td>2018-07-01 21:00:00</td>\n",
       "      <td>12.5</td>\n",
       "      <td>29333.875</td>\n",
       "      <td>21456.630</td>\n",
       "      <td>-6632.052</td>\n",
       "      <td>28785.380</td>\n",
       "      <td>8.875</td>\n",
       "      <td>7869.812</td>\n",
       "      <td>2261.031</td>\n",
       "      <td>3173.151</td>\n",
       "      <td>...</td>\n",
       "      <td>49142.567</td>\n",
       "      <td>6326.084</td>\n",
       "      <td>21205.564</td>\n",
       "      <td>17744.682</td>\n",
       "      <td>42.858</td>\n",
       "      <td>44.400</td>\n",
       "      <td>1257182.553</td>\n",
       "      <td>1302432.078</td>\n",
       "      <td>89.458</td>\n",
       "      <td>172.875</td>\n",
       "    </tr>\n",
       "    <tr>\n",
       "      <th>...</th>\n",
       "      <td>...</td>\n",
       "      <td>...</td>\n",
       "      <td>...</td>\n",
       "      <td>...</td>\n",
       "      <td>...</td>\n",
       "      <td>...</td>\n",
       "      <td>...</td>\n",
       "      <td>...</td>\n",
       "      <td>...</td>\n",
       "      <td>...</td>\n",
       "      <td>...</td>\n",
       "      <td>...</td>\n",
       "      <td>...</td>\n",
       "      <td>...</td>\n",
       "      <td>...</td>\n",
       "      <td>...</td>\n",
       "      <td>...</td>\n",
       "      <td>...</td>\n",
       "      <td>...</td>\n",
       "      <td>...</td>\n",
       "      <td>...</td>\n",
       "    </tr>\n",
       "    <tr>\n",
       "      <th>525055</th>\n",
       "      <td>2023-06-29 20:00:00</td>\n",
       "      <td>12.5</td>\n",
       "      <td>64967.778</td>\n",
       "      <td>65025.979</td>\n",
       "      <td>58.042</td>\n",
       "      <td>65732.083</td>\n",
       "      <td>8989.486</td>\n",
       "      <td>27552.910</td>\n",
       "      <td>4647.181</td>\n",
       "      <td>32.896</td>\n",
       "      <td>...</td>\n",
       "      <td>49409.849</td>\n",
       "      <td>30361.664</td>\n",
       "      <td>19267.173</td>\n",
       "      <td>46077.069</td>\n",
       "      <td>10.607</td>\n",
       "      <td>79.307</td>\n",
       "      <td>689127.079</td>\n",
       "      <td>5152407.218</td>\n",
       "      <td>-65.642</td>\n",
       "      <td>-1360.549</td>\n",
       "    </tr>\n",
       "    <tr>\n",
       "      <th>525056</th>\n",
       "      <td>2023-06-29 21:00:00</td>\n",
       "      <td>12.5</td>\n",
       "      <td>64902.135</td>\n",
       "      <td>64963.474</td>\n",
       "      <td>61.177</td>\n",
       "      <td>65699.302</td>\n",
       "      <td>8993.729</td>\n",
       "      <td>27593.401</td>\n",
       "      <td>4647.292</td>\n",
       "      <td>33.224</td>\n",
       "      <td>...</td>\n",
       "      <td>46137.266</td>\n",
       "      <td>13730.128</td>\n",
       "      <td>18243.586</td>\n",
       "      <td>46106.208</td>\n",
       "      <td>10.566</td>\n",
       "      <td>79.354</td>\n",
       "      <td>685784.748</td>\n",
       "      <td>5150245.412</td>\n",
       "      <td>-65.642</td>\n",
       "      <td>-1414.266</td>\n",
       "    </tr>\n",
       "    <tr>\n",
       "      <th>525057</th>\n",
       "      <td>2023-06-29 22:00:00</td>\n",
       "      <td>12.5</td>\n",
       "      <td>64836.493</td>\n",
       "      <td>64900.969</td>\n",
       "      <td>64.312</td>\n",
       "      <td>65666.521</td>\n",
       "      <td>8997.972</td>\n",
       "      <td>27633.892</td>\n",
       "      <td>4647.403</td>\n",
       "      <td>33.552</td>\n",
       "      <td>...</td>\n",
       "      <td>45454.091</td>\n",
       "      <td>12961.713</td>\n",
       "      <td>16905.630</td>\n",
       "      <td>46135.347</td>\n",
       "      <td>10.526</td>\n",
       "      <td>79.401</td>\n",
       "      <td>682451.108</td>\n",
       "      <td>5148073.607</td>\n",
       "      <td>-65.642</td>\n",
       "      <td>-1467.983</td>\n",
       "    </tr>\n",
       "    <tr>\n",
       "      <th>525058</th>\n",
       "      <td>2023-06-29 23:00:00</td>\n",
       "      <td>12.5</td>\n",
       "      <td>64770.851</td>\n",
       "      <td>64838.464</td>\n",
       "      <td>67.448</td>\n",
       "      <td>65633.740</td>\n",
       "      <td>9002.215</td>\n",
       "      <td>27674.384</td>\n",
       "      <td>4647.514</td>\n",
       "      <td>33.880</td>\n",
       "      <td>...</td>\n",
       "      <td>39779.804</td>\n",
       "      <td>15939.369</td>\n",
       "      <td>14414.641</td>\n",
       "      <td>46164.486</td>\n",
       "      <td>10.485</td>\n",
       "      <td>79.448</td>\n",
       "      <td>679126.143</td>\n",
       "      <td>5145891.821</td>\n",
       "      <td>-65.642</td>\n",
       "      <td>-1521.700</td>\n",
       "    </tr>\n",
       "    <tr>\n",
       "      <th>525059</th>\n",
       "      <td>2023-06-30 00:00:00</td>\n",
       "      <td>12.5</td>\n",
       "      <td>64705.208</td>\n",
       "      <td>64775.958</td>\n",
       "      <td>70.583</td>\n",
       "      <td>65600.958</td>\n",
       "      <td>9006.458</td>\n",
       "      <td>27714.875</td>\n",
       "      <td>4647.625</td>\n",
       "      <td>34.208</td>\n",
       "      <td>...</td>\n",
       "      <td>44508.672</td>\n",
       "      <td>11586.410</td>\n",
       "      <td>17087.679</td>\n",
       "      <td>46193.625</td>\n",
       "      <td>10.444</td>\n",
       "      <td>79.494</td>\n",
       "      <td>675809.837</td>\n",
       "      <td>5143700.075</td>\n",
       "      <td>-65.642</td>\n",
       "      <td>-1575.417</td>\n",
       "    </tr>\n",
       "  </tbody>\n",
       "</table>\n",
       "<p>87561 rows × 45 columns</p>\n",
       "</div>"
      ],
      "text/plain": [
       "                       Date  Hour     Demand  Net_Generation  \\\n",
       "0       2018-07-01 17:00:00  12.5  28976.042       21138.304   \n",
       "1       2018-07-01 18:00:00  12.5  29065.500       21217.885   \n",
       "2       2018-07-01 19:00:00  12.5  29154.958       21297.467   \n",
       "3       2018-07-01 20:00:00  12.5  29244.417       21377.049   \n",
       "4       2018-07-01 21:00:00  12.5  29333.875       21456.630   \n",
       "...                     ...   ...        ...             ...   \n",
       "525055  2023-06-29 20:00:00  12.5  64967.778       65025.979   \n",
       "525056  2023-06-29 21:00:00  12.5  64902.135       64963.474   \n",
       "525057  2023-06-29 22:00:00  12.5  64836.493       64900.969   \n",
       "525058  2023-06-29 23:00:00  12.5  64770.851       64838.464   \n",
       "525059  2023-06-30 00:00:00  12.5  64705.208       64775.958   \n",
       "\n",
       "        Total_Interchange  Forecasted_Demand  Coal_Gen    Gas_Gen  \\\n",
       "0               -6528.677          28386.220     8.764   7725.951   \n",
       "1               -6554.521          28486.010     8.792   7761.917   \n",
       "2               -6580.365          28585.800     8.819   7797.882   \n",
       "3               -6606.208          28685.590     8.847   7833.847   \n",
       "4               -6632.052          28785.380     8.875   7869.812   \n",
       "...                   ...                ...       ...        ...   \n",
       "525055             58.042          65732.083  8989.486  27552.910   \n",
       "525056             61.177          65699.302  8993.729  27593.401   \n",
       "525057             64.312          65666.521  8997.972  27633.892   \n",
       "525058             67.448          65633.740  9002.215  27674.384   \n",
       "525059             70.583          65600.958  9006.458  27714.875   \n",
       "\n",
       "        Nuclear_Gen  Hydro_Gen  ...  Rolling_Mean_24H  \\\n",
       "0          2261.073   3089.741  ...         42604.509   \n",
       "1          2261.062   3110.594  ...         41847.195   \n",
       "2          2261.052   3131.446  ...         45629.697   \n",
       "3          2261.042   3152.299  ...         48609.446   \n",
       "4          2261.031   3173.151  ...         49142.567   \n",
       "...             ...        ...  ...               ...   \n",
       "525055     4647.181     32.896  ...         49409.849   \n",
       "525056     4647.292     33.224  ...         46137.266   \n",
       "525057     4647.403     33.552  ...         45454.091   \n",
       "525058     4647.514     33.880  ...         39779.804   \n",
       "525059     4647.625     34.208  ...         44508.672   \n",
       "\n",
       "        Rolling_Mean_3H_Emission  Rolling_Mean_24H_Emission  Total_Gen  \\\n",
       "0                      27096.582                  17297.042  17521.203   \n",
       "1                       8244.812                  17052.778  17577.073   \n",
       "2                      24266.186                  19327.269  17632.943   \n",
       "3                       6436.826                  20904.933  17688.812   \n",
       "4                       6326.084                  21205.564  17744.682   \n",
       "...                          ...                        ...        ...   \n",
       "525055                 30361.664                  19267.173  46077.069   \n",
       "525056                 13730.128                  18243.586  46106.208   \n",
       "525057                 12961.713                  16905.630  46135.347   \n",
       "525058                 15939.369                  14414.641  46164.486   \n",
       "525059                 11586.410                  17087.679  46193.625   \n",
       "\n",
       "        Renewable_Pct  Fossil_Pct  Renewable_Demand  Fossil_Demand  \\\n",
       "0              42.950      44.145       1244530.613    1279144.078   \n",
       "1              42.927      44.209       1247693.394    1284966.639   \n",
       "2              42.904      44.273       1250856.313    1290788.823   \n",
       "3              42.881      44.337       1254019.366    1296610.635   \n",
       "4              42.858      44.400       1257182.553    1302432.078   \n",
       "...               ...         ...               ...            ...   \n",
       "525055         10.607      79.307        689127.079    5152407.218   \n",
       "525056         10.566      79.354        685784.748    5150245.412   \n",
       "525057         10.526      79.401        682451.108    5148073.607   \n",
       "525058         10.485      79.448        679126.143    5145891.821   \n",
       "525059         10.444      79.494        675809.837    5143700.075   \n",
       "\n",
       "        Demand_diff1  Demand_diff24  \n",
       "0             89.458        172.875  \n",
       "1             89.458        172.875  \n",
       "2             89.458        172.875  \n",
       "3             89.458        172.875  \n",
       "4             89.458        172.875  \n",
       "...              ...            ...  \n",
       "525055       -65.642      -1360.549  \n",
       "525056       -65.642      -1414.266  \n",
       "525057       -65.642      -1467.983  \n",
       "525058       -65.642      -1521.700  \n",
       "525059       -65.642      -1575.417  \n",
       "\n",
       "[87561 rows x 45 columns]"
      ]
     },
     "execution_count": 2,
     "metadata": {},
     "output_type": "execute_result"
    }
   ],
   "source": [
    "df = pd.read_csv(r\"C:\\Users\\rosem\\Downloads\\Paper_works\\CSVs\\Feature_engg_Paper2.csv\")\n",
    "df = df[df['Region'].isin(['CAL','TEX'])]\n",
    "df"
   ]
  },
  {
   "cell_type": "code",
   "execution_count": 3,
   "id": "16b6ba16-0ca8-49c7-867d-2986e3a60c88",
   "metadata": {},
   "outputs": [
    {
     "data": {
      "text/plain": [
       "['Date',\n",
       " 'Hour',\n",
       " 'Demand',\n",
       " 'Net_Generation',\n",
       " 'Total_Interchange',\n",
       " 'Forecasted_Demand',\n",
       " 'Coal_Gen',\n",
       " 'Gas_Gen',\n",
       " 'Nuclear_Gen',\n",
       " 'Hydro_Gen',\n",
       " 'Solar_Gen',\n",
       " 'CO2_Factor_Coal',\n",
       " 'CO2_Factor_Gas',\n",
       " 'CO2_Emissions_Coal',\n",
       " 'CO2_Emissions_Gas',\n",
       " 'CO2_Total_Emissions',\n",
       " 'CO2_Intensity_Generated',\n",
       " 'CO2_Intensity_Consumed',\n",
       " 'Month',\n",
       " 'DayOfWeek',\n",
       " 'Is_Weekend',\n",
       " 'DayOfYear',\n",
       " 'WeekOfYear',\n",
       " 'Region',\n",
       " 'Season_Autumn',\n",
       " 'Season_Spring',\n",
       " 'Season_Summer',\n",
       " 'Season_Winter',\n",
       " 'Demand_Prev_Hour',\n",
       " 'Demand_Yesterday_Same_Hour',\n",
       " 'Demand_Last_Week_Same_Hour',\n",
       " 'Emission_Prev_Hour',\n",
       " 'Emission_Yesterday_Same_Hour',\n",
       " 'Emission_Last_Week_Same_Hour',\n",
       " 'Rolling_Mean_3H',\n",
       " 'Rolling_Mean_24H',\n",
       " 'Rolling_Mean_3H_Emission',\n",
       " 'Rolling_Mean_24H_Emission',\n",
       " 'Total_Gen',\n",
       " 'Renewable_Pct',\n",
       " 'Fossil_Pct',\n",
       " 'Renewable_Demand',\n",
       " 'Fossil_Demand',\n",
       " 'Demand_diff1',\n",
       " 'Demand_diff24']"
      ]
     },
     "execution_count": 3,
     "metadata": {},
     "output_type": "execute_result"
    }
   ],
   "source": [
    "df.columns.to_list()"
   ]
  },
  {
   "cell_type": "code",
   "execution_count": 4,
   "id": "7cf739b7-cf11-4fd6-8f87-a7611ebcdd7d",
   "metadata": {},
   "outputs": [
    {
     "data": {
      "text/plain": [
       "array(['CAL', 'TEX'], dtype=object)"
      ]
     },
     "execution_count": 4,
     "metadata": {},
     "output_type": "execute_result"
    }
   ],
   "source": [
    "df['Region'].unique()"
   ]
  },
  {
   "cell_type": "markdown",
   "id": "9022b6d1-27ff-4f66-84a0-9ecdf2c7c184",
   "metadata": {},
   "source": [
    "# 128"
   ]
  },
  {
   "cell_type": "code",
   "execution_count": 6,
   "id": "d0659943-7542-4c93-a9da-9e843750f57c",
   "metadata": {},
   "outputs": [
    {
     "name": "stderr",
     "output_type": "stream",
     "text": [
      "C:\\Users\\rosem\\AppData\\Roaming\\Python\\Python312\\site-packages\\keras\\src\\layers\\rnn\\rnn.py:199: UserWarning: Do not pass an `input_shape`/`input_dim` argument to a layer. When using Sequential models, prefer using an `Input(shape)` object as the first layer in the model instead.\n",
      "  super().__init__(**kwargs)\n"
     ]
    },
    {
     "name": "stdout",
     "output_type": "stream",
     "text": [
      "\u001b[1m274/274\u001b[0m \u001b[32m━━━━━━━━━━━━━━━━━━━━\u001b[0m\u001b[37m\u001b[0m \u001b[1m2s\u001b[0m 8ms/step\n"
     ]
    },
    {
     "name": "stderr",
     "output_type": "stream",
     "text": [
      "C:\\Users\\rosem\\AppData\\Roaming\\Python\\Python312\\site-packages\\keras\\src\\layers\\rnn\\rnn.py:199: UserWarning: Do not pass an `input_shape`/`input_dim` argument to a layer. When using Sequential models, prefer using an `Input(shape)` object as the first layer in the model instead.\n",
      "  super().__init__(**kwargs)\n"
     ]
    },
    {
     "name": "stdout",
     "output_type": "stream",
     "text": [
      "\u001b[1m274/274\u001b[0m \u001b[32m━━━━━━━━━━━━━━━━━━━━\u001b[0m\u001b[37m\u001b[0m \u001b[1m2s\u001b[0m 6ms/step\n"
     ]
    },
    {
     "name": "stderr",
     "output_type": "stream",
     "text": [
      "C:\\Users\\rosem\\AppData\\Roaming\\Python\\Python312\\site-packages\\keras\\src\\layers\\rnn\\rnn.py:199: UserWarning: Do not pass an `input_shape`/`input_dim` argument to a layer. When using Sequential models, prefer using an `Input(shape)` object as the first layer in the model instead.\n",
      "  super().__init__(**kwargs)\n"
     ]
    },
    {
     "name": "stdout",
     "output_type": "stream",
     "text": [
      "\u001b[1m274/274\u001b[0m \u001b[32m━━━━━━━━━━━━━━━━━━━━\u001b[0m\u001b[37m\u001b[0m \u001b[1m2s\u001b[0m 6ms/step\n"
     ]
    },
    {
     "name": "stderr",
     "output_type": "stream",
     "text": [
      "C:\\Users\\rosem\\AppData\\Roaming\\Python\\Python312\\site-packages\\keras\\src\\layers\\rnn\\rnn.py:199: UserWarning: Do not pass an `input_shape`/`input_dim` argument to a layer. When using Sequential models, prefer using an `Input(shape)` object as the first layer in the model instead.\n",
      "  super().__init__(**kwargs)\n"
     ]
    },
    {
     "name": "stdout",
     "output_type": "stream",
     "text": [
      "\u001b[1m274/274\u001b[0m \u001b[32m━━━━━━━━━━━━━━━━━━━━\u001b[0m\u001b[37m\u001b[0m \u001b[1m2s\u001b[0m 6ms/step\n",
      "       Region  Epoch   MAE_Demand  RMSE_Demand  MAPE_Demand(%)      MAE_CO2  \\\n",
      "0  California      1  2447.765922  3544.383677        7.584357  1376.091984   \n",
      "1  California      2  2416.889526  3378.013559        7.524468  1117.503281   \n",
      "2  California      5  1620.907079  2420.234595        5.027921   882.466979   \n",
      "3  California     10  1571.743445  2338.557317        4.959041   807.433462   \n",
      "\n",
      "      RMSE_CO2  MAPE_CO2(%)  \n",
      "0  1693.675481    25.080429  \n",
      "1  1431.600943    22.471495  \n",
      "2  1194.391929    16.122040  \n",
      "3  1122.128822    14.879197  \n"
     ]
    }
   ],
   "source": [
    "import numpy as np\n",
    "import pandas as pd\n",
    "from sklearn.preprocessing import MinMaxScaler\n",
    "from sklearn.neural_network import BernoulliRBM\n",
    "from tensorflow.keras.models import Sequential\n",
    "from tensorflow.keras.layers import LSTM, Dense\n",
    "\n",
    "def mae(y_true, y_pred):\n",
    "    return np.mean(np.abs(y_true - y_pred))\n",
    "def rmse(y_true, y_pred):\n",
    "    return np.sqrt(np.mean((y_true - y_pred) ** 2))\n",
    "def mape(y_true, y_pred):\n",
    "    return np.mean(np.abs((y_true - y_pred) / np.maximum(np.abs(y_true), 1e-6))) * 100\n",
    "\n",
    "feature_cols = [\n",
    "    'Hour', 'Month', 'DayOfWeek', 'Is_Weekend', 'DayOfYear', 'WeekOfYear',\n",
    "    'Season_Autumn', 'Season_Spring', 'Season_Summer', 'Season_Winter',\n",
    "    'Demand_Prev_Hour', 'Demand_Yesterday_Same_Hour', 'Demand_Last_Week_Same_Hour',\n",
    "    'Emission_Prev_Hour', 'Emission_Yesterday_Same_Hour', 'Emission_Last_Week_Same_Hour',\n",
    "    'Rolling_Mean_3H', 'Rolling_Mean_24H', 'Rolling_Mean_3H_Emission', 'Rolling_Mean_24H_Emission',\n",
    "    'Total_Gen', 'Renewable_Pct', 'Fossil_Pct', 'Renewable_Demand', 'Fossil_Demand', 'Demand_diff1', 'Demand_diff24'\n",
    "]\n",
    "target_cols = ['Demand', 'CO2_Total_Emissions']\n",
    "\n",
    "# ----------- CHANGE THIS FOR THE REGION ----------\n",
    "region_code = 'CAL'  # use 'TEX' for Texas\n",
    "\n",
    "region_df = df[df['Region'] == region_code].copy()\n",
    "region_df['Date'] = pd.to_datetime(region_df['Date'])\n",
    "region_df.set_index('Date', inplace=True)\n",
    "\n",
    "features = region_df[feature_cols]\n",
    "targets = region_df[target_cols]\n",
    "\n",
    "scaler_X = MinMaxScaler()\n",
    "X_scaled = scaler_X.fit_transform(features)\n",
    "\n",
    "rbm = BernoulliRBM(n_components=20, learning_rate=0.05, n_iter=20, random_state=42)\n",
    "X_rbm = rbm.fit_transform(X_scaled)\n",
    "\n",
    "scaler_y = MinMaxScaler()\n",
    "y_scaled = scaler_y.fit_transform(targets)\n",
    "\n",
    "def create_sequences(X, y, lookback=30):\n",
    "    Xs, ys = [], []\n",
    "    for i in range(lookback, len(X)):\n",
    "        Xs.append(X[i-lookback:i])\n",
    "        ys.append(y[i])\n",
    "    return np.array(Xs), np.array(ys)\n",
    "\n",
    "X_seq, y_seq = create_sequences(X_rbm, y_scaled, lookback=30)\n",
    "split = int(0.8 * len(X_seq))\n",
    "X_train, X_test = X_seq[:split], X_seq[split:]\n",
    "y_train, y_test = y_seq[:split], y_seq[split:]\n",
    "\n",
    "results = []\n",
    "\n",
    "for epoch in [10]:\n",
    "    model = Sequential([\n",
    "        LSTM(128, input_shape=(X_train.shape[1], X_train.shape[2])),\n",
    "        Dense(y_train.shape[1])\n",
    "    ])\n",
    "    model.compile(optimizer='adam', loss='mse')\n",
    "    model.fit(X_train, y_train, epochs=10, batch_size=64, verbose=0)\n",
    "\n",
    "    y_pred_scaled = model.predict(X_test)\n",
    "    y_pred = scaler_y.inverse_transform(y_pred_scaled)\n",
    "    y_true = scaler_y.inverse_transform(y_test)\n",
    "\n",
    "    results.append({\n",
    "        'Region': 'California' if region_code == 'CAL' else 'Texas',\n",
    "        'Epoch': 10,\n",
    "        'MAE_Demand': mae(y_true[:, 0], y_pred[:, 0]),\n",
    "        'RMSE_Demand': rmse(y_true[:, 0], y_pred[:, 0]),\n",
    "        'MAPE_Demand(%)': mape(y_true[:, 0], y_pred[:, 0]),\n",
    "        'MAE_CO2': mae(y_true[:, 1], y_pred[:, 1]),\n",
    "        'RMSE_CO2': rmse(y_true[:, 1], y_pred[:, 1]),\n",
    "        'MAPE_CO2(%)': mape(y_true[:, 1], y_pred[:, 1])\n",
    "    })\n",
    "\n",
    "metrics_df = pd.DataFrame(results)\n",
    "print(metrics_df)\n"
   ]
  },
  {
   "cell_type": "code",
   "execution_count": 12,
   "id": "40935af6-a35c-46a9-a0a9-4d47015d64ed",
   "metadata": {},
   "outputs": [
    {
     "name": "stderr",
     "output_type": "stream",
     "text": [
      "C:\\Users\\rosem\\AppData\\Roaming\\Python\\Python312\\site-packages\\keras\\src\\layers\\rnn\\rnn.py:199: UserWarning: Do not pass an `input_shape`/`input_dim` argument to a layer. When using Sequential models, prefer using an `Input(shape)` object as the first layer in the model instead.\n",
      "  super().__init__(**kwargs)\n"
     ]
    },
    {
     "name": "stdout",
     "output_type": "stream",
     "text": [
      "\u001b[1m342/342\u001b[0m \u001b[32m━━━━━━━━━━━━━━━━━━━━\u001b[0m\u001b[37m\u001b[0m \u001b[1m2s\u001b[0m 5ms/step\n"
     ]
    },
    {
     "name": "stderr",
     "output_type": "stream",
     "text": [
      "C:\\Users\\rosem\\AppData\\Roaming\\Python\\Python312\\site-packages\\keras\\src\\layers\\rnn\\rnn.py:199: UserWarning: Do not pass an `input_shape`/`input_dim` argument to a layer. When using Sequential models, prefer using an `Input(shape)` object as the first layer in the model instead.\n",
      "  super().__init__(**kwargs)\n"
     ]
    },
    {
     "name": "stdout",
     "output_type": "stream",
     "text": [
      "\u001b[1m342/342\u001b[0m \u001b[32m━━━━━━━━━━━━━━━━━━━━\u001b[0m\u001b[37m\u001b[0m \u001b[1m3s\u001b[0m 7ms/step\n"
     ]
    },
    {
     "name": "stderr",
     "output_type": "stream",
     "text": [
      "C:\\Users\\rosem\\AppData\\Roaming\\Python\\Python312\\site-packages\\keras\\src\\layers\\rnn\\rnn.py:199: UserWarning: Do not pass an `input_shape`/`input_dim` argument to a layer. When using Sequential models, prefer using an `Input(shape)` object as the first layer in the model instead.\n",
      "  super().__init__(**kwargs)\n"
     ]
    },
    {
     "name": "stdout",
     "output_type": "stream",
     "text": [
      "\u001b[1m342/342\u001b[0m \u001b[32m━━━━━━━━━━━━━━━━━━━━\u001b[0m\u001b[37m\u001b[0m \u001b[1m3s\u001b[0m 9ms/step\n"
     ]
    },
    {
     "name": "stderr",
     "output_type": "stream",
     "text": [
      "C:\\Users\\rosem\\AppData\\Roaming\\Python\\Python312\\site-packages\\keras\\src\\layers\\rnn\\rnn.py:199: UserWarning: Do not pass an `input_shape`/`input_dim` argument to a layer. When using Sequential models, prefer using an `Input(shape)` object as the first layer in the model instead.\n",
      "  super().__init__(**kwargs)\n"
     ]
    },
    {
     "name": "stdout",
     "output_type": "stream",
     "text": [
      "\u001b[1m342/342\u001b[0m \u001b[32m━━━━━━━━━━━━━━━━━━━━\u001b[0m\u001b[37m\u001b[0m \u001b[1m3s\u001b[0m 7ms/step\n",
      "       Region  Epoch   MAE_Demand  RMSE_Demand  MAPE_Demand(%)      MAE_CO2  \\\n",
      "0  California      1  2369.253659  3429.353685        7.605353  1172.100240   \n",
      "1  California      2  2313.837244  3222.024363        7.484562  1094.595168   \n",
      "2  California      5  1907.054271  2784.085962        6.081959   962.810151   \n",
      "3  California     10  1720.829641  2501.347141        5.414414   782.051609   \n",
      "\n",
      "      RMSE_CO2  MAPE_CO2(%)  \n",
      "0  1534.572971    26.139200  \n",
      "1  1414.802641    23.362476  \n",
      "2  1247.506515    20.113968  \n",
      "3  1103.753238    14.703192  \n"
     ]
    }
   ],
   "source": [
    "import numpy as np\n",
    "import pandas as pd\n",
    "from sklearn.preprocessing import MinMaxScaler\n",
    "from sklearn.neural_network import BernoulliRBM\n",
    "from tensorflow.keras.models import Sequential\n",
    "from tensorflow.keras.layers import LSTM, Dense\n",
    "\n",
    "def mae(y_true, y_pred):\n",
    "    return np.mean(np.abs(y_true - y_pred))\n",
    "def rmse(y_true, y_pred):\n",
    "    return np.sqrt(np.mean((y_true - y_pred) ** 2))\n",
    "def mape(y_true, y_pred):\n",
    "    return np.mean(np.abs((y_true - y_pred) / np.maximum(np.abs(y_true), 1e-6))) * 100\n",
    "\n",
    "feature_cols = [\n",
    "    'Hour', 'Month', 'DayOfWeek', 'Is_Weekend', 'DayOfYear', 'WeekOfYear',\n",
    "    'Season_Autumn', 'Season_Spring', 'Season_Summer', 'Season_Winter',\n",
    "    'Demand_Prev_Hour', 'Demand_Yesterday_Same_Hour', 'Demand_Last_Week_Same_Hour',\n",
    "    'Emission_Prev_Hour', 'Emission_Yesterday_Same_Hour', 'Emission_Last_Week_Same_Hour',\n",
    "    'Rolling_Mean_3H', 'Rolling_Mean_24H', 'Rolling_Mean_3H_Emission', 'Rolling_Mean_24H_Emission',\n",
    "    'Total_Gen', 'Renewable_Pct', 'Fossil_Pct', 'Renewable_Demand', 'Fossil_Demand', 'Demand_diff1', 'Demand_diff24'\n",
    "]\n",
    "target_cols = ['Demand', 'CO2_Total_Emissions']\n",
    "\n",
    "# ----------- CHANGE THIS FOR THE REGION ----------\n",
    "region_code = 'CAL'  # use 'TEX' for Texas\n",
    "\n",
    "region_df = df[df['Region'] == region_code].copy()\n",
    "region_df['Date'] = pd.to_datetime(region_df['Date'])\n",
    "region_df.set_index('Date', inplace=True)\n",
    "\n",
    "features = region_df[feature_cols]\n",
    "targets = region_df[target_cols]\n",
    "\n",
    "scaler_X = MinMaxScaler()\n",
    "X_scaled = scaler_X.fit_transform(features)\n",
    "\n",
    "rbm = BernoulliRBM(n_components=20, learning_rate=0.05, n_iter=20, random_state=42)\n",
    "X_rbm = rbm.fit_transform(X_scaled)\n",
    "\n",
    "scaler_y = MinMaxScaler()\n",
    "y_scaled = scaler_y.fit_transform(targets)\n",
    "\n",
    "def create_sequences(X, y, lookback=30):\n",
    "    Xs, ys = [], []\n",
    "    for i in range(lookback, len(X)):\n",
    "        Xs.append(X[i-lookback:i])\n",
    "        ys.append(y[i])\n",
    "    return np.array(Xs), np.array(ys)\n",
    "\n",
    "X_seq, y_seq = create_sequences(X_rbm, y_scaled, lookback=30)\n",
    "split = int(0.75 * len(X_seq))\n",
    "X_train, X_test = X_seq[:split], X_seq[split:]\n",
    "y_train, y_test = y_seq[:split], y_seq[split:]\n",
    "\n",
    "results = []\n",
    "\n",
    "for epoch in [1, 2, 5, 10]:\n",
    "    model = Sequential([\n",
    "        LSTM(128, input_shape=(X_train.shape[1], X_train.shape[2])),\n",
    "        Dense(y_train.shape[1])\n",
    "    ])\n",
    "    model.compile(optimizer='adam', loss='mse')\n",
    "    model.fit(X_train, y_train, epochs=epoch, batch_size=64, verbose=0)\n",
    "\n",
    "    y_pred_scaled = model.predict(X_test)\n",
    "    y_pred = scaler_y.inverse_transform(y_pred_scaled)\n",
    "    y_true = scaler_y.inverse_transform(y_test)\n",
    "\n",
    "    results.append({\n",
    "        'Region': 'California' if region_code == 'CAL' else 'Texas',\n",
    "        'Epoch': epoch,\n",
    "        'MAE_Demand': mae(y_true[:, 0], y_pred[:, 0]),\n",
    "        'RMSE_Demand': rmse(y_true[:, 0], y_pred[:, 0]),\n",
    "        'MAPE_Demand(%)': mape(y_true[:, 0], y_pred[:, 0]),\n",
    "        'MAE_CO2': mae(y_true[:, 1], y_pred[:, 1]),\n",
    "        'RMSE_CO2': rmse(y_true[:, 1], y_pred[:, 1]),\n",
    "        'MAPE_CO2(%)': mape(y_true[:, 1], y_pred[:, 1])\n",
    "    })\n",
    "\n",
    "metrics_df = pd.DataFrame(results)\n",
    "print(metrics_df)\n"
   ]
  },
  {
   "cell_type": "code",
   "execution_count": 13,
   "id": "8151df7e-195d-4684-801c-a838e15aef73",
   "metadata": {},
   "outputs": [
    {
     "name": "stderr",
     "output_type": "stream",
     "text": [
      "C:\\Users\\rosem\\AppData\\Roaming\\Python\\Python312\\site-packages\\keras\\src\\layers\\rnn\\rnn.py:199: UserWarning: Do not pass an `input_shape`/`input_dim` argument to a layer. When using Sequential models, prefer using an `Input(shape)` object as the first layer in the model instead.\n",
      "  super().__init__(**kwargs)\n"
     ]
    },
    {
     "name": "stdout",
     "output_type": "stream",
     "text": [
      "\u001b[1m411/411\u001b[0m \u001b[32m━━━━━━━━━━━━━━━━━━━━\u001b[0m\u001b[37m\u001b[0m \u001b[1m3s\u001b[0m 6ms/step\n"
     ]
    },
    {
     "name": "stderr",
     "output_type": "stream",
     "text": [
      "C:\\Users\\rosem\\AppData\\Roaming\\Python\\Python312\\site-packages\\keras\\src\\layers\\rnn\\rnn.py:199: UserWarning: Do not pass an `input_shape`/`input_dim` argument to a layer. When using Sequential models, prefer using an `Input(shape)` object as the first layer in the model instead.\n",
      "  super().__init__(**kwargs)\n"
     ]
    },
    {
     "name": "stdout",
     "output_type": "stream",
     "text": [
      "\u001b[1m411/411\u001b[0m \u001b[32m━━━━━━━━━━━━━━━━━━━━\u001b[0m\u001b[37m\u001b[0m \u001b[1m3s\u001b[0m 6ms/step\n"
     ]
    },
    {
     "name": "stderr",
     "output_type": "stream",
     "text": [
      "C:\\Users\\rosem\\AppData\\Roaming\\Python\\Python312\\site-packages\\keras\\src\\layers\\rnn\\rnn.py:199: UserWarning: Do not pass an `input_shape`/`input_dim` argument to a layer. When using Sequential models, prefer using an `Input(shape)` object as the first layer in the model instead.\n",
      "  super().__init__(**kwargs)\n"
     ]
    },
    {
     "name": "stdout",
     "output_type": "stream",
     "text": [
      "\u001b[1m411/411\u001b[0m \u001b[32m━━━━━━━━━━━━━━━━━━━━\u001b[0m\u001b[37m\u001b[0m \u001b[1m3s\u001b[0m 6ms/step\n"
     ]
    },
    {
     "name": "stderr",
     "output_type": "stream",
     "text": [
      "C:\\Users\\rosem\\AppData\\Roaming\\Python\\Python312\\site-packages\\keras\\src\\layers\\rnn\\rnn.py:199: UserWarning: Do not pass an `input_shape`/`input_dim` argument to a layer. When using Sequential models, prefer using an `Input(shape)` object as the first layer in the model instead.\n",
      "  super().__init__(**kwargs)\n"
     ]
    },
    {
     "name": "stdout",
     "output_type": "stream",
     "text": [
      "\u001b[1m411/411\u001b[0m \u001b[32m━━━━━━━━━━━━━━━━━━━━\u001b[0m\u001b[37m\u001b[0m \u001b[1m5s\u001b[0m 11ms/step\n",
      "       Region  Epoch   MAE_Demand  RMSE_Demand  MAPE_Demand(%)      MAE_CO2  \\\n",
      "0  California      1  2274.429207  3337.667298        6.964718  1124.501396   \n",
      "1  California      2  2023.631601  3021.572692        6.512377  1057.328273   \n",
      "2  California      5  1541.558961  2364.758135        4.891674   823.663064   \n",
      "3  California     10  1508.073114  2206.120854        4.836948   732.601211   \n",
      "\n",
      "      RMSE_CO2  MAPE_CO2(%)  \n",
      "0  1462.465955    23.750866  \n",
      "1  1385.712198    23.905921  \n",
      "2  1099.612218    17.582415  \n",
      "3  1017.459664    15.135081  \n"
     ]
    }
   ],
   "source": [
    "import numpy as np\n",
    "import pandas as pd\n",
    "from sklearn.preprocessing import MinMaxScaler\n",
    "from sklearn.neural_network import BernoulliRBM\n",
    "from tensorflow.keras.models import Sequential\n",
    "from tensorflow.keras.layers import LSTM, Dense\n",
    "\n",
    "def mae(y_true, y_pred):\n",
    "    return np.mean(np.abs(y_true - y_pred))\n",
    "def rmse(y_true, y_pred):\n",
    "    return np.sqrt(np.mean((y_true - y_pred) ** 2))\n",
    "def mape(y_true, y_pred):\n",
    "    return np.mean(np.abs((y_true - y_pred) / np.maximum(np.abs(y_true), 1e-6))) * 100\n",
    "\n",
    "feature_cols = [\n",
    "    'Hour', 'Month', 'DayOfWeek', 'Is_Weekend', 'DayOfYear', 'WeekOfYear',\n",
    "    'Season_Autumn', 'Season_Spring', 'Season_Summer', 'Season_Winter',\n",
    "    'Demand_Prev_Hour', 'Demand_Yesterday_Same_Hour', 'Demand_Last_Week_Same_Hour',\n",
    "    'Emission_Prev_Hour', 'Emission_Yesterday_Same_Hour', 'Emission_Last_Week_Same_Hour',\n",
    "    'Rolling_Mean_3H', 'Rolling_Mean_24H', 'Rolling_Mean_3H_Emission', 'Rolling_Mean_24H_Emission',\n",
    "    'Total_Gen', 'Renewable_Pct', 'Fossil_Pct', 'Renewable_Demand', 'Fossil_Demand', 'Demand_diff1', 'Demand_diff24'\n",
    "]\n",
    "target_cols = ['Demand', 'CO2_Total_Emissions']\n",
    "\n",
    "# ----------- CHANGE THIS FOR THE REGION ----------\n",
    "region_code = 'CAL'  # use 'TEX' for Texas\n",
    "\n",
    "region_df = df[df['Region'] == region_code].copy()\n",
    "region_df['Date'] = pd.to_datetime(region_df['Date'])\n",
    "region_df.set_index('Date', inplace=True)\n",
    "\n",
    "features = region_df[feature_cols]\n",
    "targets = region_df[target_cols]\n",
    "\n",
    "scaler_X = MinMaxScaler()\n",
    "X_scaled = scaler_X.fit_transform(features)\n",
    "\n",
    "rbm = BernoulliRBM(n_components=20, learning_rate=0.05, n_iter=20, random_state=42)\n",
    "X_rbm = rbm.fit_transform(X_scaled)\n",
    "\n",
    "scaler_y = MinMaxScaler()\n",
    "y_scaled = scaler_y.fit_transform(targets)\n",
    "\n",
    "def create_sequences(X, y, lookback=30):\n",
    "    Xs, ys = [], []\n",
    "    for i in range(lookback, len(X)):\n",
    "        Xs.append(X[i-lookback:i])\n",
    "        ys.append(y[i])\n",
    "    return np.array(Xs), np.array(ys)\n",
    "\n",
    "X_seq, y_seq = create_sequences(X_rbm, y_scaled, lookback=30)\n",
    "split = int(0.7 * len(X_seq))\n",
    "X_train, X_test = X_seq[:split], X_seq[split:]\n",
    "y_train, y_test = y_seq[:split], y_seq[split:]\n",
    "\n",
    "results = []\n",
    "\n",
    "for epoch in [1, 2, 5, 10]:\n",
    "    model = Sequential([\n",
    "        LSTM(128, input_shape=(X_train.shape[1], X_train.shape[2])),\n",
    "        Dense(y_train.shape[1])\n",
    "    ])\n",
    "    model.compile(optimizer='adam', loss='mse')\n",
    "    model.fit(X_train, y_train, epochs=epoch, batch_size=64, verbose=0)\n",
    "\n",
    "    y_pred_scaled = model.predict(X_test)\n",
    "    y_pred = scaler_y.inverse_transform(y_pred_scaled)\n",
    "    y_true = scaler_y.inverse_transform(y_test)\n",
    "\n",
    "    results.append({\n",
    "        'Region': 'California' if region_code == 'CAL' else 'Texas',\n",
    "        'Epoch': epoch,\n",
    "        'MAE_Demand': mae(y_true[:, 0], y_pred[:, 0]),\n",
    "        'RMSE_Demand': rmse(y_true[:, 0], y_pred[:, 0]),\n",
    "        'MAPE_Demand(%)': mape(y_true[:, 0], y_pred[:, 0]),\n",
    "        'MAE_CO2': mae(y_true[:, 1], y_pred[:, 1]),\n",
    "        'RMSE_CO2': rmse(y_true[:, 1], y_pred[:, 1]),\n",
    "        'MAPE_CO2(%)': mape(y_true[:, 1], y_pred[:, 1])\n",
    "    })\n",
    "\n",
    "metrics_df = pd.DataFrame(results)\n",
    "print(metrics_df)\n"
   ]
  },
  {
   "cell_type": "code",
   "execution_count": 14,
   "id": "d1785bbe-3d0a-43c3-9e83-47946ab8519a",
   "metadata": {},
   "outputs": [
    {
     "name": "stderr",
     "output_type": "stream",
     "text": [
      "C:\\Users\\rosem\\AppData\\Roaming\\Python\\Python312\\site-packages\\keras\\src\\layers\\rnn\\rnn.py:199: UserWarning: Do not pass an `input_shape`/`input_dim` argument to a layer. When using Sequential models, prefer using an `Input(shape)` object as the first layer in the model instead.\n",
      "  super().__init__(**kwargs)\n"
     ]
    },
    {
     "name": "stdout",
     "output_type": "stream",
     "text": [
      "\u001b[1m479/479\u001b[0m \u001b[32m━━━━━━━━━━━━━━━━━━━━\u001b[0m\u001b[37m\u001b[0m \u001b[1m4s\u001b[0m 8ms/step\n"
     ]
    },
    {
     "name": "stderr",
     "output_type": "stream",
     "text": [
      "C:\\Users\\rosem\\AppData\\Roaming\\Python\\Python312\\site-packages\\keras\\src\\layers\\rnn\\rnn.py:199: UserWarning: Do not pass an `input_shape`/`input_dim` argument to a layer. When using Sequential models, prefer using an `Input(shape)` object as the first layer in the model instead.\n",
      "  super().__init__(**kwargs)\n"
     ]
    },
    {
     "name": "stdout",
     "output_type": "stream",
     "text": [
      "\u001b[1m479/479\u001b[0m \u001b[32m━━━━━━━━━━━━━━━━━━━━\u001b[0m\u001b[37m\u001b[0m \u001b[1m3s\u001b[0m 7ms/step\n"
     ]
    },
    {
     "name": "stderr",
     "output_type": "stream",
     "text": [
      "C:\\Users\\rosem\\AppData\\Roaming\\Python\\Python312\\site-packages\\keras\\src\\layers\\rnn\\rnn.py:199: UserWarning: Do not pass an `input_shape`/`input_dim` argument to a layer. When using Sequential models, prefer using an `Input(shape)` object as the first layer in the model instead.\n",
      "  super().__init__(**kwargs)\n"
     ]
    },
    {
     "name": "stdout",
     "output_type": "stream",
     "text": [
      "\u001b[1m479/479\u001b[0m \u001b[32m━━━━━━━━━━━━━━━━━━━━\u001b[0m\u001b[37m\u001b[0m \u001b[1m4s\u001b[0m 7ms/step\n"
     ]
    },
    {
     "name": "stderr",
     "output_type": "stream",
     "text": [
      "C:\\Users\\rosem\\AppData\\Roaming\\Python\\Python312\\site-packages\\keras\\src\\layers\\rnn\\rnn.py:199: UserWarning: Do not pass an `input_shape`/`input_dim` argument to a layer. When using Sequential models, prefer using an `Input(shape)` object as the first layer in the model instead.\n",
      "  super().__init__(**kwargs)\n"
     ]
    },
    {
     "name": "stdout",
     "output_type": "stream",
     "text": [
      "\u001b[1m479/479\u001b[0m \u001b[32m━━━━━━━━━━━━━━━━━━━━\u001b[0m\u001b[37m\u001b[0m \u001b[1m3s\u001b[0m 7ms/step\n",
      "       Region  Epoch   MAE_Demand  RMSE_Demand  MAPE_Demand(%)      MAE_CO2  \\\n",
      "0  California      1  2165.071810  3094.221995        7.189979  1031.771014   \n",
      "1  California      2  1965.686080  2862.166956        6.421459   994.941114   \n",
      "2  California      5  1663.188571  2427.207410        5.449385   828.371215   \n",
      "3  California     10  1668.790037  2329.486387        5.348007   797.961104   \n",
      "\n",
      "      RMSE_CO2  MAPE_CO2(%)  \n",
      "0  1358.577860    22.411814  \n",
      "1  1310.277014    21.448885  \n",
      "2  1107.571530    18.150513  \n",
      "3  1062.309652    16.048844  \n"
     ]
    }
   ],
   "source": [
    "import numpy as np\n",
    "import pandas as pd\n",
    "from sklearn.preprocessing import MinMaxScaler\n",
    "from sklearn.neural_network import BernoulliRBM\n",
    "from tensorflow.keras.models import Sequential\n",
    "from tensorflow.keras.layers import LSTM, Dense\n",
    "\n",
    "def mae(y_true, y_pred):\n",
    "    return np.mean(np.abs(y_true - y_pred))\n",
    "def rmse(y_true, y_pred):\n",
    "    return np.sqrt(np.mean((y_true - y_pred) ** 2))\n",
    "def mape(y_true, y_pred):\n",
    "    return np.mean(np.abs((y_true - y_pred) / np.maximum(np.abs(y_true), 1e-6))) * 100\n",
    "\n",
    "feature_cols = [\n",
    "    'Hour', 'Month', 'DayOfWeek', 'Is_Weekend', 'DayOfYear', 'WeekOfYear',\n",
    "    'Season_Autumn', 'Season_Spring', 'Season_Summer', 'Season_Winter',\n",
    "    'Demand_Prev_Hour', 'Demand_Yesterday_Same_Hour', 'Demand_Last_Week_Same_Hour',\n",
    "    'Emission_Prev_Hour', 'Emission_Yesterday_Same_Hour', 'Emission_Last_Week_Same_Hour',\n",
    "    'Rolling_Mean_3H', 'Rolling_Mean_24H', 'Rolling_Mean_3H_Emission', 'Rolling_Mean_24H_Emission',\n",
    "    'Total_Gen', 'Renewable_Pct', 'Fossil_Pct', 'Renewable_Demand', 'Fossil_Demand', 'Demand_diff1', 'Demand_diff24'\n",
    "]\n",
    "target_cols = ['Demand', 'CO2_Total_Emissions']\n",
    "\n",
    "# ----------- CHANGE THIS FOR THE REGION ----------\n",
    "region_code = 'CAL'  # use 'TEX' for Texas\n",
    "\n",
    "region_df = df[df['Region'] == region_code].copy()\n",
    "region_df['Date'] = pd.to_datetime(region_df['Date'])\n",
    "region_df.set_index('Date', inplace=True)\n",
    "\n",
    "features = region_df[feature_cols]\n",
    "targets = region_df[target_cols]\n",
    "\n",
    "scaler_X = MinMaxScaler()\n",
    "X_scaled = scaler_X.fit_transform(features)\n",
    "\n",
    "rbm = BernoulliRBM(n_components=20, learning_rate=0.05, n_iter=20, random_state=42)\n",
    "X_rbm = rbm.fit_transform(X_scaled)\n",
    "\n",
    "scaler_y = MinMaxScaler()\n",
    "y_scaled = scaler_y.fit_transform(targets)\n",
    "\n",
    "def create_sequences(X, y, lookback=30):\n",
    "    Xs, ys = [], []\n",
    "    for i in range(lookback, len(X)):\n",
    "        Xs.append(X[i-lookback:i])\n",
    "        ys.append(y[i])\n",
    "    return np.array(Xs), np.array(ys)\n",
    "\n",
    "X_seq, y_seq = create_sequences(X_rbm, y_scaled, lookback=30)\n",
    "split = int(0.65 * len(X_seq))\n",
    "X_train, X_test = X_seq[:split], X_seq[split:]\n",
    "y_train, y_test = y_seq[:split], y_seq[split:]\n",
    "\n",
    "results = []\n",
    "\n",
    "for epoch in [1, 2, 5, 10]:\n",
    "    model = Sequential([\n",
    "        LSTM(128, input_shape=(X_train.shape[1], X_train.shape[2])),\n",
    "        Dense(y_train.shape[1])\n",
    "    ])\n",
    "    model.compile(optimizer='adam', loss='mse')\n",
    "    model.fit(X_train, y_train, epochs=epoch, batch_size=64, verbose=0)\n",
    "\n",
    "    y_pred_scaled = model.predict(X_test)\n",
    "    y_pred = scaler_y.inverse_transform(y_pred_scaled)\n",
    "    y_true = scaler_y.inverse_transform(y_test)\n",
    "\n",
    "    results.append({\n",
    "        'Region': 'California' if region_code == 'CAL' else 'Texas',\n",
    "        'Epoch': epoch,\n",
    "        'MAE_Demand': mae(y_true[:, 0], y_pred[:, 0]),\n",
    "        'RMSE_Demand': rmse(y_true[:, 0], y_pred[:, 0]),\n",
    "        'MAPE_Demand(%)': mape(y_true[:, 0], y_pred[:, 0]),\n",
    "        'MAE_CO2': mae(y_true[:, 1], y_pred[:, 1]),\n",
    "        'RMSE_CO2': rmse(y_true[:, 1], y_pred[:, 1]),\n",
    "        'MAPE_CO2(%)': mape(y_true[:, 1], y_pred[:, 1])\n",
    "    })\n",
    "\n",
    "metrics_df = pd.DataFrame(results)\n",
    "print(metrics_df)\n"
   ]
  },
  {
   "cell_type": "code",
   "execution_count": 18,
   "id": "7a81cde4-02cd-40ee-9a2e-dad26ed4547e",
   "metadata": {},
   "outputs": [
    {
     "name": "stderr",
     "output_type": "stream",
     "text": [
      "C:\\Users\\rosem\\AppData\\Roaming\\Python\\Python312\\site-packages\\keras\\src\\layers\\rnn\\rnn.py:199: UserWarning: Do not pass an `input_shape`/`input_dim` argument to a layer. When using Sequential models, prefer using an `Input(shape)` object as the first layer in the model instead.\n",
      "  super().__init__(**kwargs)\n"
     ]
    },
    {
     "name": "stdout",
     "output_type": "stream",
     "text": [
      "\u001b[1m547/547\u001b[0m \u001b[32m━━━━━━━━━━━━━━━━━━━━\u001b[0m\u001b[37m\u001b[0m \u001b[1m5s\u001b[0m 9ms/step\n"
     ]
    },
    {
     "name": "stderr",
     "output_type": "stream",
     "text": [
      "C:\\Users\\rosem\\AppData\\Roaming\\Python\\Python312\\site-packages\\keras\\src\\layers\\rnn\\rnn.py:199: UserWarning: Do not pass an `input_shape`/`input_dim` argument to a layer. When using Sequential models, prefer using an `Input(shape)` object as the first layer in the model instead.\n",
      "  super().__init__(**kwargs)\n"
     ]
    },
    {
     "name": "stdout",
     "output_type": "stream",
     "text": [
      "\u001b[1m547/547\u001b[0m \u001b[32m━━━━━━━━━━━━━━━━━━━━\u001b[0m\u001b[37m\u001b[0m \u001b[1m4s\u001b[0m 7ms/step\n"
     ]
    },
    {
     "name": "stderr",
     "output_type": "stream",
     "text": [
      "C:\\Users\\rosem\\AppData\\Roaming\\Python\\Python312\\site-packages\\keras\\src\\layers\\rnn\\rnn.py:199: UserWarning: Do not pass an `input_shape`/`input_dim` argument to a layer. When using Sequential models, prefer using an `Input(shape)` object as the first layer in the model instead.\n",
      "  super().__init__(**kwargs)\n"
     ]
    },
    {
     "name": "stdout",
     "output_type": "stream",
     "text": [
      "\u001b[1m547/547\u001b[0m \u001b[32m━━━━━━━━━━━━━━━━━━━━\u001b[0m\u001b[37m\u001b[0m \u001b[1m4s\u001b[0m 7ms/step\n"
     ]
    },
    {
     "name": "stderr",
     "output_type": "stream",
     "text": [
      "C:\\Users\\rosem\\AppData\\Roaming\\Python\\Python312\\site-packages\\keras\\src\\layers\\rnn\\rnn.py:199: UserWarning: Do not pass an `input_shape`/`input_dim` argument to a layer. When using Sequential models, prefer using an `Input(shape)` object as the first layer in the model instead.\n",
      "  super().__init__(**kwargs)\n"
     ]
    },
    {
     "name": "stdout",
     "output_type": "stream",
     "text": [
      "\u001b[1m547/547\u001b[0m \u001b[32m━━━━━━━━━━━━━━━━━━━━\u001b[0m\u001b[37m\u001b[0m \u001b[1m4s\u001b[0m 7ms/step\n",
      "       Region  Epoch   MAE_Demand  RMSE_Demand  MAPE_Demand(%)      MAE_CO2  \\\n",
      "0  California      1  2469.770853  3383.327542        7.523948  1151.594961   \n",
      "1  California      2  2039.973275  2970.757015        6.346266  1181.774445   \n",
      "2  California      5  1820.743429  2576.128207        5.819877  1003.583629   \n",
      "3  California     10  1692.549581  2401.905880        5.390564   884.673039   \n",
      "\n",
      "      RMSE_CO2  MAPE_CO2(%)  \n",
      "0  1497.455486    23.759856  \n",
      "1  1518.708226    24.030683  \n",
      "2  1291.457196    20.154654  \n",
      "3  1173.026325    17.574456  \n"
     ]
    }
   ],
   "source": [
    "# import numpy as np\n",
    "# import pandas as pd\n",
    "# from sklearn.preprocessing import MinMaxScaler\n",
    "# from sklearn.neural_network import BernoulliRBM\n",
    "# from tensorflow.keras.models import Sequential\n",
    "# from tensorflow.keras.layers import LSTM, Dense\n",
    "\n",
    "def mae(y_true, y_pred):\n",
    "    return np.mean(np.abs(y_true - y_pred))\n",
    "def rmse(y_true, y_pred):\n",
    "    return np.sqrt(np.mean((y_true - y_pred) ** 2))\n",
    "def mape(y_true, y_pred):\n",
    "    return np.mean(np.abs((y_true - y_pred) / np.maximum(np.abs(y_true), 1e-6))) * 100\n",
    "\n",
    "feature_cols = [\n",
    "    'Hour', 'Month', 'DayOfWeek', 'Is_Weekend', 'DayOfYear', 'WeekOfYear',\n",
    "    'Season_Autumn', 'Season_Spring', 'Season_Summer', 'Season_Winter',\n",
    "    'Demand_Prev_Hour', 'Demand_Yesterday_Same_Hour', 'Demand_Last_Week_Same_Hour',\n",
    "    'Emission_Prev_Hour', 'Emission_Yesterday_Same_Hour', 'Emission_Last_Week_Same_Hour',\n",
    "    'Rolling_Mean_3H', 'Rolling_Mean_24H', 'Rolling_Mean_3H_Emission', 'Rolling_Mean_24H_Emission',\n",
    "    'Total_Gen', 'Renewable_Pct', 'Fossil_Pct', 'Renewable_Demand', 'Fossil_Demand', 'Demand_diff1', 'Demand_diff24'\n",
    "]\n",
    "target_cols = ['Demand', 'CO2_Total_Emissions']\n",
    "\n",
    "# ----------- CHANGE THIS FOR THE REGION ----------\n",
    "region_code = 'CAL'  # use 'TEX' for Texas\n",
    "\n",
    "region_df = df[df['Region'] == region_code].copy()\n",
    "region_df['Date'] = pd.to_datetime(region_df['Date'])\n",
    "region_df.set_index('Date', inplace=True)\n",
    "\n",
    "features = region_df[feature_cols]\n",
    "targets = region_df[target_cols]\n",
    "\n",
    "scaler_X = MinMaxScaler()\n",
    "X_scaled = scaler_X.fit_transform(features)\n",
    "\n",
    "rbm = BernoulliRBM(n_components=20, learning_rate=0.05, n_iter=20, random_state=42)\n",
    "X_rbm = rbm.fit_transform(X_scaled)\n",
    "\n",
    "scaler_y = MinMaxScaler()\n",
    "y_scaled = scaler_y.fit_transform(targets)\n",
    "\n",
    "def create_sequences(X, y, lookback=30):\n",
    "    Xs, ys = [], []\n",
    "    for i in range(lookback, len(X)):\n",
    "        Xs.append(X[i-lookback:i])\n",
    "        ys.append(y[i])\n",
    "    return np.array(Xs), np.array(ys)\n",
    "\n",
    "X_seq, y_seq = create_sequences(X_rbm, y_scaled, lookback=30)\n",
    "split = int(0.6 * len(X_seq))\n",
    "X_train, X_test = X_seq[:split], X_seq[split:]\n",
    "y_train, y_test = y_seq[:split], y_seq[split:]\n",
    "\n",
    "results = []\n",
    "\n",
    "for epoch in [1, 2, 5, 10]:\n",
    "    model = Sequential([\n",
    "        LSTM(128, input_shape=(X_train.shape[1], X_train.shape[2])),\n",
    "        Dense(y_train.shape[1])\n",
    "    ])\n",
    "    model.compile(optimizer='adam', loss='mse')\n",
    "    model.fit(X_train, y_train, epochs=epoch, batch_size=64, verbose=0)\n",
    "\n",
    "    y_pred_scaled = model.predict(X_test)\n",
    "    y_pred = scaler_y.inverse_transform(y_pred_scaled)\n",
    "    y_true = scaler_y.inverse_transform(y_test)\n",
    "\n",
    "    results.append({\n",
    "        'Region': 'California' if region_code == 'CAL' else 'Texas',\n",
    "        'Epoch': epoch,\n",
    "        'MAE_Demand': mae(y_true[:, 0], y_pred[:, 0]),\n",
    "        'RMSE_Demand': rmse(y_true[:, 0], y_pred[:, 0]),\n",
    "        'MAPE_Demand(%)': mape(y_true[:, 0], y_pred[:, 0]),\n",
    "        'MAE_CO2': mae(y_true[:, 1], y_pred[:, 1]),\n",
    "        'RMSE_CO2': rmse(y_true[:, 1], y_pred[:, 1]),\n",
    "        'MAPE_CO2(%)': mape(y_true[:, 1], y_pred[:, 1])\n",
    "    })\n",
    "\n",
    "metrics_df = pd.DataFrame(results)\n",
    "print(metrics_df)\n"
   ]
  },
  {
   "cell_type": "markdown",
   "id": "edc189a7-0d7a-4df3-94dd-ddcfc0a644a4",
   "metadata": {},
   "source": [
    "# TEX"
   ]
  },
  {
   "cell_type": "code",
   "execution_count": 20,
   "id": "aa57ca95-5a98-43c5-8de5-02596e9622a6",
   "metadata": {},
   "outputs": [
    {
     "name": "stderr",
     "output_type": "stream",
     "text": [
      "C:\\Users\\rosem\\AppData\\Roaming\\Python\\Python312\\site-packages\\keras\\src\\layers\\rnn\\rnn.py:199: UserWarning: Do not pass an `input_shape`/`input_dim` argument to a layer. When using Sequential models, prefer using an `Input(shape)` object as the first layer in the model instead.\n",
      "  super().__init__(**kwargs)\n"
     ]
    },
    {
     "name": "stdout",
     "output_type": "stream",
     "text": [
      "\u001b[1m274/274\u001b[0m \u001b[32m━━━━━━━━━━━━━━━━━━━━\u001b[0m\u001b[37m\u001b[0m \u001b[1m2s\u001b[0m 6ms/step\n"
     ]
    },
    {
     "name": "stderr",
     "output_type": "stream",
     "text": [
      "C:\\Users\\rosem\\AppData\\Roaming\\Python\\Python312\\site-packages\\keras\\src\\layers\\rnn\\rnn.py:199: UserWarning: Do not pass an `input_shape`/`input_dim` argument to a layer. When using Sequential models, prefer using an `Input(shape)` object as the first layer in the model instead.\n",
      "  super().__init__(**kwargs)\n"
     ]
    },
    {
     "name": "stdout",
     "output_type": "stream",
     "text": [
      "\u001b[1m274/274\u001b[0m \u001b[32m━━━━━━━━━━━━━━━━━━━━\u001b[0m\u001b[37m\u001b[0m \u001b[1m2s\u001b[0m 7ms/step\n"
     ]
    },
    {
     "name": "stderr",
     "output_type": "stream",
     "text": [
      "C:\\Users\\rosem\\AppData\\Roaming\\Python\\Python312\\site-packages\\keras\\src\\layers\\rnn\\rnn.py:199: UserWarning: Do not pass an `input_shape`/`input_dim` argument to a layer. When using Sequential models, prefer using an `Input(shape)` object as the first layer in the model instead.\n",
      "  super().__init__(**kwargs)\n"
     ]
    },
    {
     "name": "stdout",
     "output_type": "stream",
     "text": [
      "\u001b[1m274/274\u001b[0m \u001b[32m━━━━━━━━━━━━━━━━━━━━\u001b[0m\u001b[37m\u001b[0m \u001b[1m2s\u001b[0m 7ms/step\n"
     ]
    },
    {
     "name": "stderr",
     "output_type": "stream",
     "text": [
      "C:\\Users\\rosem\\AppData\\Roaming\\Python\\Python312\\site-packages\\keras\\src\\layers\\rnn\\rnn.py:199: UserWarning: Do not pass an `input_shape`/`input_dim` argument to a layer. When using Sequential models, prefer using an `Input(shape)` object as the first layer in the model instead.\n",
      "  super().__init__(**kwargs)\n"
     ]
    },
    {
     "name": "stdout",
     "output_type": "stream",
     "text": [
      "\u001b[1m274/274\u001b[0m \u001b[32m━━━━━━━━━━━━━━━━━━━━\u001b[0m\u001b[37m\u001b[0m \u001b[1m2s\u001b[0m 7ms/step\n",
      "  Region  Epoch   MAE_Demand  RMSE_Demand  MAPE_Demand(%)      MAE_CO2  \\\n",
      "0  Texas      1  3093.460069  3975.387541        6.071697  2276.677470   \n",
      "1  Texas      2  3427.983785  4607.059350        6.529870  2374.360113   \n",
      "2  Texas      5  3471.817897  4587.428921        6.673322  2217.381688   \n",
      "3  Texas     10  3291.616915  4313.330335        6.335581  1937.815075   \n",
      "\n",
      "      RMSE_CO2  MAPE_CO2(%)  \n",
      "0  2920.864071    16.809765  \n",
      "1  3029.577746    17.709836  \n",
      "2  2802.145750    16.372327  \n",
      "3  2439.561808    14.138975  \n"
     ]
    }
   ],
   "source": [
    "# import numpy as np\n",
    "# import pandas as pd\n",
    "# from sklearn.preprocessing import MinMaxScaler\n",
    "# from sklearn.neural_network import BernoulliRBM\n",
    "# from tensorflow.keras.models import Sequential\n",
    "# from tensorflow.keras.layers import LSTM, Dense\n",
    "\n",
    "def mae(y_true, y_pred):\n",
    "    return np.mean(np.abs(y_true - y_pred))\n",
    "def rmse(y_true, y_pred):\n",
    "    return np.sqrt(np.mean((y_true - y_pred) ** 2))\n",
    "def mape(y_true, y_pred):\n",
    "    return np.mean(np.abs((y_true - y_pred) / np.maximum(np.abs(y_true), 1e-6))) * 100\n",
    "\n",
    "feature_cols = [\n",
    "    'Hour', 'Month', 'DayOfWeek', 'Is_Weekend', 'DayOfYear', 'WeekOfYear',\n",
    "    'Season_Autumn', 'Season_Spring', 'Season_Summer', 'Season_Winter',\n",
    "    'Demand_Prev_Hour', 'Demand_Yesterday_Same_Hour', 'Demand_Last_Week_Same_Hour',\n",
    "    'Emission_Prev_Hour', 'Emission_Yesterday_Same_Hour', 'Emission_Last_Week_Same_Hour',\n",
    "    'Rolling_Mean_3H', 'Rolling_Mean_24H', 'Rolling_Mean_3H_Emission', 'Rolling_Mean_24H_Emission',\n",
    "    'Total_Gen', 'Renewable_Pct', 'Fossil_Pct', 'Renewable_Demand', 'Fossil_Demand', 'Demand_diff1', 'Demand_diff24'\n",
    "]\n",
    "target_cols = ['Demand', 'CO2_Total_Emissions']\n",
    "\n",
    "# ----------- CHANGE THIS FOR THE REGION ----------\n",
    "region_code = 'TEX'  # use 'TEX' for Texas\n",
    "\n",
    "region_df = df[df['Region'] == region_code].copy()\n",
    "region_df['Date'] = pd.to_datetime(region_df['Date'])\n",
    "region_df.set_index('Date', inplace=True)\n",
    "\n",
    "features = region_df[feature_cols]\n",
    "targets = region_df[target_cols]\n",
    "\n",
    "scaler_X = MinMaxScaler()\n",
    "X_scaled = scaler_X.fit_transform(features)\n",
    "\n",
    "rbm = BernoulliRBM(n_components=20, learning_rate=0.05, n_iter=20, random_state=42)\n",
    "X_rbm = rbm.fit_transform(X_scaled)\n",
    "\n",
    "scaler_y = MinMaxScaler()\n",
    "y_scaled = scaler_y.fit_transform(targets)\n",
    "\n",
    "def create_sequences(X, y, lookback=30):\n",
    "    Xs, ys = [], []\n",
    "    for i in range(lookback, len(X)):\n",
    "        Xs.append(X[i-lookback:i])\n",
    "        ys.append(y[i])\n",
    "    return np.array(Xs), np.array(ys)\n",
    "\n",
    "X_seq, y_seq = create_sequences(X_rbm, y_scaled, lookback=30)\n",
    "split = int(0.8 * len(X_seq))\n",
    "X_train, X_test = X_seq[:split], X_seq[split:]\n",
    "y_train, y_test = y_seq[:split], y_seq[split:]\n",
    "\n",
    "results = []\n",
    "\n",
    "for epoch in [1, 2, 5, 10]:\n",
    "    model = Sequential([\n",
    "        LSTM(128, input_shape=(X_train.shape[1], X_train.shape[2])),\n",
    "        Dense(y_train.shape[1])\n",
    "    ])\n",
    "    model.compile(optimizer='adam', loss='mse')\n",
    "    model.fit(X_train, y_train, epochs=epoch, batch_size=64, verbose=0)\n",
    "\n",
    "    y_pred_scaled = model.predict(X_test)\n",
    "    y_pred = scaler_y.inverse_transform(y_pred_scaled)\n",
    "    y_true = scaler_y.inverse_transform(y_test)\n",
    "\n",
    "    results.append({\n",
    "        'Region': 'California' if region_code == 'CAL' else 'Texas',\n",
    "        'Epoch': epoch,\n",
    "        'MAE_Demand': mae(y_true[:, 0], y_pred[:, 0]),\n",
    "        'RMSE_Demand': rmse(y_true[:, 0], y_pred[:, 0]),\n",
    "        'MAPE_Demand(%)': mape(y_true[:, 0], y_pred[:, 0]),\n",
    "        'MAE_CO2': mae(y_true[:, 1], y_pred[:, 1]),\n",
    "        'RMSE_CO2': rmse(y_true[:, 1], y_pred[:, 1]),\n",
    "        'MAPE_CO2(%)': mape(y_true[:, 1], y_pred[:, 1])\n",
    "    })\n",
    "\n",
    "metrics_df = pd.DataFrame(results)\n",
    "print(metrics_df)\n"
   ]
  },
  {
   "cell_type": "code",
   "execution_count": 21,
   "id": "c712dbdc-2a6c-4882-9d41-66d171f81af7",
   "metadata": {},
   "outputs": [
    {
     "name": "stderr",
     "output_type": "stream",
     "text": [
      "C:\\Users\\rosem\\AppData\\Roaming\\Python\\Python312\\site-packages\\keras\\src\\layers\\rnn\\rnn.py:199: UserWarning: Do not pass an `input_shape`/`input_dim` argument to a layer. When using Sequential models, prefer using an `Input(shape)` object as the first layer in the model instead.\n",
      "  super().__init__(**kwargs)\n"
     ]
    },
    {
     "name": "stdout",
     "output_type": "stream",
     "text": [
      "\u001b[1m342/342\u001b[0m \u001b[32m━━━━━━━━━━━━━━━━━━━━\u001b[0m\u001b[37m\u001b[0m \u001b[1m3s\u001b[0m 7ms/step\n"
     ]
    },
    {
     "name": "stderr",
     "output_type": "stream",
     "text": [
      "C:\\Users\\rosem\\AppData\\Roaming\\Python\\Python312\\site-packages\\keras\\src\\layers\\rnn\\rnn.py:199: UserWarning: Do not pass an `input_shape`/`input_dim` argument to a layer. When using Sequential models, prefer using an `Input(shape)` object as the first layer in the model instead.\n",
      "  super().__init__(**kwargs)\n"
     ]
    },
    {
     "name": "stdout",
     "output_type": "stream",
     "text": [
      "\u001b[1m342/342\u001b[0m \u001b[32m━━━━━━━━━━━━━━━━━━━━\u001b[0m\u001b[37m\u001b[0m \u001b[1m3s\u001b[0m 7ms/step\n"
     ]
    },
    {
     "name": "stderr",
     "output_type": "stream",
     "text": [
      "C:\\Users\\rosem\\AppData\\Roaming\\Python\\Python312\\site-packages\\keras\\src\\layers\\rnn\\rnn.py:199: UserWarning: Do not pass an `input_shape`/`input_dim` argument to a layer. When using Sequential models, prefer using an `Input(shape)` object as the first layer in the model instead.\n",
      "  super().__init__(**kwargs)\n"
     ]
    },
    {
     "name": "stdout",
     "output_type": "stream",
     "text": [
      "\u001b[1m342/342\u001b[0m \u001b[32m━━━━━━━━━━━━━━━━━━━━\u001b[0m\u001b[37m\u001b[0m \u001b[1m2s\u001b[0m 7ms/step\n"
     ]
    },
    {
     "name": "stderr",
     "output_type": "stream",
     "text": [
      "C:\\Users\\rosem\\AppData\\Roaming\\Python\\Python312\\site-packages\\keras\\src\\layers\\rnn\\rnn.py:199: UserWarning: Do not pass an `input_shape`/`input_dim` argument to a layer. When using Sequential models, prefer using an `Input(shape)` object as the first layer in the model instead.\n",
      "  super().__init__(**kwargs)\n"
     ]
    },
    {
     "name": "stdout",
     "output_type": "stream",
     "text": [
      "\u001b[1m342/342\u001b[0m \u001b[32m━━━━━━━━━━━━━━━━━━━━\u001b[0m\u001b[37m\u001b[0m \u001b[1m2s\u001b[0m 7ms/step\n",
      "  Region  Epoch   MAE_Demand  RMSE_Demand  MAPE_Demand(%)      MAE_CO2  \\\n",
      "0  Texas      1  4804.370366  6055.743930        9.157279  2366.802933   \n",
      "1  Texas      2  4522.063300  5516.503283        8.786210  2174.898737   \n",
      "2  Texas      5  4294.986380  5307.835984        8.340329  2138.056989   \n",
      "3  Texas     10  3824.289020  4769.463049        7.370641  1897.668101   \n",
      "\n",
      "      RMSE_CO2  MAPE_CO2(%)  \n",
      "0  2993.742234    17.114939  \n",
      "1  2723.842279    15.265899  \n",
      "2  2811.396432    15.637129  \n",
      "3  2418.630672    13.456452  \n"
     ]
    }
   ],
   "source": [
    "# import numpy as np\n",
    "# import pandas as pd\n",
    "# from sklearn.preprocessing import MinMaxScaler\n",
    "# from sklearn.neural_network import BernoulliRBM\n",
    "# from tensorflow.keras.models import Sequential\n",
    "# from tensorflow.keras.layers import LSTM, Dense\n",
    "\n",
    "def mae(y_true, y_pred):\n",
    "    return np.mean(np.abs(y_true - y_pred))\n",
    "def rmse(y_true, y_pred):\n",
    "    return np.sqrt(np.mean((y_true - y_pred) ** 2))\n",
    "def mape(y_true, y_pred):\n",
    "    return np.mean(np.abs((y_true - y_pred) / np.maximum(np.abs(y_true), 1e-6))) * 100\n",
    "\n",
    "feature_cols = [\n",
    "    'Hour', 'Month', 'DayOfWeek', 'Is_Weekend', 'DayOfYear', 'WeekOfYear',\n",
    "    'Season_Autumn', 'Season_Spring', 'Season_Summer', 'Season_Winter',\n",
    "    'Demand_Prev_Hour', 'Demand_Yesterday_Same_Hour', 'Demand_Last_Week_Same_Hour',\n",
    "    'Emission_Prev_Hour', 'Emission_Yesterday_Same_Hour', 'Emission_Last_Week_Same_Hour',\n",
    "    'Rolling_Mean_3H', 'Rolling_Mean_24H', 'Rolling_Mean_3H_Emission', 'Rolling_Mean_24H_Emission',\n",
    "    'Total_Gen', 'Renewable_Pct', 'Fossil_Pct', 'Renewable_Demand', 'Fossil_Demand', 'Demand_diff1', 'Demand_diff24'\n",
    "]\n",
    "target_cols = ['Demand', 'CO2_Total_Emissions']\n",
    "\n",
    "# ----------- CHANGE THIS FOR THE REGION ----------\n",
    "region_code = 'TEX'  # use 'TEX' for Texas\n",
    "\n",
    "region_df = df[df['Region'] == region_code].copy()\n",
    "region_df['Date'] = pd.to_datetime(region_df['Date'])\n",
    "region_df.set_index('Date', inplace=True)\n",
    "\n",
    "features = region_df[feature_cols]\n",
    "targets = region_df[target_cols]\n",
    "\n",
    "scaler_X = MinMaxScaler()\n",
    "X_scaled = scaler_X.fit_transform(features)\n",
    "\n",
    "rbm = BernoulliRBM(n_components=20, learning_rate=0.05, n_iter=20, random_state=42)\n",
    "X_rbm = rbm.fit_transform(X_scaled)\n",
    "\n",
    "scaler_y = MinMaxScaler()\n",
    "y_scaled = scaler_y.fit_transform(targets)\n",
    "\n",
    "def create_sequences(X, y, lookback=30):\n",
    "    Xs, ys = [], []\n",
    "    for i in range(lookback, len(X)):\n",
    "        Xs.append(X[i-lookback:i])\n",
    "        ys.append(y[i])\n",
    "    return np.array(Xs), np.array(ys)\n",
    "\n",
    "X_seq, y_seq = create_sequences(X_rbm, y_scaled, lookback=30)\n",
    "split = int(0.75 * len(X_seq))\n",
    "X_train, X_test = X_seq[:split], X_seq[split:]\n",
    "y_train, y_test = y_seq[:split], y_seq[split:]\n",
    "\n",
    "results = []\n",
    "\n",
    "for epoch in [1, 2, 5, 10]:\n",
    "    model = Sequential([\n",
    "        LSTM(128, input_shape=(X_train.shape[1], X_train.shape[2])),\n",
    "        Dense(y_train.shape[1])\n",
    "    ])\n",
    "    model.compile(optimizer='adam', loss='mse')\n",
    "    model.fit(X_train, y_train, epochs=epoch, batch_size=64, verbose=0)\n",
    "\n",
    "    y_pred_scaled = model.predict(X_test)\n",
    "    y_pred = scaler_y.inverse_transform(y_pred_scaled)\n",
    "    y_true = scaler_y.inverse_transform(y_test)\n",
    "\n",
    "    results.append({\n",
    "        'Region': 'California' if region_code == 'CAL' else 'Texas',\n",
    "        'Epoch': epoch,\n",
    "        'MAE_Demand': mae(y_true[:, 0], y_pred[:, 0]),\n",
    "        'RMSE_Demand': rmse(y_true[:, 0], y_pred[:, 0]),\n",
    "        'MAPE_Demand(%)': mape(y_true[:, 0], y_pred[:, 0]),\n",
    "        'MAE_CO2': mae(y_true[:, 1], y_pred[:, 1]),\n",
    "        'RMSE_CO2': rmse(y_true[:, 1], y_pred[:, 1]),\n",
    "        'MAPE_CO2(%)': mape(y_true[:, 1], y_pred[:, 1])\n",
    "    })\n",
    "\n",
    "metrics_df = pd.DataFrame(results)\n",
    "print(metrics_df)\n"
   ]
  },
  {
   "cell_type": "code",
   "execution_count": 22,
   "id": "84ccb6bf-da48-4eb9-8520-87cf5a5cc15d",
   "metadata": {},
   "outputs": [
    {
     "name": "stderr",
     "output_type": "stream",
     "text": [
      "C:\\Users\\rosem\\AppData\\Roaming\\Python\\Python312\\site-packages\\keras\\src\\layers\\rnn\\rnn.py:199: UserWarning: Do not pass an `input_shape`/`input_dim` argument to a layer. When using Sequential models, prefer using an `Input(shape)` object as the first layer in the model instead.\n",
      "  super().__init__(**kwargs)\n"
     ]
    },
    {
     "name": "stdout",
     "output_type": "stream",
     "text": [
      "\u001b[1m411/411\u001b[0m \u001b[32m━━━━━━━━━━━━━━━━━━━━\u001b[0m\u001b[37m\u001b[0m \u001b[1m3s\u001b[0m 7ms/step\n"
     ]
    },
    {
     "name": "stderr",
     "output_type": "stream",
     "text": [
      "C:\\Users\\rosem\\AppData\\Roaming\\Python\\Python312\\site-packages\\keras\\src\\layers\\rnn\\rnn.py:199: UserWarning: Do not pass an `input_shape`/`input_dim` argument to a layer. When using Sequential models, prefer using an `Input(shape)` object as the first layer in the model instead.\n",
      "  super().__init__(**kwargs)\n"
     ]
    },
    {
     "name": "stdout",
     "output_type": "stream",
     "text": [
      "\u001b[1m411/411\u001b[0m \u001b[32m━━━━━━━━━━━━━━━━━━━━\u001b[0m\u001b[37m\u001b[0m \u001b[1m3s\u001b[0m 7ms/step\n"
     ]
    },
    {
     "name": "stderr",
     "output_type": "stream",
     "text": [
      "C:\\Users\\rosem\\AppData\\Roaming\\Python\\Python312\\site-packages\\keras\\src\\layers\\rnn\\rnn.py:199: UserWarning: Do not pass an `input_shape`/`input_dim` argument to a layer. When using Sequential models, prefer using an `Input(shape)` object as the first layer in the model instead.\n",
      "  super().__init__(**kwargs)\n"
     ]
    },
    {
     "name": "stdout",
     "output_type": "stream",
     "text": [
      "\u001b[1m411/411\u001b[0m \u001b[32m━━━━━━━━━━━━━━━━━━━━\u001b[0m\u001b[37m\u001b[0m \u001b[1m3s\u001b[0m 7ms/step\n"
     ]
    },
    {
     "name": "stderr",
     "output_type": "stream",
     "text": [
      "C:\\Users\\rosem\\AppData\\Roaming\\Python\\Python312\\site-packages\\keras\\src\\layers\\rnn\\rnn.py:199: UserWarning: Do not pass an `input_shape`/`input_dim` argument to a layer. When using Sequential models, prefer using an `Input(shape)` object as the first layer in the model instead.\n",
      "  super().__init__(**kwargs)\n"
     ]
    },
    {
     "name": "stdout",
     "output_type": "stream",
     "text": [
      "\u001b[1m411/411\u001b[0m \u001b[32m━━━━━━━━━━━━━━━━━━━━\u001b[0m\u001b[37m\u001b[0m \u001b[1m5s\u001b[0m 11ms/step\n",
      "  Region  Epoch   MAE_Demand  RMSE_Demand  MAPE_Demand(%)      MAE_CO2  \\\n",
      "0  Texas      1  4499.663106  5708.200351        8.758956  2002.153754   \n",
      "1  Texas      2  4406.041504  5430.424848        8.765065  1904.663526   \n",
      "2  Texas      5  4024.303178  4987.052072        7.991234  3099.456791   \n",
      "3  Texas     10  4041.314288  4944.127124        8.056258  2089.103409   \n",
      "\n",
      "      RMSE_CO2  MAPE_CO2(%)  \n",
      "0  2656.329423    14.677207  \n",
      "1  2519.189370    13.483957  \n",
      "2  3788.247876    22.410937  \n",
      "3  2871.061295    15.047056  \n"
     ]
    }
   ],
   "source": [
    "# import numpy as np\n",
    "# import pandas as pd\n",
    "# from sklearn.preprocessing import MinMaxScaler\n",
    "# from sklearn.neural_network import BernoulliRBM\n",
    "# from tensorflow.keras.models import Sequential\n",
    "# from tensorflow.keras.layers import LSTM, Dense\n",
    "\n",
    "def mae(y_true, y_pred):\n",
    "    return np.mean(np.abs(y_true - y_pred))\n",
    "def rmse(y_true, y_pred):\n",
    "    return np.sqrt(np.mean((y_true - y_pred) ** 2))\n",
    "def mape(y_true, y_pred):\n",
    "    return np.mean(np.abs((y_true - y_pred) / np.maximum(np.abs(y_true), 1e-6))) * 100\n",
    "\n",
    "feature_cols = [\n",
    "    'Hour', 'Month', 'DayOfWeek', 'Is_Weekend', 'DayOfYear', 'WeekOfYear',\n",
    "    'Season_Autumn', 'Season_Spring', 'Season_Summer', 'Season_Winter',\n",
    "    'Demand_Prev_Hour', 'Demand_Yesterday_Same_Hour', 'Demand_Last_Week_Same_Hour',\n",
    "    'Emission_Prev_Hour', 'Emission_Yesterday_Same_Hour', 'Emission_Last_Week_Same_Hour',\n",
    "    'Rolling_Mean_3H', 'Rolling_Mean_24H', 'Rolling_Mean_3H_Emission', 'Rolling_Mean_24H_Emission',\n",
    "    'Total_Gen', 'Renewable_Pct', 'Fossil_Pct', 'Renewable_Demand', 'Fossil_Demand', 'Demand_diff1', 'Demand_diff24'\n",
    "]\n",
    "target_cols = ['Demand', 'CO2_Total_Emissions']\n",
    "\n",
    "# ----------- CHANGE THIS FOR THE REGION ----------\n",
    "region_code = 'TEX'  # use 'TEX' for Texas\n",
    "\n",
    "region_df = df[df['Region'] == region_code].copy()\n",
    "region_df['Date'] = pd.to_datetime(region_df['Date'])\n",
    "region_df.set_index('Date', inplace=True)\n",
    "\n",
    "features = region_df[feature_cols]\n",
    "targets = region_df[target_cols]\n",
    "\n",
    "scaler_X = MinMaxScaler()\n",
    "X_scaled = scaler_X.fit_transform(features)\n",
    "\n",
    "rbm = BernoulliRBM(n_components=20, learning_rate=0.05, n_iter=20, random_state=42)\n",
    "X_rbm = rbm.fit_transform(X_scaled)\n",
    "\n",
    "scaler_y = MinMaxScaler()\n",
    "y_scaled = scaler_y.fit_transform(targets)\n",
    "\n",
    "def create_sequences(X, y, lookback=30):\n",
    "    Xs, ys = [], []\n",
    "    for i in range(lookback, len(X)):\n",
    "        Xs.append(X[i-lookback:i])\n",
    "        ys.append(y[i])\n",
    "    return np.array(Xs), np.array(ys)\n",
    "\n",
    "X_seq, y_seq = create_sequences(X_rbm, y_scaled, lookback=30)\n",
    "split = int(0.7 * len(X_seq))\n",
    "X_train, X_test = X_seq[:split], X_seq[split:]\n",
    "y_train, y_test = y_seq[:split], y_seq[split:]\n",
    "\n",
    "results = []\n",
    "\n",
    "for epoch in [1, 2, 5, 10]:\n",
    "    model = Sequential([\n",
    "        LSTM(128, input_shape=(X_train.shape[1], X_train.shape[2])),\n",
    "        Dense(y_train.shape[1])\n",
    "    ])\n",
    "    model.compile(optimizer='adam', loss='mse')\n",
    "    model.fit(X_train, y_train, epochs=epoch, batch_size=64, verbose=0)\n",
    "\n",
    "    y_pred_scaled = model.predict(X_test)\n",
    "    y_pred = scaler_y.inverse_transform(y_pred_scaled)\n",
    "    y_true = scaler_y.inverse_transform(y_test)\n",
    "\n",
    "    results.append({\n",
    "        'Region': 'California' if region_code == 'CAL' else 'Texas',\n",
    "        'Epoch': epoch,\n",
    "        'MAE_Demand': mae(y_true[:, 0], y_pred[:, 0]),\n",
    "        'RMSE_Demand': rmse(y_true[:, 0], y_pred[:, 0]),\n",
    "        'MAPE_Demand(%)': mape(y_true[:, 0], y_pred[:, 0]),\n",
    "        'MAE_CO2': mae(y_true[:, 1], y_pred[:, 1]),\n",
    "        'RMSE_CO2': rmse(y_true[:, 1], y_pred[:, 1]),\n",
    "        'MAPE_CO2(%)': mape(y_true[:, 1], y_pred[:, 1])\n",
    "    })\n",
    "\n",
    "metrics_df = pd.DataFrame(results)\n",
    "print(metrics_df)\n"
   ]
  },
  {
   "cell_type": "code",
   "execution_count": 23,
   "id": "dcfb48dd-ccbf-4bdb-b32c-c851b262a482",
   "metadata": {},
   "outputs": [
    {
     "name": "stderr",
     "output_type": "stream",
     "text": [
      "C:\\Users\\rosem\\AppData\\Roaming\\Python\\Python312\\site-packages\\keras\\src\\layers\\rnn\\rnn.py:199: UserWarning: Do not pass an `input_shape`/`input_dim` argument to a layer. When using Sequential models, prefer using an `Input(shape)` object as the first layer in the model instead.\n",
      "  super().__init__(**kwargs)\n"
     ]
    },
    {
     "name": "stdout",
     "output_type": "stream",
     "text": [
      "\u001b[1m479/479\u001b[0m \u001b[32m━━━━━━━━━━━━━━━━━━━━\u001b[0m\u001b[37m\u001b[0m \u001b[1m7s\u001b[0m 13ms/step\n"
     ]
    },
    {
     "name": "stderr",
     "output_type": "stream",
     "text": [
      "C:\\Users\\rosem\\AppData\\Roaming\\Python\\Python312\\site-packages\\keras\\src\\layers\\rnn\\rnn.py:199: UserWarning: Do not pass an `input_shape`/`input_dim` argument to a layer. When using Sequential models, prefer using an `Input(shape)` object as the first layer in the model instead.\n",
      "  super().__init__(**kwargs)\n"
     ]
    },
    {
     "name": "stdout",
     "output_type": "stream",
     "text": [
      "\u001b[1m479/479\u001b[0m \u001b[32m━━━━━━━━━━━━━━━━━━━━\u001b[0m\u001b[37m\u001b[0m \u001b[1m6s\u001b[0m 13ms/step\n"
     ]
    },
    {
     "name": "stderr",
     "output_type": "stream",
     "text": [
      "C:\\Users\\rosem\\AppData\\Roaming\\Python\\Python312\\site-packages\\keras\\src\\layers\\rnn\\rnn.py:199: UserWarning: Do not pass an `input_shape`/`input_dim` argument to a layer. When using Sequential models, prefer using an `Input(shape)` object as the first layer in the model instead.\n",
      "  super().__init__(**kwargs)\n"
     ]
    },
    {
     "name": "stdout",
     "output_type": "stream",
     "text": [
      "\u001b[1m479/479\u001b[0m \u001b[32m━━━━━━━━━━━━━━━━━━━━\u001b[0m\u001b[37m\u001b[0m \u001b[1m6s\u001b[0m 11ms/step\n"
     ]
    },
    {
     "name": "stderr",
     "output_type": "stream",
     "text": [
      "C:\\Users\\rosem\\AppData\\Roaming\\Python\\Python312\\site-packages\\keras\\src\\layers\\rnn\\rnn.py:199: UserWarning: Do not pass an `input_shape`/`input_dim` argument to a layer. When using Sequential models, prefer using an `Input(shape)` object as the first layer in the model instead.\n",
      "  super().__init__(**kwargs)\n"
     ]
    },
    {
     "name": "stdout",
     "output_type": "stream",
     "text": [
      "\u001b[1m479/479\u001b[0m \u001b[32m━━━━━━━━━━━━━━━━━━━━\u001b[0m\u001b[37m\u001b[0m \u001b[1m7s\u001b[0m 13ms/step\n",
      "  Region  Epoch   MAE_Demand  RMSE_Demand  MAPE_Demand(%)      MAE_CO2  \\\n",
      "0  Texas      1  3558.501255  4598.295861        7.155953  2659.749933   \n",
      "1  Texas      2  3475.276297  4492.519304        7.033273  3278.222368   \n",
      "2  Texas      5  4048.213346  5042.899630        8.204922  2615.834322   \n",
      "3  Texas     10  3867.234739  4822.782158        7.811876  2434.231490   \n",
      "\n",
      "      RMSE_CO2  MAPE_CO2(%)  \n",
      "0  3324.068911    19.980534  \n",
      "1  3994.439054    24.626919  \n",
      "2  3366.295052    18.853567  \n",
      "3  3062.518214    17.458389  \n"
     ]
    }
   ],
   "source": [
    "# import numpy as np\n",
    "# import pandas as pd\n",
    "# from sklearn.preprocessing import MinMaxScaler\n",
    "# from sklearn.neural_network import BernoulliRBM\n",
    "# from tensorflow.keras.models import Sequential\n",
    "# from tensorflow.keras.layers import LSTM, Dense\n",
    "\n",
    "def mae(y_true, y_pred):\n",
    "    return np.mean(np.abs(y_true - y_pred))\n",
    "def rmse(y_true, y_pred):\n",
    "    return np.sqrt(np.mean((y_true - y_pred) ** 2))\n",
    "def mape(y_true, y_pred):\n",
    "    return np.mean(np.abs((y_true - y_pred) / np.maximum(np.abs(y_true), 1e-6))) * 100\n",
    "\n",
    "feature_cols = [\n",
    "    'Hour', 'Month', 'DayOfWeek', 'Is_Weekend', 'DayOfYear', 'WeekOfYear',\n",
    "    'Season_Autumn', 'Season_Spring', 'Season_Summer', 'Season_Winter',\n",
    "    'Demand_Prev_Hour', 'Demand_Yesterday_Same_Hour', 'Demand_Last_Week_Same_Hour',\n",
    "    'Emission_Prev_Hour', 'Emission_Yesterday_Same_Hour', 'Emission_Last_Week_Same_Hour',\n",
    "    'Rolling_Mean_3H', 'Rolling_Mean_24H', 'Rolling_Mean_3H_Emission', 'Rolling_Mean_24H_Emission',\n",
    "    'Total_Gen', 'Renewable_Pct', 'Fossil_Pct', 'Renewable_Demand', 'Fossil_Demand', 'Demand_diff1', 'Demand_diff24'\n",
    "]\n",
    "target_cols = ['Demand', 'CO2_Total_Emissions']\n",
    "\n",
    "# ----------- CHANGE THIS FOR THE REGION ----------\n",
    "region_code = 'TEX'  # use 'TEX' for Texas\n",
    "\n",
    "region_df = df[df['Region'] == region_code].copy()\n",
    "region_df['Date'] = pd.to_datetime(region_df['Date'])\n",
    "region_df.set_index('Date', inplace=True)\n",
    "\n",
    "features = region_df[feature_cols]\n",
    "targets = region_df[target_cols]\n",
    "\n",
    "scaler_X = MinMaxScaler()\n",
    "X_scaled = scaler_X.fit_transform(features)\n",
    "\n",
    "rbm = BernoulliRBM(n_components=20, learning_rate=0.05, n_iter=20, random_state=42)\n",
    "X_rbm = rbm.fit_transform(X_scaled)\n",
    "\n",
    "scaler_y = MinMaxScaler()\n",
    "y_scaled = scaler_y.fit_transform(targets)\n",
    "\n",
    "def create_sequences(X, y, lookback=30):\n",
    "    Xs, ys = [], []\n",
    "    for i in range(lookback, len(X)):\n",
    "        Xs.append(X[i-lookback:i])\n",
    "        ys.append(y[i])\n",
    "    return np.array(Xs), np.array(ys)\n",
    "\n",
    "X_seq, y_seq = create_sequences(X_rbm, y_scaled, lookback=30)\n",
    "split = int(0.65 * len(X_seq))\n",
    "X_train, X_test = X_seq[:split], X_seq[split:]\n",
    "y_train, y_test = y_seq[:split], y_seq[split:]\n",
    "\n",
    "results = []\n",
    "\n",
    "for epoch in [1, 2, 5, 10]:\n",
    "    model = Sequential([\n",
    "        LSTM(128, input_shape=(X_train.shape[1], X_train.shape[2])),\n",
    "        Dense(y_train.shape[1])\n",
    "    ])\n",
    "    model.compile(optimizer='adam', loss='mse')\n",
    "    model.fit(X_train, y_train, epochs=epoch, batch_size=64, verbose=0)\n",
    "\n",
    "    y_pred_scaled = model.predict(X_test)\n",
    "    y_pred = scaler_y.inverse_transform(y_pred_scaled)\n",
    "    y_true = scaler_y.inverse_transform(y_test)\n",
    "\n",
    "    results.append({\n",
    "        'Region': 'California' if region_code == 'CAL' else 'Texas',\n",
    "        'Epoch': epoch,\n",
    "        'MAE_Demand': mae(y_true[:, 0], y_pred[:, 0]),\n",
    "        'RMSE_Demand': rmse(y_true[:, 0], y_pred[:, 0]),\n",
    "        'MAPE_Demand(%)': mape(y_true[:, 0], y_pred[:, 0]),\n",
    "        'MAE_CO2': mae(y_true[:, 1], y_pred[:, 1]),\n",
    "        'RMSE_CO2': rmse(y_true[:, 1], y_pred[:, 1]),\n",
    "        'MAPE_CO2(%)': mape(y_true[:, 1], y_pred[:, 1])\n",
    "    })\n",
    "\n",
    "metrics_df = pd.DataFrame(results)\n",
    "print(metrics_df)\n"
   ]
  },
  {
   "cell_type": "code",
   "execution_count": 24,
   "id": "a9e511d4-f0e1-45a2-959e-3b3f47672af7",
   "metadata": {},
   "outputs": [
    {
     "name": "stderr",
     "output_type": "stream",
     "text": [
      "C:\\Users\\rosem\\AppData\\Roaming\\Python\\Python312\\site-packages\\keras\\src\\layers\\rnn\\rnn.py:199: UserWarning: Do not pass an `input_shape`/`input_dim` argument to a layer. When using Sequential models, prefer using an `Input(shape)` object as the first layer in the model instead.\n",
      "  super().__init__(**kwargs)\n"
     ]
    },
    {
     "name": "stdout",
     "output_type": "stream",
     "text": [
      "\u001b[1m547/547\u001b[0m \u001b[32m━━━━━━━━━━━━━━━━━━━━\u001b[0m\u001b[37m\u001b[0m \u001b[1m7s\u001b[0m 13ms/step\n"
     ]
    },
    {
     "name": "stderr",
     "output_type": "stream",
     "text": [
      "C:\\Users\\rosem\\AppData\\Roaming\\Python\\Python312\\site-packages\\keras\\src\\layers\\rnn\\rnn.py:199: UserWarning: Do not pass an `input_shape`/`input_dim` argument to a layer. When using Sequential models, prefer using an `Input(shape)` object as the first layer in the model instead.\n",
      "  super().__init__(**kwargs)\n"
     ]
    },
    {
     "name": "stdout",
     "output_type": "stream",
     "text": [
      "\u001b[1m547/547\u001b[0m \u001b[32m━━━━━━━━━━━━━━━━━━━━\u001b[0m\u001b[37m\u001b[0m \u001b[1m7s\u001b[0m 13ms/step\n"
     ]
    },
    {
     "name": "stderr",
     "output_type": "stream",
     "text": [
      "C:\\Users\\rosem\\AppData\\Roaming\\Python\\Python312\\site-packages\\keras\\src\\layers\\rnn\\rnn.py:199: UserWarning: Do not pass an `input_shape`/`input_dim` argument to a layer. When using Sequential models, prefer using an `Input(shape)` object as the first layer in the model instead.\n",
      "  super().__init__(**kwargs)\n"
     ]
    },
    {
     "name": "stdout",
     "output_type": "stream",
     "text": [
      "\u001b[1m547/547\u001b[0m \u001b[32m━━━━━━━━━━━━━━━━━━━━\u001b[0m\u001b[37m\u001b[0m \u001b[1m7s\u001b[0m 12ms/step\n"
     ]
    },
    {
     "name": "stderr",
     "output_type": "stream",
     "text": [
      "C:\\Users\\rosem\\AppData\\Roaming\\Python\\Python312\\site-packages\\keras\\src\\layers\\rnn\\rnn.py:199: UserWarning: Do not pass an `input_shape`/`input_dim` argument to a layer. When using Sequential models, prefer using an `Input(shape)` object as the first layer in the model instead.\n",
      "  super().__init__(**kwargs)\n"
     ]
    },
    {
     "name": "stdout",
     "output_type": "stream",
     "text": [
      "\u001b[1m547/547\u001b[0m \u001b[32m━━━━━━━━━━━━━━━━━━━━\u001b[0m\u001b[37m\u001b[0m \u001b[1m17s\u001b[0m 30ms/step\n",
      "  Region  Epoch   MAE_Demand  RMSE_Demand  MAPE_Demand(%)      MAE_CO2  \\\n",
      "0  Texas      1  3798.381270  5001.417314        7.487992  2277.620260   \n",
      "1  Texas      2  4116.649573  5209.796156        8.207347  2532.555740   \n",
      "2  Texas      5  4028.111021  5118.288938        7.987473  2516.018724   \n",
      "3  Texas     10  3700.464917  4552.169511        7.527494  2508.222197   \n",
      "\n",
      "      RMSE_CO2  MAPE_CO2(%)  \n",
      "0  2947.546986    16.052985  \n",
      "1  3163.169569    17.875209  \n",
      "2  3154.663522    17.233541  \n",
      "3  3143.743165    17.217024  \n"
     ]
    }
   ],
   "source": [
    "# import numpy as np\n",
    "# import pandas as pd\n",
    "# from sklearn.preprocessing import MinMaxScaler\n",
    "# from sklearn.neural_network import BernoulliRBM\n",
    "# from tensorflow.keras.models import Sequential\n",
    "# from tensorflow.keras.layers import LSTM, Dense\n",
    "\n",
    "def mae(y_true, y_pred):\n",
    "    return np.mean(np.abs(y_true - y_pred))\n",
    "def rmse(y_true, y_pred):\n",
    "    return np.sqrt(np.mean((y_true - y_pred) ** 2))\n",
    "def mape(y_true, y_pred):\n",
    "    return np.mean(np.abs((y_true - y_pred) / np.maximum(np.abs(y_true), 1e-6))) * 100\n",
    "\n",
    "feature_cols = [\n",
    "    'Hour', 'Month', 'DayOfWeek', 'Is_Weekend', 'DayOfYear', 'WeekOfYear',\n",
    "    'Season_Autumn', 'Season_Spring', 'Season_Summer', 'Season_Winter',\n",
    "    'Demand_Prev_Hour', 'Demand_Yesterday_Same_Hour', 'Demand_Last_Week_Same_Hour',\n",
    "    'Emission_Prev_Hour', 'Emission_Yesterday_Same_Hour', 'Emission_Last_Week_Same_Hour',\n",
    "    'Rolling_Mean_3H', 'Rolling_Mean_24H', 'Rolling_Mean_3H_Emission', 'Rolling_Mean_24H_Emission',\n",
    "    'Total_Gen', 'Renewable_Pct', 'Fossil_Pct', 'Renewable_Demand', 'Fossil_Demand', 'Demand_diff1', 'Demand_diff24'\n",
    "]\n",
    "target_cols = ['Demand', 'CO2_Total_Emissions']\n",
    "\n",
    "# ----------- CHANGE THIS FOR THE REGION ----------\n",
    "region_code = 'TEX'  # use 'TEX' for Texas\n",
    "\n",
    "region_df = df[df['Region'] == region_code].copy()\n",
    "region_df['Date'] = pd.to_datetime(region_df['Date'])\n",
    "region_df.set_index('Date', inplace=True)\n",
    "\n",
    "features = region_df[feature_cols]\n",
    "targets = region_df[target_cols]\n",
    "\n",
    "scaler_X = MinMaxScaler()\n",
    "X_scaled = scaler_X.fit_transform(features)\n",
    "\n",
    "rbm = BernoulliRBM(n_components=20, learning_rate=0.05, n_iter=20, random_state=42)\n",
    "X_rbm = rbm.fit_transform(X_scaled)\n",
    "\n",
    "scaler_y = MinMaxScaler()\n",
    "y_scaled = scaler_y.fit_transform(targets)\n",
    "\n",
    "def create_sequences(X, y, lookback=30):\n",
    "    Xs, ys = [], []\n",
    "    for i in range(lookback, len(X)):\n",
    "        Xs.append(X[i-lookback:i])\n",
    "        ys.append(y[i])\n",
    "    return np.array(Xs), np.array(ys)\n",
    "\n",
    "X_seq, y_seq = create_sequences(X_rbm, y_scaled, lookback=30)\n",
    "split = int(0.6 * len(X_seq))\n",
    "X_train, X_test = X_seq[:split], X_seq[split:]\n",
    "y_train, y_test = y_seq[:split], y_seq[split:]\n",
    "\n",
    "results = []\n",
    "\n",
    "for epoch in [1, 2, 5, 10]:\n",
    "    model = Sequential([\n",
    "        LSTM(128, input_shape=(X_train.shape[1], X_train.shape[2])),\n",
    "        Dense(y_train.shape[1])\n",
    "    ])\n",
    "    model.compile(optimizer='adam', loss='mse')\n",
    "    model.fit(X_train, y_train, epochs=epoch, batch_size=64, verbose=0)\n",
    "\n",
    "    y_pred_scaled = model.predict(X_test)\n",
    "    y_pred = scaler_y.inverse_transform(y_pred_scaled)\n",
    "    y_true = scaler_y.inverse_transform(y_test)\n",
    "\n",
    "    results.append({\n",
    "        'Region': 'California' if region_code == 'CAL' else 'Texas',\n",
    "        'Epoch': epoch,\n",
    "        'MAE_Demand': mae(y_true[:, 0], y_pred[:, 0]),\n",
    "        'RMSE_Demand': rmse(y_true[:, 0], y_pred[:, 0]),\n",
    "        'MAPE_Demand(%)': mape(y_true[:, 0], y_pred[:, 0]),\n",
    "        'MAE_CO2': mae(y_true[:, 1], y_pred[:, 1]),\n",
    "        'RMSE_CO2': rmse(y_true[:, 1], y_pred[:, 1]),\n",
    "        'MAPE_CO2(%)': mape(y_true[:, 1], y_pred[:, 1])\n",
    "    })\n",
    "\n",
    "metrics_df = pd.DataFrame(results)\n",
    "print(metrics_df)\n"
   ]
  },
  {
   "cell_type": "code",
   "execution_count": null,
   "id": "9db77576-e6a6-49a2-b0d9-19e1170663f7",
   "metadata": {},
   "outputs": [],
   "source": []
  },
  {
   "cell_type": "code",
   "execution_count": null,
   "id": "f78fa8dd-fd7e-450d-ad9d-c0c5b5a4c2f2",
   "metadata": {},
   "outputs": [],
   "source": []
  }
 ],
 "metadata": {
  "kernelspec": {
   "display_name": "Python [conda env:base] *",
   "language": "python",
   "name": "conda-base-py"
  },
  "language_info": {
   "codemirror_mode": {
    "name": "ipython",
    "version": 3
   },
   "file_extension": ".py",
   "mimetype": "text/x-python",
   "name": "python",
   "nbconvert_exporter": "python",
   "pygments_lexer": "ipython3",
   "version": "3.12.7"
  }
 },
 "nbformat": 4,
 "nbformat_minor": 5
}
